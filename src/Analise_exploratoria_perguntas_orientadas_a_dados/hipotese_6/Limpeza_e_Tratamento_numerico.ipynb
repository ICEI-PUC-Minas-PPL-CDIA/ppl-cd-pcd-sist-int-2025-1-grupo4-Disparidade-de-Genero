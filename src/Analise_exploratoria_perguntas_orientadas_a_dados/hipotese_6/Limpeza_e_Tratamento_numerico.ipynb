{
  "nbformat": 4,
  "nbformat_minor": 0,
  "metadata": {
    "colab": {
      "provenance": []
    },
    "kernelspec": {
      "name": "python3",
      "display_name": "Python 3"
    },
    "language_info": {
      "name": "python"
    }
  },
  "cells": [
    {
      "cell_type": "markdown",
      "source": [
        "## Importação das bibliotecas"
      ],
      "metadata": {
        "id": "WGrYoyWOEkDa"
      }
    },
    {
      "cell_type": "code",
      "source": [
        "import pandas as pd\n",
        "import seaborn as sns\n",
        "import matplotlib.pyplot as plt\n",
        "from sklearn.tree import DecisionTreeClassifier, plot_tree\n",
        "from sklearn.model_selection import train_test_split\n",
        "from sklearn.preprocessing import LabelEncoder, OneHotEncoder\n",
        "from sklearn.metrics import classification_report, accuracy_score"
      ],
      "metadata": {
        "id": "GqXm_r6HhNfP"
      },
      "execution_count": 88,
      "outputs": []
    },
    {
      "cell_type": "markdown",
      "source": [
        "## Leitura da base"
      ],
      "metadata": {
        "id": "YuwSqZUtF0PI"
      }
    },
    {
      "cell_type": "code",
      "source": [
        "base = pd.read_csv('/content/drive/MyDrive/PCD1/assets/data/bases_modificadas/State of Data atributos selecionados.csv')\n",
        "base.head()"
      ],
      "metadata": {
        "colab": {
          "base_uri": "https://localhost:8080/",
          "height": 362
        },
        "id": "ues1vZFqhUPO",
        "outputId": "3f6763f6-fb8c-4aa3-d70d-74bae62f874f"
      },
      "execution_count": 89,
      "outputs": [
        {
          "output_type": "execute_result",
          "data": {
            "text/plain": [
              "   Idade     Genero Cor/raca/etnia  PCD  \\\n",
              "0     31  Masculino         Branca  Não   \n",
              "1     30  Masculino         Branca  Não   \n",
              "2     37   Feminino        Amarela  Não   \n",
              "3     22  Masculino          Preta  Não   \n",
              "4     34  Masculino         Branca  Não   \n",
              "\n",
              "   Oportunidade de Progressão de Carreira  UF Regiao onde mora  \\\n",
              "0                                     NaN  MG          Sudeste   \n",
              "1                                     NaN  ES          Sudeste   \n",
              "2                                     0.0  SP          Sudeste   \n",
              "3                                     NaN  SP          Sudeste   \n",
              "4                                     NaN  MG          Sudeste   \n",
              "\n",
              "          Nivel de Ensino                                   Area de Formação  \\\n",
              "0        Doutorado ou Phd  Computação / Engenharia de Software / Sistemas...   \n",
              "1   Graduação/Bacharelado  Computação / Engenharia de Software / Sistemas...   \n",
              "2   Graduação/Bacharelado  Computação / Engenharia de Software / Sistemas...   \n",
              "3  Estudante de Graduação  Computação / Engenharia de Software / Sistemas...   \n",
              "4        Doutorado ou Phd  Economia/ Administração / Contabilidade / Fina...   \n",
              "\n",
              "           Situação atual de Trabalho               Setor  \\\n",
              "0                     Empregado (CLT)  Finanças ou Bancos   \n",
              "1    Empreendedor ou Empregado (CNPJ)  Finanças ou Bancos   \n",
              "2                     Empregado (CLT)  Finanças ou Bancos   \n",
              "3  Desempregado, buscando recolocação                 NaN   \n",
              "4    Empreendedor ou Empregado (CNPJ)         Outra Opção   \n",
              "\n",
              "                               Cargo   Nivel  \\\n",
              "0  Cientista de Dados/Data Scientist  Sênior   \n",
              "1          Analista de BI/BI Analyst   Pleno   \n",
              "2     Analista de Dados/Data Analyst  Júnior   \n",
              "3                                NaN     NaN   \n",
              "4     Analista de Dados/Data Analyst  Júnior   \n",
              "\n",
              "                                   Forma de Trabalho  \\\n",
              "0  Modelo híbrido flexível (o funcionário tem lib...   \n",
              "1                                 Modelo 100% remoto   \n",
              "2  Modelo híbrido flexível (o funcionário tem lib...   \n",
              "3                                                NaN   \n",
              "4                                 Modelo 100% remoto   \n",
              "\n",
              "                                  Atuação  \n",
              "0                        Ciência de Dados  \n",
              "1                        Análise de Dados  \n",
              "2                        Ciência de Dados  \n",
              "3  Buscando oportunidade na área de dados  \n",
              "4                        Análise de Dados  "
            ],
            "text/html": [
              "\n",
              "  <div id=\"df-e6d8ac7e-9b95-4c02-8db4-bc47461406e1\" class=\"colab-df-container\">\n",
              "    <div>\n",
              "<style scoped>\n",
              "    .dataframe tbody tr th:only-of-type {\n",
              "        vertical-align: middle;\n",
              "    }\n",
              "\n",
              "    .dataframe tbody tr th {\n",
              "        vertical-align: top;\n",
              "    }\n",
              "\n",
              "    .dataframe thead th {\n",
              "        text-align: right;\n",
              "    }\n",
              "</style>\n",
              "<table border=\"1\" class=\"dataframe\">\n",
              "  <thead>\n",
              "    <tr style=\"text-align: right;\">\n",
              "      <th></th>\n",
              "      <th>Idade</th>\n",
              "      <th>Genero</th>\n",
              "      <th>Cor/raca/etnia</th>\n",
              "      <th>PCD</th>\n",
              "      <th>Oportunidade de Progressão de Carreira</th>\n",
              "      <th>UF</th>\n",
              "      <th>Regiao onde mora</th>\n",
              "      <th>Nivel de Ensino</th>\n",
              "      <th>Area de Formação</th>\n",
              "      <th>Situação atual de Trabalho</th>\n",
              "      <th>Setor</th>\n",
              "      <th>Cargo</th>\n",
              "      <th>Nivel</th>\n",
              "      <th>Forma de Trabalho</th>\n",
              "      <th>Atuação</th>\n",
              "    </tr>\n",
              "  </thead>\n",
              "  <tbody>\n",
              "    <tr>\n",
              "      <th>0</th>\n",
              "      <td>31</td>\n",
              "      <td>Masculino</td>\n",
              "      <td>Branca</td>\n",
              "      <td>Não</td>\n",
              "      <td>NaN</td>\n",
              "      <td>MG</td>\n",
              "      <td>Sudeste</td>\n",
              "      <td>Doutorado ou Phd</td>\n",
              "      <td>Computação / Engenharia de Software / Sistemas...</td>\n",
              "      <td>Empregado (CLT)</td>\n",
              "      <td>Finanças ou Bancos</td>\n",
              "      <td>Cientista de Dados/Data Scientist</td>\n",
              "      <td>Sênior</td>\n",
              "      <td>Modelo híbrido flexível (o funcionário tem lib...</td>\n",
              "      <td>Ciência de Dados</td>\n",
              "    </tr>\n",
              "    <tr>\n",
              "      <th>1</th>\n",
              "      <td>30</td>\n",
              "      <td>Masculino</td>\n",
              "      <td>Branca</td>\n",
              "      <td>Não</td>\n",
              "      <td>NaN</td>\n",
              "      <td>ES</td>\n",
              "      <td>Sudeste</td>\n",
              "      <td>Graduação/Bacharelado</td>\n",
              "      <td>Computação / Engenharia de Software / Sistemas...</td>\n",
              "      <td>Empreendedor ou Empregado (CNPJ)</td>\n",
              "      <td>Finanças ou Bancos</td>\n",
              "      <td>Analista de BI/BI Analyst</td>\n",
              "      <td>Pleno</td>\n",
              "      <td>Modelo 100% remoto</td>\n",
              "      <td>Análise de Dados</td>\n",
              "    </tr>\n",
              "    <tr>\n",
              "      <th>2</th>\n",
              "      <td>37</td>\n",
              "      <td>Feminino</td>\n",
              "      <td>Amarela</td>\n",
              "      <td>Não</td>\n",
              "      <td>0.0</td>\n",
              "      <td>SP</td>\n",
              "      <td>Sudeste</td>\n",
              "      <td>Graduação/Bacharelado</td>\n",
              "      <td>Computação / Engenharia de Software / Sistemas...</td>\n",
              "      <td>Empregado (CLT)</td>\n",
              "      <td>Finanças ou Bancos</td>\n",
              "      <td>Analista de Dados/Data Analyst</td>\n",
              "      <td>Júnior</td>\n",
              "      <td>Modelo híbrido flexível (o funcionário tem lib...</td>\n",
              "      <td>Ciência de Dados</td>\n",
              "    </tr>\n",
              "    <tr>\n",
              "      <th>3</th>\n",
              "      <td>22</td>\n",
              "      <td>Masculino</td>\n",
              "      <td>Preta</td>\n",
              "      <td>Não</td>\n",
              "      <td>NaN</td>\n",
              "      <td>SP</td>\n",
              "      <td>Sudeste</td>\n",
              "      <td>Estudante de Graduação</td>\n",
              "      <td>Computação / Engenharia de Software / Sistemas...</td>\n",
              "      <td>Desempregado, buscando recolocação</td>\n",
              "      <td>NaN</td>\n",
              "      <td>NaN</td>\n",
              "      <td>NaN</td>\n",
              "      <td>NaN</td>\n",
              "      <td>Buscando oportunidade na área de dados</td>\n",
              "    </tr>\n",
              "    <tr>\n",
              "      <th>4</th>\n",
              "      <td>34</td>\n",
              "      <td>Masculino</td>\n",
              "      <td>Branca</td>\n",
              "      <td>Não</td>\n",
              "      <td>NaN</td>\n",
              "      <td>MG</td>\n",
              "      <td>Sudeste</td>\n",
              "      <td>Doutorado ou Phd</td>\n",
              "      <td>Economia/ Administração / Contabilidade / Fina...</td>\n",
              "      <td>Empreendedor ou Empregado (CNPJ)</td>\n",
              "      <td>Outra Opção</td>\n",
              "      <td>Analista de Dados/Data Analyst</td>\n",
              "      <td>Júnior</td>\n",
              "      <td>Modelo 100% remoto</td>\n",
              "      <td>Análise de Dados</td>\n",
              "    </tr>\n",
              "  </tbody>\n",
              "</table>\n",
              "</div>\n",
              "    <div class=\"colab-df-buttons\">\n",
              "\n",
              "  <div class=\"colab-df-container\">\n",
              "    <button class=\"colab-df-convert\" onclick=\"convertToInteractive('df-e6d8ac7e-9b95-4c02-8db4-bc47461406e1')\"\n",
              "            title=\"Convert this dataframe to an interactive table.\"\n",
              "            style=\"display:none;\">\n",
              "\n",
              "  <svg xmlns=\"http://www.w3.org/2000/svg\" height=\"24px\" viewBox=\"0 -960 960 960\">\n",
              "    <path d=\"M120-120v-720h720v720H120Zm60-500h600v-160H180v160Zm220 220h160v-160H400v160Zm0 220h160v-160H400v160ZM180-400h160v-160H180v160Zm440 0h160v-160H620v160ZM180-180h160v-160H180v160Zm440 0h160v-160H620v160Z\"/>\n",
              "  </svg>\n",
              "    </button>\n",
              "\n",
              "  <style>\n",
              "    .colab-df-container {\n",
              "      display:flex;\n",
              "      gap: 12px;\n",
              "    }\n",
              "\n",
              "    .colab-df-convert {\n",
              "      background-color: #E8F0FE;\n",
              "      border: none;\n",
              "      border-radius: 50%;\n",
              "      cursor: pointer;\n",
              "      display: none;\n",
              "      fill: #1967D2;\n",
              "      height: 32px;\n",
              "      padding: 0 0 0 0;\n",
              "      width: 32px;\n",
              "    }\n",
              "\n",
              "    .colab-df-convert:hover {\n",
              "      background-color: #E2EBFA;\n",
              "      box-shadow: 0px 1px 2px rgba(60, 64, 67, 0.3), 0px 1px 3px 1px rgba(60, 64, 67, 0.15);\n",
              "      fill: #174EA6;\n",
              "    }\n",
              "\n",
              "    .colab-df-buttons div {\n",
              "      margin-bottom: 4px;\n",
              "    }\n",
              "\n",
              "    [theme=dark] .colab-df-convert {\n",
              "      background-color: #3B4455;\n",
              "      fill: #D2E3FC;\n",
              "    }\n",
              "\n",
              "    [theme=dark] .colab-df-convert:hover {\n",
              "      background-color: #434B5C;\n",
              "      box-shadow: 0px 1px 3px 1px rgba(0, 0, 0, 0.15);\n",
              "      filter: drop-shadow(0px 1px 2px rgba(0, 0, 0, 0.3));\n",
              "      fill: #FFFFFF;\n",
              "    }\n",
              "  </style>\n",
              "\n",
              "    <script>\n",
              "      const buttonEl =\n",
              "        document.querySelector('#df-e6d8ac7e-9b95-4c02-8db4-bc47461406e1 button.colab-df-convert');\n",
              "      buttonEl.style.display =\n",
              "        google.colab.kernel.accessAllowed ? 'block' : 'none';\n",
              "\n",
              "      async function convertToInteractive(key) {\n",
              "        const element = document.querySelector('#df-e6d8ac7e-9b95-4c02-8db4-bc47461406e1');\n",
              "        const dataTable =\n",
              "          await google.colab.kernel.invokeFunction('convertToInteractive',\n",
              "                                                    [key], {});\n",
              "        if (!dataTable) return;\n",
              "\n",
              "        const docLinkHtml = 'Like what you see? Visit the ' +\n",
              "          '<a target=\"_blank\" href=https://colab.research.google.com/notebooks/data_table.ipynb>data table notebook</a>'\n",
              "          + ' to learn more about interactive tables.';\n",
              "        element.innerHTML = '';\n",
              "        dataTable['output_type'] = 'display_data';\n",
              "        await google.colab.output.renderOutput(dataTable, element);\n",
              "        const docLink = document.createElement('div');\n",
              "        docLink.innerHTML = docLinkHtml;\n",
              "        element.appendChild(docLink);\n",
              "      }\n",
              "    </script>\n",
              "  </div>\n",
              "\n",
              "\n",
              "    <div id=\"df-81059ad5-5aec-4a41-99b7-7ccb5b99c2bd\">\n",
              "      <button class=\"colab-df-quickchart\" onclick=\"quickchart('df-81059ad5-5aec-4a41-99b7-7ccb5b99c2bd')\"\n",
              "                title=\"Suggest charts\"\n",
              "                style=\"display:none;\">\n",
              "\n",
              "<svg xmlns=\"http://www.w3.org/2000/svg\" height=\"24px\"viewBox=\"0 0 24 24\"\n",
              "     width=\"24px\">\n",
              "    <g>\n",
              "        <path d=\"M19 3H5c-1.1 0-2 .9-2 2v14c0 1.1.9 2 2 2h14c1.1 0 2-.9 2-2V5c0-1.1-.9-2-2-2zM9 17H7v-7h2v7zm4 0h-2V7h2v10zm4 0h-2v-4h2v4z\"/>\n",
              "    </g>\n",
              "</svg>\n",
              "      </button>\n",
              "\n",
              "<style>\n",
              "  .colab-df-quickchart {\n",
              "      --bg-color: #E8F0FE;\n",
              "      --fill-color: #1967D2;\n",
              "      --hover-bg-color: #E2EBFA;\n",
              "      --hover-fill-color: #174EA6;\n",
              "      --disabled-fill-color: #AAA;\n",
              "      --disabled-bg-color: #DDD;\n",
              "  }\n",
              "\n",
              "  [theme=dark] .colab-df-quickchart {\n",
              "      --bg-color: #3B4455;\n",
              "      --fill-color: #D2E3FC;\n",
              "      --hover-bg-color: #434B5C;\n",
              "      --hover-fill-color: #FFFFFF;\n",
              "      --disabled-bg-color: #3B4455;\n",
              "      --disabled-fill-color: #666;\n",
              "  }\n",
              "\n",
              "  .colab-df-quickchart {\n",
              "    background-color: var(--bg-color);\n",
              "    border: none;\n",
              "    border-radius: 50%;\n",
              "    cursor: pointer;\n",
              "    display: none;\n",
              "    fill: var(--fill-color);\n",
              "    height: 32px;\n",
              "    padding: 0;\n",
              "    width: 32px;\n",
              "  }\n",
              "\n",
              "  .colab-df-quickchart:hover {\n",
              "    background-color: var(--hover-bg-color);\n",
              "    box-shadow: 0 1px 2px rgba(60, 64, 67, 0.3), 0 1px 3px 1px rgba(60, 64, 67, 0.15);\n",
              "    fill: var(--button-hover-fill-color);\n",
              "  }\n",
              "\n",
              "  .colab-df-quickchart-complete:disabled,\n",
              "  .colab-df-quickchart-complete:disabled:hover {\n",
              "    background-color: var(--disabled-bg-color);\n",
              "    fill: var(--disabled-fill-color);\n",
              "    box-shadow: none;\n",
              "  }\n",
              "\n",
              "  .colab-df-spinner {\n",
              "    border: 2px solid var(--fill-color);\n",
              "    border-color: transparent;\n",
              "    border-bottom-color: var(--fill-color);\n",
              "    animation:\n",
              "      spin 1s steps(1) infinite;\n",
              "  }\n",
              "\n",
              "  @keyframes spin {\n",
              "    0% {\n",
              "      border-color: transparent;\n",
              "      border-bottom-color: var(--fill-color);\n",
              "      border-left-color: var(--fill-color);\n",
              "    }\n",
              "    20% {\n",
              "      border-color: transparent;\n",
              "      border-left-color: var(--fill-color);\n",
              "      border-top-color: var(--fill-color);\n",
              "    }\n",
              "    30% {\n",
              "      border-color: transparent;\n",
              "      border-left-color: var(--fill-color);\n",
              "      border-top-color: var(--fill-color);\n",
              "      border-right-color: var(--fill-color);\n",
              "    }\n",
              "    40% {\n",
              "      border-color: transparent;\n",
              "      border-right-color: var(--fill-color);\n",
              "      border-top-color: var(--fill-color);\n",
              "    }\n",
              "    60% {\n",
              "      border-color: transparent;\n",
              "      border-right-color: var(--fill-color);\n",
              "    }\n",
              "    80% {\n",
              "      border-color: transparent;\n",
              "      border-right-color: var(--fill-color);\n",
              "      border-bottom-color: var(--fill-color);\n",
              "    }\n",
              "    90% {\n",
              "      border-color: transparent;\n",
              "      border-bottom-color: var(--fill-color);\n",
              "    }\n",
              "  }\n",
              "</style>\n",
              "\n",
              "      <script>\n",
              "        async function quickchart(key) {\n",
              "          const quickchartButtonEl =\n",
              "            document.querySelector('#' + key + ' button');\n",
              "          quickchartButtonEl.disabled = true;  // To prevent multiple clicks.\n",
              "          quickchartButtonEl.classList.add('colab-df-spinner');\n",
              "          try {\n",
              "            const charts = await google.colab.kernel.invokeFunction(\n",
              "                'suggestCharts', [key], {});\n",
              "          } catch (error) {\n",
              "            console.error('Error during call to suggestCharts:', error);\n",
              "          }\n",
              "          quickchartButtonEl.classList.remove('colab-df-spinner');\n",
              "          quickchartButtonEl.classList.add('colab-df-quickchart-complete');\n",
              "        }\n",
              "        (() => {\n",
              "          let quickchartButtonEl =\n",
              "            document.querySelector('#df-81059ad5-5aec-4a41-99b7-7ccb5b99c2bd button');\n",
              "          quickchartButtonEl.style.display =\n",
              "            google.colab.kernel.accessAllowed ? 'block' : 'none';\n",
              "        })();\n",
              "      </script>\n",
              "    </div>\n",
              "\n",
              "    </div>\n",
              "  </div>\n"
            ],
            "application/vnd.google.colaboratory.intrinsic+json": {
              "type": "dataframe",
              "variable_name": "base",
              "summary": "{\n  \"name\": \"base\",\n  \"rows\": 5293,\n  \"fields\": [\n    {\n      \"column\": \"Idade\",\n      \"properties\": {\n        \"dtype\": \"number\",\n        \"std\": 7,\n        \"min\": 18,\n        \"max\": 73,\n        \"num_unique_values\": 53,\n        \"samples\": [\n          23,\n          18,\n          61\n        ],\n        \"semantic_type\": \"\",\n        \"description\": \"\"\n      }\n    },\n    {\n      \"column\": \"Genero\",\n      \"properties\": {\n        \"dtype\": \"category\",\n        \"num_unique_values\": 4,\n        \"samples\": [\n          \"Feminino\",\n          \"Prefiro n\\u00e3o informar\",\n          \"Masculino\"\n        ],\n        \"semantic_type\": \"\",\n        \"description\": \"\"\n      }\n    },\n    {\n      \"column\": \"Cor/raca/etnia\",\n      \"properties\": {\n        \"dtype\": \"category\",\n        \"num_unique_values\": 7,\n        \"samples\": [\n          \"Branca\",\n          \"Amarela\",\n          \"Outra\"\n        ],\n        \"semantic_type\": \"\",\n        \"description\": \"\"\n      }\n    },\n    {\n      \"column\": \"PCD\",\n      \"properties\": {\n        \"dtype\": \"category\",\n        \"num_unique_values\": 3,\n        \"samples\": [\n          \"N\\u00e3o\",\n          \"Sim\",\n          \"Prefiro n\\u00e3o informar\"\n        ],\n        \"semantic_type\": \"\",\n        \"description\": \"\"\n      }\n    },\n    {\n      \"column\": \"Oportunidade de Progress\\u00e3o de Carreira\",\n      \"properties\": {\n        \"dtype\": \"number\",\n        \"std\": 0.5001155614850984,\n        \"min\": 0.0,\n        \"max\": 1.0,\n        \"num_unique_values\": 2,\n        \"samples\": [\n          1.0,\n          0.0\n        ],\n        \"semantic_type\": \"\",\n        \"description\": \"\"\n      }\n    },\n    {\n      \"column\": \"UF\",\n      \"properties\": {\n        \"dtype\": \"category\",\n        \"num_unique_values\": 25,\n        \"samples\": [\n          \"PR\",\n          \"CE\"\n        ],\n        \"semantic_type\": \"\",\n        \"description\": \"\"\n      }\n    },\n    {\n      \"column\": \"Regiao onde mora\",\n      \"properties\": {\n        \"dtype\": \"category\",\n        \"num_unique_values\": 5,\n        \"samples\": [\n          \"Nordeste\",\n          \"Norte\"\n        ],\n        \"semantic_type\": \"\",\n        \"description\": \"\"\n      }\n    },\n    {\n      \"column\": \"Nivel de Ensino\",\n      \"properties\": {\n        \"dtype\": \"category\",\n        \"num_unique_values\": 7,\n        \"samples\": [\n          \"Doutorado ou Phd\",\n          \"Gradua\\u00e7\\u00e3o/Bacharelado\"\n        ],\n        \"semantic_type\": \"\",\n        \"description\": \"\"\n      }\n    },\n    {\n      \"column\": \"Area de Forma\\u00e7\\u00e3o\",\n      \"properties\": {\n        \"dtype\": \"category\",\n        \"num_unique_values\": 9,\n        \"samples\": [\n          \"Marketing / Publicidade / Comunica\\u00e7\\u00e3o / Jornalismo\",\n          \"Economia/ Administra\\u00e7\\u00e3o / Contabilidade / Finan\\u00e7as/ Neg\\u00f3cios\"\n        ],\n        \"semantic_type\": \"\",\n        \"description\": \"\"\n      }\n    },\n    {\n      \"column\": \"Situa\\u00e7\\u00e3o atual de Trabalho\",\n      \"properties\": {\n        \"dtype\": \"category\",\n        \"num_unique_values\": 13,\n        \"samples\": [\n          \"Freelancer\",\n          \"Somente Estudante (gradua\\u00e7\\u00e3o)\"\n        ],\n        \"semantic_type\": \"\",\n        \"description\": \"\"\n      }\n    },\n    {\n      \"column\": \"Setor\",\n      \"properties\": {\n        \"dtype\": \"category\",\n        \"num_unique_values\": 21,\n        \"samples\": [\n          \"Finan\\u00e7as ou Bancos\",\n          \"Setor Imobili\\u00e1rio/ Constru\\u00e7\\u00e3o Civil\"\n        ],\n        \"semantic_type\": \"\",\n        \"description\": \"\"\n      }\n    },\n    {\n      \"column\": \"Cargo\",\n      \"properties\": {\n        \"dtype\": \"category\",\n        \"num_unique_values\": 17,\n        \"samples\": [\n          \"Cientista de Dados/Data Scientist\",\n          \"Analista de BI/BI Analyst\"\n        ],\n        \"semantic_type\": \"\",\n        \"description\": \"\"\n      }\n    },\n    {\n      \"column\": \"Nivel\",\n      \"properties\": {\n        \"dtype\": \"category\",\n        \"num_unique_values\": 3,\n        \"samples\": [\n          \"S\\u00eanior\",\n          \"Pleno\"\n        ],\n        \"semantic_type\": \"\",\n        \"description\": \"\"\n      }\n    },\n    {\n      \"column\": \"Forma de Trabalho\",\n      \"properties\": {\n        \"dtype\": \"category\",\n        \"num_unique_values\": 4,\n        \"samples\": [\n          \"Modelo 100% remoto\",\n          \"Modelo 100% presencial\"\n        ],\n        \"semantic_type\": \"\",\n        \"description\": \"\"\n      }\n    },\n    {\n      \"column\": \"Atua\\u00e7\\u00e3o\",\n      \"properties\": {\n        \"dtype\": \"category\",\n        \"num_unique_values\": 6,\n        \"samples\": [\n          \"Ci\\u00eancia de Dados\",\n          \"An\\u00e1lise de Dados\"\n        ],\n        \"semantic_type\": \"\",\n        \"description\": \"\"\n      }\n    }\n  ]\n}"
            }
          },
          "metadata": {},
          "execution_count": 89
        }
      ]
    },
    {
      "cell_type": "markdown",
      "source": [
        "### Verificar a moda de cada atributo"
      ],
      "metadata": {
        "id": "9TQ3pdO9GSKA"
      }
    },
    {
      "cell_type": "code",
      "source": [
        "for col in base.columns:\n",
        "    mode_value = base[col].mode()\n",
        "    print(f'A moda da coluna {col} é: {mode_value.iloc[0]}')"
      ],
      "metadata": {
        "colab": {
          "base_uri": "https://localhost:8080/"
        },
        "id": "WqIt4chduOuD",
        "outputId": "ddba97df-4434-44d4-e6cc-b399726c06ee"
      },
      "execution_count": 90,
      "outputs": [
        {
          "output_type": "stream",
          "name": "stdout",
          "text": [
            "A moda da coluna Idade é: 27\n",
            "A moda da coluna Genero é: Masculino\n",
            "A moda da coluna Cor/raca/etnia é: Branca\n",
            "A moda da coluna PCD é: Não\n",
            "A moda da coluna Oportunidade de Progressão de Carreira é: 0.0\n",
            "A moda da coluna UF é: SP\n",
            "A moda da coluna Regiao onde mora é: Sudeste\n",
            "A moda da coluna Nivel de Ensino é: Pós-graduação\n",
            "A moda da coluna Area de Formação é: Computação / Engenharia de Software / Sistemas de Informação/ TI\n",
            "A moda da coluna Situação atual de Trabalho é: Empregado (CLT)\n",
            "A moda da coluna Setor é: Finanças ou Bancos\n",
            "A moda da coluna Cargo é: Analista de Dados/Data Analyst\n",
            "A moda da coluna Nivel é: Sênior\n",
            "A moda da coluna Forma de Trabalho é: Modelo 100% remoto\n",
            "A moda da coluna Atuação é: Análise de Dados\n"
          ]
        }
      ]
    },
    {
      "cell_type": "markdown",
      "source": [
        "Inputação de valor da moda na coluna \"Área de Formação"
      ],
      "metadata": {
        "id": "RV6em8muGYFg"
      }
    },
    {
      "cell_type": "code",
      "source": [
        "base['Area de Formação'].fillna(value='Computação / Engenharia de Software / Sistemas de Informação/ TI', inplace=True)"
      ],
      "metadata": {
        "colab": {
          "base_uri": "https://localhost:8080/"
        },
        "id": "_KthFw61tpdB",
        "outputId": "e844bd01-8251-454a-c577-48f99b13131d"
      },
      "execution_count": 91,
      "outputs": [
        {
          "output_type": "stream",
          "name": "stderr",
          "text": [
            "<ipython-input-91-2562e2fceeb6>:1: FutureWarning: A value is trying to be set on a copy of a DataFrame or Series through chained assignment using an inplace method.\n",
            "The behavior will change in pandas 3.0. This inplace method will never work because the intermediate object on which we are setting values always behaves as a copy.\n",
            "\n",
            "For example, when doing 'df[col].method(value, inplace=True)', try using 'df.method({col: value}, inplace=True)' or df[col] = df[col].method(value) instead, to perform the operation inplace on the original object.\n",
            "\n",
            "\n",
            "  base['Area de Formação'].fillna(value='Computação / Engenharia de Software / Sistemas de Informação/ TI', inplace=True)\n"
          ]
        }
      ]
    },
    {
      "cell_type": "markdown",
      "source": [
        "Renomeação do atributo alvo"
      ],
      "metadata": {
        "id": "toOpsUBkL19Z"
      }
    },
    {
      "cell_type": "code",
      "source": [
        "base.rename(columns={'Oportunidade de Progressão de Carreira': 'progressao_prejudicada'}, inplace = True)"
      ],
      "metadata": {
        "id": "aYmC6bgY78Hg"
      },
      "execution_count": 92,
      "outputs": []
    },
    {
      "cell_type": "markdown",
      "source": [
        "Reordenação dos atributos"
      ],
      "metadata": {
        "id": "K46NJoyXRG1G"
      }
    },
    {
      "cell_type": "code",
      "source": [
        "base = base[['Idade', 'Genero', 'Cor/raca/etnia', 'PCD', 'UF', 'Regiao onde mora',\n",
        "       'Nivel de Ensino', 'Area de Formação', 'Situação atual de Trabalho',\n",
        "       'Setor', 'Cargo', 'Nivel', 'Forma de Trabalho', 'Atuação', 'progressao_prejudicada']]"
      ],
      "metadata": {
        "id": "V25V3oCuRGOc"
      },
      "execution_count": 93,
      "outputs": []
    },
    {
      "cell_type": "markdown",
      "source": [
        "Verificar a quantidade de valores nulos em cada atributo"
      ],
      "metadata": {
        "id": "SNzhe17TF6W4"
      }
    },
    {
      "cell_type": "code",
      "source": [
        "for col in base.columns:\n",
        "    nulos = base[col].isnull().sum()\n",
        "    print(f'numero de valores nulos na coluna {col} é: {nulos}')"
      ],
      "metadata": {
        "colab": {
          "base_uri": "https://localhost:8080/"
        },
        "id": "VI7NVCdxlRXO",
        "outputId": "5098a844-1699-487e-86ff-93c1bdf1490a"
      },
      "execution_count": 94,
      "outputs": [
        {
          "output_type": "stream",
          "name": "stdout",
          "text": [
            "numero de valores nulos na coluna Idade é: 0\n",
            "numero de valores nulos na coluna Genero é: 0\n",
            "numero de valores nulos na coluna Cor/raca/etnia é: 0\n",
            "numero de valores nulos na coluna PCD é: 0\n",
            "numero de valores nulos na coluna UF é: 124\n",
            "numero de valores nulos na coluna Regiao onde mora é: 124\n",
            "numero de valores nulos na coluna Nivel de Ensino é: 0\n",
            "numero de valores nulos na coluna Area de Formação é: 0\n",
            "numero de valores nulos na coluna Situação atual de Trabalho é: 0\n",
            "numero de valores nulos na coluna Setor é: 540\n",
            "numero de valores nulos na coluna Cargo é: 1436\n",
            "numero de valores nulos na coluna Nivel é: 1436\n",
            "numero de valores nulos na coluna Forma de Trabalho é: 540\n",
            "numero de valores nulos na coluna Atuação é: 0\n",
            "numero de valores nulos na coluna progressao_prejudicada é: 4048\n"
          ]
        }
      ]
    },
    {
      "cell_type": "markdown",
      "source": [
        "### Retirada de linhas com valores nulos nos atributos selecionado abaixo"
      ],
      "metadata": {
        "id": "7Aou5nd9GQWe"
      }
    },
    {
      "cell_type": "code",
      "source": [
        "base.dropna(subset=['progressao_prejudicada', 'Regiao onde mora', 'UF', 'Setor', 'Forma de Trabalho', 'Cargo', 'Nivel'], inplace=True)"
      ],
      "metadata": {
        "id": "d8BihzXfq8cR",
        "colab": {
          "base_uri": "https://localhost:8080/"
        },
        "outputId": "76bd3a78-f4b2-4280-bdcf-f01f0f2828b0"
      },
      "execution_count": 95,
      "outputs": [
        {
          "output_type": "stream",
          "name": "stderr",
          "text": [
            "<ipython-input-95-0fc41830608d>:1: SettingWithCopyWarning: \n",
            "A value is trying to be set on a copy of a slice from a DataFrame\n",
            "\n",
            "See the caveats in the documentation: https://pandas.pydata.org/pandas-docs/stable/user_guide/indexing.html#returning-a-view-versus-a-copy\n",
            "  base.dropna(subset=['progressao_prejudicada', 'Regiao onde mora', 'UF', 'Setor', 'Forma de Trabalho', 'Cargo', 'Nivel'], inplace=True)\n"
          ]
        }
      ]
    },
    {
      "cell_type": "markdown",
      "source": [
        "Vê o tipo de dado de cada coluna"
      ],
      "metadata": {
        "id": "0ZGlUh9ZGq5O"
      }
    },
    {
      "cell_type": "code",
      "source": [
        "base.info()"
      ],
      "metadata": {
        "colab": {
          "base_uri": "https://localhost:8080/"
        },
        "id": "uK-7AD6kGp9G",
        "outputId": "cbb0703f-b8a2-4d09-b1f3-cfcf59932bda"
      },
      "execution_count": 96,
      "outputs": [
        {
          "output_type": "stream",
          "name": "stdout",
          "text": [
            "<class 'pandas.core.frame.DataFrame'>\n",
            "Index: 902 entries, 2 to 5279\n",
            "Data columns (total 15 columns):\n",
            " #   Column                      Non-Null Count  Dtype  \n",
            "---  ------                      --------------  -----  \n",
            " 0   Idade                       902 non-null    int64  \n",
            " 1   Genero                      902 non-null    object \n",
            " 2   Cor/raca/etnia              902 non-null    object \n",
            " 3   PCD                         902 non-null    object \n",
            " 4   UF                          902 non-null    object \n",
            " 5   Regiao onde mora            902 non-null    object \n",
            " 6   Nivel de Ensino             902 non-null    object \n",
            " 7   Area de Formação            902 non-null    object \n",
            " 8   Situação atual de Trabalho  902 non-null    object \n",
            " 9   Setor                       902 non-null    object \n",
            " 10  Cargo                       902 non-null    object \n",
            " 11  Nivel                       902 non-null    object \n",
            " 12  Forma de Trabalho           902 non-null    object \n",
            " 13  Atuação                     902 non-null    object \n",
            " 14  progressao_prejudicada      902 non-null    float64\n",
            "dtypes: float64(1), int64(1), object(13)\n",
            "memory usage: 112.8+ KB\n"
          ]
        }
      ]
    },
    {
      "cell_type": "markdown",
      "source": [
        "Modificação do tipo da coluna \"Oportunidade de Progressão de Carreira\" para int"
      ],
      "metadata": {
        "id": "QTUf2CZ4G59G"
      }
    },
    {
      "cell_type": "code",
      "source": [
        "base['progressao_prejudicada'] = base['progressao_prejudicada'].astype(int)"
      ],
      "metadata": {
        "id": "rqnUkwK2v5w3",
        "colab": {
          "base_uri": "https://localhost:8080/"
        },
        "outputId": "c82e6938-bb4a-47d1-aa81-2debe5422549"
      },
      "execution_count": 97,
      "outputs": [
        {
          "output_type": "stream",
          "name": "stderr",
          "text": [
            "<ipython-input-97-a25606f89e42>:1: SettingWithCopyWarning: \n",
            "A value is trying to be set on a copy of a slice from a DataFrame.\n",
            "Try using .loc[row_indexer,col_indexer] = value instead\n",
            "\n",
            "See the caveats in the documentation: https://pandas.pydata.org/pandas-docs/stable/user_guide/indexing.html#returning-a-view-versus-a-copy\n",
            "  base['progressao_prejudicada'] = base['progressao_prejudicada'].astype(int)\n"
          ]
        }
      ]
    },
    {
      "cell_type": "code",
      "source": [
        "base['progressao_prejudicada'] = base['progressao_prejudicada'].astype(int)"
      ],
      "metadata": {
        "colab": {
          "base_uri": "https://localhost:8080/"
        },
        "id": "fS551xQK6oDY",
        "outputId": "a2f31ff5-9aff-430c-c59a-4e371a625615"
      },
      "execution_count": 98,
      "outputs": [
        {
          "output_type": "stream",
          "name": "stderr",
          "text": [
            "<ipython-input-98-a25606f89e42>:1: SettingWithCopyWarning: \n",
            "A value is trying to be set on a copy of a slice from a DataFrame.\n",
            "Try using .loc[row_indexer,col_indexer] = value instead\n",
            "\n",
            "See the caveats in the documentation: https://pandas.pydata.org/pandas-docs/stable/user_guide/indexing.html#returning-a-view-versus-a-copy\n",
            "  base['progressao_prejudicada'] = base['progressao_prejudicada'].astype(int)\n"
          ]
        }
      ]
    },
    {
      "cell_type": "markdown",
      "source": [
        "# Codificação dos atributos"
      ],
      "metadata": {
        "id": "3mV6kD63FBEY"
      }
    },
    {
      "cell_type": "markdown",
      "source": [
        "## Vizualização de todos os valores do atributo"
      ],
      "metadata": {
        "id": "io9FgicoiXyF"
      }
    },
    {
      "cell_type": "code",
      "source": [
        "print(base['Genero'].unique())"
      ],
      "metadata": {
        "colab": {
          "base_uri": "https://localhost:8080/"
        },
        "id": "HIni7lxm3SN2",
        "outputId": "d42d6e9d-3d17-476b-b98b-542b111c0430"
      },
      "execution_count": 99,
      "outputs": [
        {
          "output_type": "stream",
          "name": "stdout",
          "text": [
            "['Feminino' 'Masculino' 'Prefiro não informar' 'Outro']\n"
          ]
        }
      ]
    },
    {
      "cell_type": "code",
      "source": [
        "print(base['Cor/raca/etnia'].unique())"
      ],
      "metadata": {
        "colab": {
          "base_uri": "https://localhost:8080/"
        },
        "id": "xTLUl44IiWvr",
        "outputId": "3047452a-9c9f-48fb-cfa3-3c9c54a93fc5"
      },
      "execution_count": 100,
      "outputs": [
        {
          "output_type": "stream",
          "name": "stdout",
          "text": [
            "['Amarela' 'Preta' 'Branca' 'Prefiro não informar' 'Parda' 'Outra'\n",
            " 'Indígena']\n"
          ]
        }
      ]
    },
    {
      "cell_type": "code",
      "source": [
        "print(base['Situação atual de Trabalho'].unique())"
      ],
      "metadata": {
        "colab": {
          "base_uri": "https://localhost:8080/"
        },
        "outputId": "343d765f-aed6-4f4b-e845-e3a3674818b1",
        "id": "QTgOVF08io0z"
      },
      "execution_count": 101,
      "outputs": [
        {
          "output_type": "stream",
          "name": "stdout",
          "text": [
            "['Empregado (CLT)' 'Servidor Público' 'Empreendedor ou Empregado (CNPJ)'\n",
            " 'Vivo no Brasil e trabalho remoto para empresa de fora do Brasil'\n",
            " 'Estagiário' 'Freelancer' 'Prefiro não informar'\n",
            " 'Vivo fora do Brasil e trabalho para empresa de fora do Brasil']\n"
          ]
        }
      ]
    },
    {
      "cell_type": "code",
      "source": [
        "print(base['Nivel'].unique())"
      ],
      "metadata": {
        "colab": {
          "base_uri": "https://localhost:8080/"
        },
        "outputId": "c4d145ba-e5ec-41f9-f93d-7d263ea5ccf4",
        "id": "gLlHkIU3ix6R"
      },
      "execution_count": 102,
      "outputs": [
        {
          "output_type": "stream",
          "name": "stdout",
          "text": [
            "['Júnior' 'Pleno' 'Sênior']\n"
          ]
        }
      ]
    },
    {
      "cell_type": "code",
      "source": [
        "print(base['Nivel de Ensino'].unique())"
      ],
      "metadata": {
        "colab": {
          "base_uri": "https://localhost:8080/"
        },
        "id": "jP3rG4UsxVlV",
        "outputId": "ee5b2a48-9045-4f8b-e2df-46833eee5adc"
      },
      "execution_count": 103,
      "outputs": [
        {
          "output_type": "stream",
          "name": "stdout",
          "text": [
            "['Graduação/Bacharelado' 'Estudante de Graduação' 'Pós-graduação'\n",
            " 'Mestrado' 'Doutorado ou Phd' 'Não tenho graduação formal'\n",
            " 'Prefiro não informar']\n"
          ]
        }
      ]
    },
    {
      "cell_type": "code",
      "source": [
        "print(base['Forma de Trabalho'].unique())"
      ],
      "metadata": {
        "colab": {
          "base_uri": "https://localhost:8080/"
        },
        "outputId": "feaea495-1d7b-4ad3-f91e-a9b2b853820a",
        "id": "SpO2qeghiyMr"
      },
      "execution_count": 104,
      "outputs": [
        {
          "output_type": "stream",
          "name": "stdout",
          "text": [
            "['Modelo híbrido flexível (o funcionário tem liberdade para escolher quando estar no escritório presencialmente)'\n",
            " 'Modelo 100% presencial' 'Modelo 100% remoto'\n",
            " 'Modelo híbrido com dias fixos de trabalho presencial']\n"
          ]
        }
      ]
    },
    {
      "cell_type": "code",
      "source": [
        "print(base['Forma de Trabalho'].unique())"
      ],
      "metadata": {
        "colab": {
          "base_uri": "https://localhost:8080/"
        },
        "id": "nyXlC6oSl37F",
        "outputId": "6a26073e-e9e4-45b4-b319-7679e238b44e"
      },
      "execution_count": 105,
      "outputs": [
        {
          "output_type": "stream",
          "name": "stdout",
          "text": [
            "['Modelo híbrido flexível (o funcionário tem liberdade para escolher quando estar no escritório presencialmente)'\n",
            " 'Modelo 100% presencial' 'Modelo 100% remoto'\n",
            " 'Modelo híbrido com dias fixos de trabalho presencial']\n"
          ]
        }
      ]
    },
    {
      "cell_type": "code",
      "source": [
        "print(base['Setor'].unique())"
      ],
      "metadata": {
        "colab": {
          "base_uri": "https://localhost:8080/"
        },
        "id": "2PsYBAZdunGE",
        "outputId": "671bf2f2-33a8-46d6-aa1a-7becc1454084"
      },
      "execution_count": 106,
      "outputs": [
        {
          "output_type": "stream",
          "name": "stdout",
          "text": [
            "['Finanças ou Bancos' 'Setor Público' 'Tecnologia/Fábrica de Software'\n",
            " 'Setor Alimentício' 'Varejo' 'Educação' 'Marketing' 'Indústria'\n",
            " 'Internet/Ecommerce' 'Seguros ou Previdência' 'Área de Consultoria'\n",
            " 'Agronegócios' 'Área da Saúde' 'Entretenimento ou Esportes'\n",
            " 'Telecomunicação' 'Setor de Energia' 'Outra Opção'\n",
            " 'Setor Imobiliário/ Construção Civil' 'Setor Farmaceutico'\n",
            " \"Filantropia/ONG's\" 'Setor Automotivo']\n"
          ]
        }
      ]
    },
    {
      "cell_type": "code",
      "source": [
        "print(base['Cargo'].unique())"
      ],
      "metadata": {
        "colab": {
          "base_uri": "https://localhost:8080/"
        },
        "id": "ilgYlcuqvWTc",
        "outputId": "c1ac27bd-8a26-482a-eb69-90cd99b125b2"
      },
      "execution_count": 107,
      "outputs": [
        {
          "output_type": "stream",
          "name": "stdout",
          "text": [
            "['Analista de Dados/Data Analyst' 'Analista de BI/BI Analyst'\n",
            " 'Outra Opção' 'Analista de Negócios/Business Analyst'\n",
            " 'Desenvolvedor/ Engenheiro de Software/ Analista de Sistemas'\n",
            " 'Engenheiro de Dados/Arquiteto de Dados/Data Engineer/Data Architect'\n",
            " 'Analytics Engineer' 'Estatístico' 'Economista'\n",
            " 'Cientista de Dados/Data Scientist'\n",
            " 'Analista de Suporte/Analista Técnico'\n",
            " 'Outras Engenharias (não inclui dev)'\n",
            " 'Analista de Inteligência de Mercado/Market Intelligence'\n",
            " 'Data Product Manager/ Product Manager (PM/APM/DPM/GPM/PO)'\n",
            " 'Professor/Pesquisador'\n",
            " 'Engenheiro de Machine Learning/ML Engineer/AI Engineer'\n",
            " 'DBA/Administrador de Banco de Dados']\n"
          ]
        }
      ]
    },
    {
      "cell_type": "code",
      "source": [
        "print(base['Atuação'].unique())"
      ],
      "metadata": {
        "colab": {
          "base_uri": "https://localhost:8080/"
        },
        "id": "Y-mxX5DdwP9y",
        "outputId": "c6bc0686-79bd-479e-b7be-083b9fb125c1"
      },
      "execution_count": 108,
      "outputs": [
        {
          "output_type": "stream",
          "name": "stdout",
          "text": [
            "['Ciência de Dados' 'Análise de Dados' 'Outra atuação'\n",
            " 'Engenharia de Dados']\n"
          ]
        }
      ]
    },
    {
      "cell_type": "code",
      "source": [
        "print(base['Area de Formação'].unique())"
      ],
      "metadata": {
        "colab": {
          "base_uri": "https://localhost:8080/"
        },
        "id": "xL7xIH5fx90I",
        "outputId": "8b840dd5-4be0-49ae-f5c5-97fbcd4a3eae"
      },
      "execution_count": 109,
      "outputs": [
        {
          "output_type": "stream",
          "name": "stdout",
          "text": [
            "['Computação / Engenharia de Software / Sistemas de Informação/ TI'\n",
            " 'Economia/ Administração / Contabilidade / Finanças/ Negócios'\n",
            " 'Estatística/ Matemática / Matemática Computacional/ Ciências Atuariais'\n",
            " 'Outra opção' 'Química / Física'\n",
            " 'Marketing / Publicidade / Comunicação / Jornalismo' 'Outras Engenharias'\n",
            " 'Ciências Biológicas/ Farmácia/ Medicina/ Área da Saúde'\n",
            " 'Ciências Sociais']\n"
          ]
        }
      ]
    },
    {
      "cell_type": "code",
      "source": [
        "## Substituição direta dos valores por códigos\n",
        "\n",
        "base.loc[base['Genero'] == 'Masculino', 'Genero'] = 0\n",
        "base.loc[base['Genero'] == 'Feminino', 'Genero'] = 1\n",
        "\n",
        "# Drop rows where 'Genero' is 'Outro' or 'Prefiro não informar'\n",
        "base = base[(base['Genero'] != 'Outro') & (base['Genero'] != 'Prefiro não informar')]\n",
        "\n",
        "\n",
        "print(base['Genero'].unique())\n",
        "\n",
        "base.loc[base['Cor/raca/etnia'] == 'Branca', 'Cor/raca/etnia'] = 0\n",
        "base.loc[base['Cor/raca/etnia'] == 'Preta', 'Cor/raca/etnia'] = 1\n",
        "base.loc[base['Cor/raca/etnia'] == 'Amarela', 'Cor/raca/etnia'] = 2\n",
        "base.loc[base['Cor/raca/etnia'] == 'Parda', 'Cor/raca/etnia'] = 3\n",
        "base.loc[base['Cor/raca/etnia'] == 'Indígena', 'Cor/raca/etnia'] = 4\n",
        "base.loc[base['Cor/raca/etnia'] == 'Prefiro não informar', 'Cor/raca/etnia'] = 5\n",
        "base.loc[base['Cor/raca/etnia'] == 'Outra', 'Cor/raca/etnia'] = 5\n",
        "\n",
        "\n",
        "\n",
        "print(base['Cor/raca/etnia'].unique())\n",
        "\n",
        "base.loc[base['PCD'] == 'Sim', 'PCD'] = 1\n",
        "base.loc[base['PCD'] == 'Não', 'PCD'] = 0\n",
        "# Há \"prefiro não informar\", porém como não posso inferir se a pessoa é PCD ou não, prefiro remover as linhas.\n",
        "\n",
        "index_to_drop = base[base['PCD'] == 'Prefiro não informar'].index\n",
        "base = base.drop(index_to_drop)\n",
        "\n",
        "print(base['PCD'].unique())\n",
        "\n",
        "base.loc[base['UF'] == 'AC', 'UF'] = 0\n",
        "base.loc[base['UF'] == 'AL', 'UF'] = 1\n",
        "base.loc[base['UF'] == 'AP', 'UF'] = 2\n",
        "base.loc[base['UF'] == 'AM', 'UF'] = 3\n",
        "base.loc[base['UF'] == 'BA', 'UF'] = 4\n",
        "base.loc[base['UF'] == 'CE', 'UF'] = 5\n",
        "base.loc[base['UF'] == 'DF', 'UF'] = 6\n",
        "base.loc[base['UF'] == 'ES', 'UF'] = 7\n",
        "base.loc[base['UF'] == 'GO', 'UF'] = 8\n",
        "base.loc[base['UF'] == 'MA', 'UF'] = 9\n",
        "base.loc[base['UF'] == 'MT', 'UF'] = 10\n",
        "base.loc[base['UF'] == 'MS', 'UF'] = 11\n",
        "base.loc[base['UF'] == 'MG', 'UF'] = 12\n",
        "base.loc[base['UF'] == 'PA', 'UF'] = 13\n",
        "base.loc[base['UF'] == 'PB', 'UF'] = 14\n",
        "base.loc[base['UF'] == 'PR', 'UF'] = 15\n",
        "base.loc[base['UF'] == 'PE', 'UF'] = 16\n",
        "base.loc[base['UF'] == 'PI', 'UF'] = 17\n",
        "base.loc[base['UF'] == 'RJ', 'UF'] = 18\n",
        "base.loc[base['UF'] == 'RN', 'UF'] = 19\n",
        "base.loc[base['UF'] == 'RS', 'UF'] = 20\n",
        "base.loc[base['UF'] == 'RO', 'UF'] = 21\n",
        "base.loc[base['UF'] == 'RR', 'UF'] = 22\n",
        "base.loc[base['UF'] == 'SC', 'UF'] = 23\n",
        "base.loc[base['UF'] == 'SP', 'UF'] = 24\n",
        "base.loc[base['UF'] == 'SE', 'UF'] = 25\n",
        "base.loc[base['UF'] == 'TO', 'UF'] = 26\n",
        "\n",
        "print(base['UF'].unique())\n",
        "\n",
        "\n",
        "base.loc[base['Regiao onde mora'] == 'Norte', 'Regiao onde mora'] = 0\n",
        "base.loc[base['Regiao onde mora'] == 'Nordeste', 'Regiao onde mora'] = 1\n",
        "base.loc[base['Regiao onde mora'] == 'Sudeste', 'Regiao onde mora'] = 2\n",
        "base.loc[base['Regiao onde mora'] == 'Sul', 'Regiao onde mora'] = 3\n",
        "base.loc[base['Regiao onde mora'] == 'Centro-oeste', 'Regiao onde mora'] = 4\n",
        "\n",
        "print(base['Regiao onde mora'].unique())\n",
        "\n",
        "base.loc[base['Nivel de Ensino'] == 'Não tenho graduação formal', 'Nivel de Ensino'] = 0\n",
        "base.loc[base['Nivel de Ensino'] == 'Estudante de Graduação', 'Nivel de Ensino'] = 1\n",
        "base.loc[base['Nivel de Ensino'] == 'Graduação/Bacharelado', 'Nivel de Ensino'] = 2\n",
        "base.loc[base['Nivel de Ensino'] == 'Pós-graduação', 'Nivel de Ensino'] = 3\n",
        "base.loc[base['Nivel de Ensino'] == 'Mestrado', 'Nivel de Ensino'] = 4\n",
        "base.loc[base['Nivel de Ensino'] == 'Doutorado ou Phd', 'Nivel de Ensino'] = 5\n",
        "base.loc[base['Nivel de Ensino'] == 'Prefiro não informar', 'Nivel de Ensino'] = 6\n",
        "\n",
        "print(base['Nivel de Ensino'].unique())\n",
        "\n",
        "base.loc[base['Area de Formação'] == 'Computação / Engenharia de Software / Sistemas de Informação/ TI', 'Area de Formação'] = 0\n",
        "base.loc[base['Area de Formação'] == 'Economia/ Administração / Contabilidade / Finanças/ Negócios', 'Area de Formação'] = 1\n",
        "base.loc[base['Area de Formação'] == 'Estatística/ Matemática / Matemática Computacional/ Ciências Atuariais', 'Area de Formação'] = 2\n",
        "base.loc[base['Area de Formação'] == 'Outra opção', 'Area de Formação'] = 3\n",
        "base.loc[base['Area de Formação'] == 'Marketing / Publicidade / Comunicação / Jornalismo', 'Area de Formação'] = 4\n",
        "base.loc[base['Area de Formação'] == 'Ciências Biológicas/ Farmácia/ Medicina/ Área da Saúde', 'Area de Formação'] = 5\n",
        "base.loc[base['Area de Formação'] == 'Ciências Sociais', 'Area de Formação'] = 6\n",
        "base.loc[base['Area de Formação'] == 'Outras Engenharias', 'Area de Formação'] = 7\n",
        "base.loc[base['Area de Formação'] == 'Química / Física', 'Area de Formação'] = 8\n",
        "\n",
        "print(base['Area de Formação'].unique())\n",
        "\n",
        "base.loc[base['Situação atual de Trabalho'] == 'Empregado (CLT)', 'Situação atual de Trabalho'] = 0\n",
        "base.loc[base['Situação atual de Trabalho'] == 'Empreendedor ou Empregado (CNPJ)', 'Situação atual de Trabalho'] = 1\n",
        "base.loc[base['Situação atual de Trabalho'] == 'Estagiário', 'Situação atual de Trabalho'] = 2\n",
        "base.loc[base['Situação atual de Trabalho'] == 'Freelancer', 'Situação atual de Trabalho'] = 3\n",
        "base.loc[base['Situação atual de Trabalho'] == 'Vivo no Brasil e trabalho remoto para empresa de fora do Brasil', 'Situação atual de Trabalho'] = 4\n",
        "base.loc[base['Situação atual de Trabalho'] == 'Vivo fora do Brasil e trabalho para empresa de fora do Brasil', 'Situação atual de Trabalho'] = 5\n",
        "base.loc[base['Situação atual de Trabalho'] == 'Servidor Público', 'Situação atual de Trabalho'] = 6\n",
        "base.loc[base['Situação atual de Trabalho'] == 'Prefiro não informar', 'Situação atual de Trabalho'] = 7\n",
        "\n",
        "print(base['Situação atual de Trabalho'].unique())\n",
        "\n",
        "base.loc[base['Setor'] == 'Administração', 'Setor'] = 0\n",
        "base.loc[base['Setor'] == 'Saúde', 'Setor'] = 1\n",
        "base.loc[base['Setor'] == 'Educação', 'Setor'] = 2\n",
        "base.loc[base['Setor'] == 'Tecnologia/Fábrica de Software', 'Setor'] = 3\n",
        "base.loc[base['Setor'] == 'Setor Alimentício', 'Setor'] = 4\n",
        "base.loc[base['Setor'] == 'Varejo', 'Setor'] = 5\n",
        "base.loc[base['Setor'] == 'Marketing', 'Setor'] = 6\n",
        "base.loc[base['Setor'] == 'Indústria', 'Setor'] = 7\n",
        "base.loc[base['Setor'] == 'Internet/Ecommerce', 'Setor'] = 8\n",
        "base.loc[base['Setor'] == 'Seguros ou Previdência', 'Setor'] = 9\n",
        "base.loc[base['Setor'] == 'Área de Consultoria', 'Setor'] = 10\n",
        "base.loc[base['Setor'] == 'Área da Saúde', 'Setor'] = 11\n",
        "base.loc[base['Setor'] == 'Entretenimento ou Esportes', 'Setor'] = 12\n",
        "base.loc[base['Setor'] == 'Setor de Energia', 'Setor'] = 13\n",
        "base.loc[base['Setor'] == 'Outra Opção', 'Setor'] = 14\n",
        "base.loc[base['Setor'] == 'Setor Imobiliário/ Construção Civil', 'Setor'] = 15\n",
        "base.loc[base['Setor'] == 'Telecomunicação', 'Setor'] = 16\n",
        "base.loc[base['Setor'] == 'Setor Farmaceutico', 'Setor'] = 17\n",
        "base.loc[base['Setor'] == \"Filantropia/ONG's\", 'Setor'] = 18\n",
        "base.loc[base['Setor'] == 'Setor Automotivo', 'Setor'] = 19\n",
        "base.loc[base['Setor'] == 'Finanças ou Bancos', 'Setor'] = 19\n",
        "base.loc[base['Setor'] == 'Setor Público', 'Setor'] = 19\n",
        "base.loc[base['Setor'] == 'Agronegócios', 'Setor'] = 19\n",
        "\n",
        "\n",
        "\n",
        "print(base['Setor'].unique())\n",
        "\n",
        "base.loc[base['Cargo'] == 'Analista de Dados/Data Analyst', 'Cargo'] = 0\n",
        "base.loc[base['Cargo'] == 'Analista de BI/BI Analyst', 'Cargo'] = 1\n",
        "base.loc[base['Cargo'] == 'DBA/Administrador de Banco de Dados', 'Cargo'] = 2\n",
        "base.loc[base['Cargo'] == 'Engenheiro de Machine Learning/ML Engineer/AI Engineer', 'Cargo'] = 3\n",
        "base.loc[base['Cargo'] == 'Analista de Negócios/Business Analyst', 'Cargo'] = 4\n",
        "base.loc[base['Cargo'] == 'Desenvolvedor/ Engenheiro de Software/ Analista de Sistemas', 'Cargo'] = 5\n",
        "base.loc[base['Cargo'] == 'Engenheiro de Dados/Arquiteto de Dados/Data Engineer/Data Architect', 'Cargo'] = 6\n",
        "base.loc[base['Cargo'] == 'Analytics Engineer', 'Cargo'] = 7\n",
        "base.loc[base['Cargo'] == 'Estatístico', 'Cargo'] = 8\n",
        "base.loc[base['Cargo'] == 'Economista', 'Cargo'] = 9\n",
        "base.loc[base['Cargo'] == 'Cientista de Dados/Data Scientist', 'Cargo'] = 10\n",
        "base.loc[base['Cargo'] == 'Analista de Suporte/Analista Técnico', 'Cargo'] = 11\n",
        "base.loc[base['Cargo'] == 'Outras Engenharias (não inclui dev)', 'Cargo'] = 12\n",
        "base.loc[base['Cargo'] == 'Analista de Inteligência de Mercado/Market Intelligence', 'Cargo'] = 13\n",
        "base.loc[base['Cargo'] == 'Data Product Manager/ Product Manager (PM/APM/DPM/GPM/PO)', 'Cargo'] = 14\n",
        "base.loc[base['Cargo'] == 'Professor/Pesquisador', 'Cargo'] = 15\n",
        "base.loc[base['Cargo'] == 'Outra Opção', 'Cargo'] = 16\n",
        "\n",
        "\n",
        "print(base['Cargo'].unique())\n",
        "\n",
        "base.loc[base['Nivel'] == 'Júnior', 'Nivel'] = 0\n",
        "base.loc[base['Nivel'] == 'Pleno', 'Nivel'] = 1\n",
        "base.loc[base['Nivel'] == 'Sênior', 'Nivel'] = 2\n",
        "\n",
        "print(base['Nivel'].unique())\n",
        "\n",
        "base.loc[base['Forma de Trabalho'] == 'Modelo híbrido flexível (o funcionário tem liberdade para escolher quando estar no escritório presencialmente)', 'Forma de Trabalho'] = 0\n",
        "base.loc[base['Forma de Trabalho'] == 'Modelo 100% presencial', 'Forma de Trabalho'] = 1\n",
        "base.loc[base['Forma de Trabalho'] == 'Modelo 100% remoto', 'Forma de Trabalho'] = 2\n",
        "base.loc[base['Forma de Trabalho'] == 'Modelo híbrido com dias fixos de trabalho presencial', 'Forma de Trabalho'] = 2\n",
        "\n",
        "\n",
        "\n",
        "print(base['Forma de Trabalho'].unique())\n",
        "\n",
        "base.loc[base['Atuação'] == 'Ciência de Dados', 'Atuação'] = 0\n",
        "base.loc[base['Atuação'] == 'Análise de Dados', 'Atuação'] = 1\n",
        "base.loc[base['Atuação'] == 'Engenharia de Dados', 'Atuação'] = 2\n",
        "base.loc[base['Atuação'] == 'Outra atuação', 'Atuação'] = 3\n",
        "\n",
        "print(base['Atuação'].unique())\n",
        "\n",
        "base\n",
        "\n"
      ],
      "metadata": {
        "id": "ezWJTSvGkyql",
        "colab": {
          "base_uri": "https://localhost:8080/",
          "height": 649
        },
        "outputId": "5174eb08-c3f9-4f18-b863-c7bb55e58e96"
      },
      "execution_count": 110,
      "outputs": [
        {
          "output_type": "stream",
          "name": "stdout",
          "text": [
            "[1 0]\n",
            "[2 1 0 5 3 4]\n",
            "[0 1]\n",
            "[24 25 20 18 12 15 8 16 6 7 17 11 14 23 19 13 5 3 4 1 10 21 9]\n",
            "[2 1 3 4 0]\n",
            "[2 1 3 4 5 0 6]\n",
            "[0 1 2 3 8 4 7 5 6]\n",
            "[0 6 1 4 2 3 7 5]\n",
            "[19 3 4 5 2 6 7 8 9 10 11 12 13 14 15 16 17 18]\n",
            "[0 1 16 4 5 6 7 8 9 10 11 12 13 14 15 3 2]\n",
            "[0 1 2]\n",
            "[0 1 2]\n",
            "[0 1 3 2]\n"
          ]
        },
        {
          "output_type": "execute_result",
          "data": {
            "text/plain": [
              "      Idade Genero Cor/raca/etnia PCD  UF Regiao onde mora Nivel de Ensino  \\\n",
              "2        37      1              2   0  24                2               2   \n",
              "10       25      0              1   1  25                1               1   \n",
              "12       32      1              1   0  20                3               3   \n",
              "16       29      1              0   0  18                2               2   \n",
              "17       29      1              5   0  12                2               4   \n",
              "...     ...    ...            ...  ..  ..              ...             ...   \n",
              "5259     27      1              3   0  24                2               1   \n",
              "5269     34      0              3   0  24                2               3   \n",
              "5270     36      1              0   1  12                2               5   \n",
              "5274     31      0              1   0  16                1               3   \n",
              "5279     36      1              3   0  24                2               3   \n",
              "\n",
              "     Area de Formação Situação atual de Trabalho Setor Cargo Nivel  \\\n",
              "2                   0                          0    19     0     0   \n",
              "10                  0                          0    19     1     0   \n",
              "12                  1                          0     3    16     1   \n",
              "16                  2                          6    19     0     1   \n",
              "17                  3                          0     3     4     0   \n",
              "...               ...                        ...   ...   ...   ...   \n",
              "5259                7                          0    10     0     2   \n",
              "5269                1                          0    19     0     1   \n",
              "5270                4                          0    19     0     2   \n",
              "5274                0                          1     3     6     2   \n",
              "5279                1                          0    11     0     1   \n",
              "\n",
              "     Forma de Trabalho Atuação  progressao_prejudicada  \n",
              "2                    0       0                       0  \n",
              "10                   1       1                       0  \n",
              "12                   2       3                       0  \n",
              "16                   2       1                       1  \n",
              "17                   2       1                       1  \n",
              "...                ...     ...                     ...  \n",
              "5259                 2       1                       1  \n",
              "5269                 1       0                       0  \n",
              "5270                 0       0                       1  \n",
              "5274                 2       2                       1  \n",
              "5279                 0       1                       1  \n",
              "\n",
              "[887 rows x 15 columns]"
            ],
            "text/html": [
              "\n",
              "  <div id=\"df-a89957ae-49a5-4f34-9cea-55e4c106d485\" class=\"colab-df-container\">\n",
              "    <div>\n",
              "<style scoped>\n",
              "    .dataframe tbody tr th:only-of-type {\n",
              "        vertical-align: middle;\n",
              "    }\n",
              "\n",
              "    .dataframe tbody tr th {\n",
              "        vertical-align: top;\n",
              "    }\n",
              "\n",
              "    .dataframe thead th {\n",
              "        text-align: right;\n",
              "    }\n",
              "</style>\n",
              "<table border=\"1\" class=\"dataframe\">\n",
              "  <thead>\n",
              "    <tr style=\"text-align: right;\">\n",
              "      <th></th>\n",
              "      <th>Idade</th>\n",
              "      <th>Genero</th>\n",
              "      <th>Cor/raca/etnia</th>\n",
              "      <th>PCD</th>\n",
              "      <th>UF</th>\n",
              "      <th>Regiao onde mora</th>\n",
              "      <th>Nivel de Ensino</th>\n",
              "      <th>Area de Formação</th>\n",
              "      <th>Situação atual de Trabalho</th>\n",
              "      <th>Setor</th>\n",
              "      <th>Cargo</th>\n",
              "      <th>Nivel</th>\n",
              "      <th>Forma de Trabalho</th>\n",
              "      <th>Atuação</th>\n",
              "      <th>progressao_prejudicada</th>\n",
              "    </tr>\n",
              "  </thead>\n",
              "  <tbody>\n",
              "    <tr>\n",
              "      <th>2</th>\n",
              "      <td>37</td>\n",
              "      <td>1</td>\n",
              "      <td>2</td>\n",
              "      <td>0</td>\n",
              "      <td>24</td>\n",
              "      <td>2</td>\n",
              "      <td>2</td>\n",
              "      <td>0</td>\n",
              "      <td>0</td>\n",
              "      <td>19</td>\n",
              "      <td>0</td>\n",
              "      <td>0</td>\n",
              "      <td>0</td>\n",
              "      <td>0</td>\n",
              "      <td>0</td>\n",
              "    </tr>\n",
              "    <tr>\n",
              "      <th>10</th>\n",
              "      <td>25</td>\n",
              "      <td>0</td>\n",
              "      <td>1</td>\n",
              "      <td>1</td>\n",
              "      <td>25</td>\n",
              "      <td>1</td>\n",
              "      <td>1</td>\n",
              "      <td>0</td>\n",
              "      <td>0</td>\n",
              "      <td>19</td>\n",
              "      <td>1</td>\n",
              "      <td>0</td>\n",
              "      <td>1</td>\n",
              "      <td>1</td>\n",
              "      <td>0</td>\n",
              "    </tr>\n",
              "    <tr>\n",
              "      <th>12</th>\n",
              "      <td>32</td>\n",
              "      <td>1</td>\n",
              "      <td>1</td>\n",
              "      <td>0</td>\n",
              "      <td>20</td>\n",
              "      <td>3</td>\n",
              "      <td>3</td>\n",
              "      <td>1</td>\n",
              "      <td>0</td>\n",
              "      <td>3</td>\n",
              "      <td>16</td>\n",
              "      <td>1</td>\n",
              "      <td>2</td>\n",
              "      <td>3</td>\n",
              "      <td>0</td>\n",
              "    </tr>\n",
              "    <tr>\n",
              "      <th>16</th>\n",
              "      <td>29</td>\n",
              "      <td>1</td>\n",
              "      <td>0</td>\n",
              "      <td>0</td>\n",
              "      <td>18</td>\n",
              "      <td>2</td>\n",
              "      <td>2</td>\n",
              "      <td>2</td>\n",
              "      <td>6</td>\n",
              "      <td>19</td>\n",
              "      <td>0</td>\n",
              "      <td>1</td>\n",
              "      <td>2</td>\n",
              "      <td>1</td>\n",
              "      <td>1</td>\n",
              "    </tr>\n",
              "    <tr>\n",
              "      <th>17</th>\n",
              "      <td>29</td>\n",
              "      <td>1</td>\n",
              "      <td>5</td>\n",
              "      <td>0</td>\n",
              "      <td>12</td>\n",
              "      <td>2</td>\n",
              "      <td>4</td>\n",
              "      <td>3</td>\n",
              "      <td>0</td>\n",
              "      <td>3</td>\n",
              "      <td>4</td>\n",
              "      <td>0</td>\n",
              "      <td>2</td>\n",
              "      <td>1</td>\n",
              "      <td>1</td>\n",
              "    </tr>\n",
              "    <tr>\n",
              "      <th>...</th>\n",
              "      <td>...</td>\n",
              "      <td>...</td>\n",
              "      <td>...</td>\n",
              "      <td>...</td>\n",
              "      <td>...</td>\n",
              "      <td>...</td>\n",
              "      <td>...</td>\n",
              "      <td>...</td>\n",
              "      <td>...</td>\n",
              "      <td>...</td>\n",
              "      <td>...</td>\n",
              "      <td>...</td>\n",
              "      <td>...</td>\n",
              "      <td>...</td>\n",
              "      <td>...</td>\n",
              "    </tr>\n",
              "    <tr>\n",
              "      <th>5259</th>\n",
              "      <td>27</td>\n",
              "      <td>1</td>\n",
              "      <td>3</td>\n",
              "      <td>0</td>\n",
              "      <td>24</td>\n",
              "      <td>2</td>\n",
              "      <td>1</td>\n",
              "      <td>7</td>\n",
              "      <td>0</td>\n",
              "      <td>10</td>\n",
              "      <td>0</td>\n",
              "      <td>2</td>\n",
              "      <td>2</td>\n",
              "      <td>1</td>\n",
              "      <td>1</td>\n",
              "    </tr>\n",
              "    <tr>\n",
              "      <th>5269</th>\n",
              "      <td>34</td>\n",
              "      <td>0</td>\n",
              "      <td>3</td>\n",
              "      <td>0</td>\n",
              "      <td>24</td>\n",
              "      <td>2</td>\n",
              "      <td>3</td>\n",
              "      <td>1</td>\n",
              "      <td>0</td>\n",
              "      <td>19</td>\n",
              "      <td>0</td>\n",
              "      <td>1</td>\n",
              "      <td>1</td>\n",
              "      <td>0</td>\n",
              "      <td>0</td>\n",
              "    </tr>\n",
              "    <tr>\n",
              "      <th>5270</th>\n",
              "      <td>36</td>\n",
              "      <td>1</td>\n",
              "      <td>0</td>\n",
              "      <td>1</td>\n",
              "      <td>12</td>\n",
              "      <td>2</td>\n",
              "      <td>5</td>\n",
              "      <td>4</td>\n",
              "      <td>0</td>\n",
              "      <td>19</td>\n",
              "      <td>0</td>\n",
              "      <td>2</td>\n",
              "      <td>0</td>\n",
              "      <td>0</td>\n",
              "      <td>1</td>\n",
              "    </tr>\n",
              "    <tr>\n",
              "      <th>5274</th>\n",
              "      <td>31</td>\n",
              "      <td>0</td>\n",
              "      <td>1</td>\n",
              "      <td>0</td>\n",
              "      <td>16</td>\n",
              "      <td>1</td>\n",
              "      <td>3</td>\n",
              "      <td>0</td>\n",
              "      <td>1</td>\n",
              "      <td>3</td>\n",
              "      <td>6</td>\n",
              "      <td>2</td>\n",
              "      <td>2</td>\n",
              "      <td>2</td>\n",
              "      <td>1</td>\n",
              "    </tr>\n",
              "    <tr>\n",
              "      <th>5279</th>\n",
              "      <td>36</td>\n",
              "      <td>1</td>\n",
              "      <td>3</td>\n",
              "      <td>0</td>\n",
              "      <td>24</td>\n",
              "      <td>2</td>\n",
              "      <td>3</td>\n",
              "      <td>1</td>\n",
              "      <td>0</td>\n",
              "      <td>11</td>\n",
              "      <td>0</td>\n",
              "      <td>1</td>\n",
              "      <td>0</td>\n",
              "      <td>1</td>\n",
              "      <td>1</td>\n",
              "    </tr>\n",
              "  </tbody>\n",
              "</table>\n",
              "<p>887 rows × 15 columns</p>\n",
              "</div>\n",
              "    <div class=\"colab-df-buttons\">\n",
              "\n",
              "  <div class=\"colab-df-container\">\n",
              "    <button class=\"colab-df-convert\" onclick=\"convertToInteractive('df-a89957ae-49a5-4f34-9cea-55e4c106d485')\"\n",
              "            title=\"Convert this dataframe to an interactive table.\"\n",
              "            style=\"display:none;\">\n",
              "\n",
              "  <svg xmlns=\"http://www.w3.org/2000/svg\" height=\"24px\" viewBox=\"0 -960 960 960\">\n",
              "    <path d=\"M120-120v-720h720v720H120Zm60-500h600v-160H180v160Zm220 220h160v-160H400v160Zm0 220h160v-160H400v160ZM180-400h160v-160H180v160Zm440 0h160v-160H620v160ZM180-180h160v-160H180v160Zm440 0h160v-160H620v160Z\"/>\n",
              "  </svg>\n",
              "    </button>\n",
              "\n",
              "  <style>\n",
              "    .colab-df-container {\n",
              "      display:flex;\n",
              "      gap: 12px;\n",
              "    }\n",
              "\n",
              "    .colab-df-convert {\n",
              "      background-color: #E8F0FE;\n",
              "      border: none;\n",
              "      border-radius: 50%;\n",
              "      cursor: pointer;\n",
              "      display: none;\n",
              "      fill: #1967D2;\n",
              "      height: 32px;\n",
              "      padding: 0 0 0 0;\n",
              "      width: 32px;\n",
              "    }\n",
              "\n",
              "    .colab-df-convert:hover {\n",
              "      background-color: #E2EBFA;\n",
              "      box-shadow: 0px 1px 2px rgba(60, 64, 67, 0.3), 0px 1px 3px 1px rgba(60, 64, 67, 0.15);\n",
              "      fill: #174EA6;\n",
              "    }\n",
              "\n",
              "    .colab-df-buttons div {\n",
              "      margin-bottom: 4px;\n",
              "    }\n",
              "\n",
              "    [theme=dark] .colab-df-convert {\n",
              "      background-color: #3B4455;\n",
              "      fill: #D2E3FC;\n",
              "    }\n",
              "\n",
              "    [theme=dark] .colab-df-convert:hover {\n",
              "      background-color: #434B5C;\n",
              "      box-shadow: 0px 1px 3px 1px rgba(0, 0, 0, 0.15);\n",
              "      filter: drop-shadow(0px 1px 2px rgba(0, 0, 0, 0.3));\n",
              "      fill: #FFFFFF;\n",
              "    }\n",
              "  </style>\n",
              "\n",
              "    <script>\n",
              "      const buttonEl =\n",
              "        document.querySelector('#df-a89957ae-49a5-4f34-9cea-55e4c106d485 button.colab-df-convert');\n",
              "      buttonEl.style.display =\n",
              "        google.colab.kernel.accessAllowed ? 'block' : 'none';\n",
              "\n",
              "      async function convertToInteractive(key) {\n",
              "        const element = document.querySelector('#df-a89957ae-49a5-4f34-9cea-55e4c106d485');\n",
              "        const dataTable =\n",
              "          await google.colab.kernel.invokeFunction('convertToInteractive',\n",
              "                                                    [key], {});\n",
              "        if (!dataTable) return;\n",
              "\n",
              "        const docLinkHtml = 'Like what you see? Visit the ' +\n",
              "          '<a target=\"_blank\" href=https://colab.research.google.com/notebooks/data_table.ipynb>data table notebook</a>'\n",
              "          + ' to learn more about interactive tables.';\n",
              "        element.innerHTML = '';\n",
              "        dataTable['output_type'] = 'display_data';\n",
              "        await google.colab.output.renderOutput(dataTable, element);\n",
              "        const docLink = document.createElement('div');\n",
              "        docLink.innerHTML = docLinkHtml;\n",
              "        element.appendChild(docLink);\n",
              "      }\n",
              "    </script>\n",
              "  </div>\n",
              "\n",
              "\n",
              "    <div id=\"df-ad419335-0e27-4925-92f4-74b50d854595\">\n",
              "      <button class=\"colab-df-quickchart\" onclick=\"quickchart('df-ad419335-0e27-4925-92f4-74b50d854595')\"\n",
              "                title=\"Suggest charts\"\n",
              "                style=\"display:none;\">\n",
              "\n",
              "<svg xmlns=\"http://www.w3.org/2000/svg\" height=\"24px\"viewBox=\"0 0 24 24\"\n",
              "     width=\"24px\">\n",
              "    <g>\n",
              "        <path d=\"M19 3H5c-1.1 0-2 .9-2 2v14c0 1.1.9 2 2 2h14c1.1 0 2-.9 2-2V5c0-1.1-.9-2-2-2zM9 17H7v-7h2v7zm4 0h-2V7h2v10zm4 0h-2v-4h2v4z\"/>\n",
              "    </g>\n",
              "</svg>\n",
              "      </button>\n",
              "\n",
              "<style>\n",
              "  .colab-df-quickchart {\n",
              "      --bg-color: #E8F0FE;\n",
              "      --fill-color: #1967D2;\n",
              "      --hover-bg-color: #E2EBFA;\n",
              "      --hover-fill-color: #174EA6;\n",
              "      --disabled-fill-color: #AAA;\n",
              "      --disabled-bg-color: #DDD;\n",
              "  }\n",
              "\n",
              "  [theme=dark] .colab-df-quickchart {\n",
              "      --bg-color: #3B4455;\n",
              "      --fill-color: #D2E3FC;\n",
              "      --hover-bg-color: #434B5C;\n",
              "      --hover-fill-color: #FFFFFF;\n",
              "      --disabled-bg-color: #3B4455;\n",
              "      --disabled-fill-color: #666;\n",
              "  }\n",
              "\n",
              "  .colab-df-quickchart {\n",
              "    background-color: var(--bg-color);\n",
              "    border: none;\n",
              "    border-radius: 50%;\n",
              "    cursor: pointer;\n",
              "    display: none;\n",
              "    fill: var(--fill-color);\n",
              "    height: 32px;\n",
              "    padding: 0;\n",
              "    width: 32px;\n",
              "  }\n",
              "\n",
              "  .colab-df-quickchart:hover {\n",
              "    background-color: var(--hover-bg-color);\n",
              "    box-shadow: 0 1px 2px rgba(60, 64, 67, 0.3), 0 1px 3px 1px rgba(60, 64, 67, 0.15);\n",
              "    fill: var(--button-hover-fill-color);\n",
              "  }\n",
              "\n",
              "  .colab-df-quickchart-complete:disabled,\n",
              "  .colab-df-quickchart-complete:disabled:hover {\n",
              "    background-color: var(--disabled-bg-color);\n",
              "    fill: var(--disabled-fill-color);\n",
              "    box-shadow: none;\n",
              "  }\n",
              "\n",
              "  .colab-df-spinner {\n",
              "    border: 2px solid var(--fill-color);\n",
              "    border-color: transparent;\n",
              "    border-bottom-color: var(--fill-color);\n",
              "    animation:\n",
              "      spin 1s steps(1) infinite;\n",
              "  }\n",
              "\n",
              "  @keyframes spin {\n",
              "    0% {\n",
              "      border-color: transparent;\n",
              "      border-bottom-color: var(--fill-color);\n",
              "      border-left-color: var(--fill-color);\n",
              "    }\n",
              "    20% {\n",
              "      border-color: transparent;\n",
              "      border-left-color: var(--fill-color);\n",
              "      border-top-color: var(--fill-color);\n",
              "    }\n",
              "    30% {\n",
              "      border-color: transparent;\n",
              "      border-left-color: var(--fill-color);\n",
              "      border-top-color: var(--fill-color);\n",
              "      border-right-color: var(--fill-color);\n",
              "    }\n",
              "    40% {\n",
              "      border-color: transparent;\n",
              "      border-right-color: var(--fill-color);\n",
              "      border-top-color: var(--fill-color);\n",
              "    }\n",
              "    60% {\n",
              "      border-color: transparent;\n",
              "      border-right-color: var(--fill-color);\n",
              "    }\n",
              "    80% {\n",
              "      border-color: transparent;\n",
              "      border-right-color: var(--fill-color);\n",
              "      border-bottom-color: var(--fill-color);\n",
              "    }\n",
              "    90% {\n",
              "      border-color: transparent;\n",
              "      border-bottom-color: var(--fill-color);\n",
              "    }\n",
              "  }\n",
              "</style>\n",
              "\n",
              "      <script>\n",
              "        async function quickchart(key) {\n",
              "          const quickchartButtonEl =\n",
              "            document.querySelector('#' + key + ' button');\n",
              "          quickchartButtonEl.disabled = true;  // To prevent multiple clicks.\n",
              "          quickchartButtonEl.classList.add('colab-df-spinner');\n",
              "          try {\n",
              "            const charts = await google.colab.kernel.invokeFunction(\n",
              "                'suggestCharts', [key], {});\n",
              "          } catch (error) {\n",
              "            console.error('Error during call to suggestCharts:', error);\n",
              "          }\n",
              "          quickchartButtonEl.classList.remove('colab-df-spinner');\n",
              "          quickchartButtonEl.classList.add('colab-df-quickchart-complete');\n",
              "        }\n",
              "        (() => {\n",
              "          let quickchartButtonEl =\n",
              "            document.querySelector('#df-ad419335-0e27-4925-92f4-74b50d854595 button');\n",
              "          quickchartButtonEl.style.display =\n",
              "            google.colab.kernel.accessAllowed ? 'block' : 'none';\n",
              "        })();\n",
              "      </script>\n",
              "    </div>\n",
              "\n",
              "  <div id=\"id_84688053-fcd3-47e0-b694-21c2e7da26d4\">\n",
              "    <style>\n",
              "      .colab-df-generate {\n",
              "        background-color: #E8F0FE;\n",
              "        border: none;\n",
              "        border-radius: 50%;\n",
              "        cursor: pointer;\n",
              "        display: none;\n",
              "        fill: #1967D2;\n",
              "        height: 32px;\n",
              "        padding: 0 0 0 0;\n",
              "        width: 32px;\n",
              "      }\n",
              "\n",
              "      .colab-df-generate:hover {\n",
              "        background-color: #E2EBFA;\n",
              "        box-shadow: 0px 1px 2px rgba(60, 64, 67, 0.3), 0px 1px 3px 1px rgba(60, 64, 67, 0.15);\n",
              "        fill: #174EA6;\n",
              "      }\n",
              "\n",
              "      [theme=dark] .colab-df-generate {\n",
              "        background-color: #3B4455;\n",
              "        fill: #D2E3FC;\n",
              "      }\n",
              "\n",
              "      [theme=dark] .colab-df-generate:hover {\n",
              "        background-color: #434B5C;\n",
              "        box-shadow: 0px 1px 3px 1px rgba(0, 0, 0, 0.15);\n",
              "        filter: drop-shadow(0px 1px 2px rgba(0, 0, 0, 0.3));\n",
              "        fill: #FFFFFF;\n",
              "      }\n",
              "    </style>\n",
              "    <button class=\"colab-df-generate\" onclick=\"generateWithVariable('base')\"\n",
              "            title=\"Generate code using this dataframe.\"\n",
              "            style=\"display:none;\">\n",
              "\n",
              "  <svg xmlns=\"http://www.w3.org/2000/svg\" height=\"24px\"viewBox=\"0 0 24 24\"\n",
              "       width=\"24px\">\n",
              "    <path d=\"M7,19H8.4L18.45,9,17,7.55,7,17.6ZM5,21V16.75L18.45,3.32a2,2,0,0,1,2.83,0l1.4,1.43a1.91,1.91,0,0,1,.58,1.4,1.91,1.91,0,0,1-.58,1.4L9.25,21ZM18.45,9,17,7.55Zm-12,3A5.31,5.31,0,0,0,4.9,8.1,5.31,5.31,0,0,0,1,6.5,5.31,5.31,0,0,0,4.9,4.9,5.31,5.31,0,0,0,6.5,1,5.31,5.31,0,0,0,8.1,4.9,5.31,5.31,0,0,0,12,6.5,5.46,5.46,0,0,0,6.5,12Z\"/>\n",
              "  </svg>\n",
              "    </button>\n",
              "    <script>\n",
              "      (() => {\n",
              "      const buttonEl =\n",
              "        document.querySelector('#id_84688053-fcd3-47e0-b694-21c2e7da26d4 button.colab-df-generate');\n",
              "      buttonEl.style.display =\n",
              "        google.colab.kernel.accessAllowed ? 'block' : 'none';\n",
              "\n",
              "      buttonEl.onclick = () => {\n",
              "        google.colab.notebook.generateWithVariable('base');\n",
              "      }\n",
              "      })();\n",
              "    </script>\n",
              "  </div>\n",
              "\n",
              "    </div>\n",
              "  </div>\n"
            ],
            "application/vnd.google.colaboratory.intrinsic+json": {
              "type": "dataframe",
              "variable_name": "base",
              "repr_error": "0"
            }
          },
          "metadata": {},
          "execution_count": 110
        }
      ]
    },
    {
      "cell_type": "code",
      "source": [
        "base['Genero'] = base['Genero'].astype(int)"
      ],
      "metadata": {
        "id": "b14vRf9o6xKi"
      },
      "execution_count": 111,
      "outputs": []
    },
    {
      "cell_type": "code",
      "source": [
        "base['Cor/raca/etnia'] = base['Cor/raca/etnia'].astype(int)"
      ],
      "metadata": {
        "id": "6D9V7zVL61sy"
      },
      "execution_count": 112,
      "outputs": []
    },
    {
      "cell_type": "code",
      "source": [
        "base['PCD'] = base['PCD'].astype(int)"
      ],
      "metadata": {
        "id": "Kt-o-yZL61eO"
      },
      "execution_count": 113,
      "outputs": []
    },
    {
      "cell_type": "code",
      "source": [
        "base['UF'] = base['UF'].astype(int)"
      ],
      "metadata": {
        "id": "191Swmsb61Q2"
      },
      "execution_count": 114,
      "outputs": []
    },
    {
      "cell_type": "code",
      "source": [
        "base['Regiao onde mora'] = base['Regiao onde mora'].astype(int)"
      ],
      "metadata": {
        "id": "FSfyNge761Ak"
      },
      "execution_count": 115,
      "outputs": []
    },
    {
      "cell_type": "code",
      "source": [
        "base['Nivel de Ensino'] = base['Nivel de Ensino'].astype(int)"
      ],
      "metadata": {
        "id": "sUS2BILc60we"
      },
      "execution_count": 116,
      "outputs": []
    },
    {
      "cell_type": "code",
      "source": [
        "base['Area de Formação'] = base['Area de Formação'].astype(int)"
      ],
      "metadata": {
        "id": "C6PPglJN60fQ"
      },
      "execution_count": 117,
      "outputs": []
    },
    {
      "cell_type": "code",
      "source": [
        "base['Situação atual de Trabalho'] = base['Situação atual de Trabalho'].astype(int)"
      ],
      "metadata": {
        "id": "l9V_uQ8k60Ly"
      },
      "execution_count": 118,
      "outputs": []
    },
    {
      "cell_type": "code",
      "source": [
        "base['Setor'] = base['Setor'].astype(int)"
      ],
      "metadata": {
        "id": "YoZhuDdV6z4s"
      },
      "execution_count": 119,
      "outputs": []
    },
    {
      "cell_type": "code",
      "source": [
        "base['Nivel'] = base['Nivel'].astype(int)"
      ],
      "metadata": {
        "id": "41nfuuVD6znP"
      },
      "execution_count": 120,
      "outputs": []
    },
    {
      "cell_type": "code",
      "source": [
        "base['Cargo'] = base['Cargo'].astype(int)"
      ],
      "metadata": {
        "id": "fnQhcCNo6zTO"
      },
      "execution_count": 121,
      "outputs": []
    },
    {
      "cell_type": "code",
      "source": [
        "base['Forma de Trabalho'] = base['Forma de Trabalho'].astype(int)"
      ],
      "metadata": {
        "id": "26FrkvqN6y8A"
      },
      "execution_count": 122,
      "outputs": []
    },
    {
      "cell_type": "code",
      "source": [
        "base['Atuação'] = base['progressao_prejudicada'].astype(int)"
      ],
      "metadata": {
        "id": "K_YDg66W6yhC"
      },
      "execution_count": 123,
      "outputs": []
    },
    {
      "cell_type": "code",
      "source": [
        "base.info()"
      ],
      "metadata": {
        "colab": {
          "base_uri": "https://localhost:8080/"
        },
        "id": "HjRAHgK67d4I",
        "outputId": "410434cb-bb8c-4454-e5bc-91544e97df5c"
      },
      "execution_count": 124,
      "outputs": [
        {
          "output_type": "stream",
          "name": "stdout",
          "text": [
            "<class 'pandas.core.frame.DataFrame'>\n",
            "Index: 887 entries, 2 to 5279\n",
            "Data columns (total 15 columns):\n",
            " #   Column                      Non-Null Count  Dtype\n",
            "---  ------                      --------------  -----\n",
            " 0   Idade                       887 non-null    int64\n",
            " 1   Genero                      887 non-null    int64\n",
            " 2   Cor/raca/etnia              887 non-null    int64\n",
            " 3   PCD                         887 non-null    int64\n",
            " 4   UF                          887 non-null    int64\n",
            " 5   Regiao onde mora            887 non-null    int64\n",
            " 6   Nivel de Ensino             887 non-null    int64\n",
            " 7   Area de Formação            887 non-null    int64\n",
            " 8   Situação atual de Trabalho  887 non-null    int64\n",
            " 9   Setor                       887 non-null    int64\n",
            " 10  Cargo                       887 non-null    int64\n",
            " 11  Nivel                       887 non-null    int64\n",
            " 12  Forma de Trabalho           887 non-null    int64\n",
            " 13  Atuação                     887 non-null    int64\n",
            " 14  progressao_prejudicada      887 non-null    int64\n",
            "dtypes: int64(15)\n",
            "memory usage: 143.2 KB\n"
          ]
        }
      ]
    },
    {
      "cell_type": "code",
      "source": [
        "base.to_csv('/content/drive/MyDrive/PCD1/assets/data/bases_modificadas/State_of_Data_dados_codificados.csv', index=False)"
      ],
      "metadata": {
        "id": "Nvs7DXzg2ewW"
      },
      "execution_count": 125,
      "outputs": []
    }
  ]
}