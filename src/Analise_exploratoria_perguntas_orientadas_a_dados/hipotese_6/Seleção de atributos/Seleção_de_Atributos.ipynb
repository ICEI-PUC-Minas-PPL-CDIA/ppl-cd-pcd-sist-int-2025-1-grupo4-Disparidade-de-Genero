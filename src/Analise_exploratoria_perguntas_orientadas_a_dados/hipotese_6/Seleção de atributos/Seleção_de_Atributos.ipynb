{
  "nbformat": 4,
  "nbformat_minor": 0,
  "metadata": {
    "colab": {
      "provenance": []
    },
    "kernelspec": {
      "name": "python3",
      "display_name": "Python 3"
    },
    "language_info": {
      "name": "python"
    }
  },
  "cells": [
    {
      "cell_type": "markdown",
      "source": [
        "# Seleção de Atributos"
      ],
      "metadata": {
        "id": "bTX3oSKrByt6"
      }
    },
    {
      "cell_type": "markdown",
      "source": [
        "## Instalação da bib pandas"
      ],
      "metadata": {
        "id": "-eYUFBfyB4Jj"
      }
    },
    {
      "cell_type": "code",
      "source": [
        "!pip install pandas"
      ],
      "metadata": {
        "id": "hmZN5_ccBT9l"
      },
      "execution_count": null,
      "outputs": []
    },
    {
      "cell_type": "markdown",
      "source": [
        "## Importação da bib"
      ],
      "metadata": {
        "id": "n7AUHKc2B9WZ"
      }
    },
    {
      "cell_type": "code",
      "source": [
        "import pandas as pd"
      ],
      "metadata": {
        "id": "E90i1XNRrIv1"
      },
      "execution_count": null,
      "outputs": []
    },
    {
      "cell_type": "markdown",
      "source": [
        "## Leitura da base"
      ],
      "metadata": {
        "id": "v2sxxPVFB__i"
      }
    },
    {
      "cell_type": "code",
      "source": [
        "base = pd.read_csv(\"State of data BR 2023.csv\", sep=';')"
      ],
      "metadata": {
        "id": "1B3UsiyqgnAu"
      },
      "execution_count": null,
      "outputs": []
    },
    {
      "cell_type": "markdown",
      "source": [
        "## Renomeação de colunas"
      ],
      "metadata": {
        "id": "OeCjddxpCD3I"
      }
    },
    {
      "cell_type": "code",
      "source": [
        "novo_nome_colunas = {\n",
        "    \"('P1_a ', 'Idade')\": 'Idade',\n",
        "    \"('P1_b ', 'Genero')\": 'Genero',\n",
        "    \"('P1_c ', 'Cor/raca/etnia')\": 'Cor/raca/etnia',\n",
        "    \"('P1_d ', 'PCD')\": 'PCD',\n",
        "    \"('P1_f_4', 'Oportunidades de progressão de carreira')\": 'Oportunidade de Progressão de Carreira',\n",
        "    \"('P1_i_1 ', 'uf onde mora')\": 'UF',\n",
        "    \"('P1_i_2 ', 'Regiao onde mora')\": 'Regiao onde mora',\n",
        "    \"('P1_l ', 'Nivel de Ensino')\": 'Nivel de Ensino',\n",
        "    \"('P1_m ', 'Área de Formação')\": 'Area de Formação',\n",
        "    \"('P2_a ', 'Qual sua situação atual de trabalho?')\": 'Situação atual de Trabalho',\n",
        "    \"('P2_b ', 'Setor')\": 'Setor',\n",
        "    \"('P2_f ', 'Cargo Atual')\": 'Cargo',\n",
        "    \"('P2_g ', 'Nivel')\": 'Nivel',\n",
        "    \"('P2_r ', 'Atualmente qual a sua forma de trabalho?')\": 'Forma de Trabalho',\n",
        "    \"('P4_a_1 ', 'Atuacao')\": 'Atuação'\n",
        "}\n",
        "\n",
        "base.columns = [novo_nome_colunas.get(col, col) for col in base.columns]"
      ],
      "metadata": {
        "id": "gUQUT_y-BqzS"
      },
      "execution_count": null,
      "outputs": []
    },
    {
      "cell_type": "markdown",
      "source": [
        "## Seleção de colunas"
      ],
      "metadata": {
        "id": "yqx5JNm5CG9L"
      }
    },
    {
      "cell_type": "code",
      "source": [
        "colunas = [\n",
        "    \"Idade\",\n",
        "    \"Genero\",\n",
        "    \"Cor/raca/etnia\",\n",
        "    \"PCD\",\n",
        "    \"Oportunidade de Progressão de Carreira\",\n",
        "    \"UF\",\n",
        "    \"Regiao onde mora\",\n",
        "    \"Nivel de Ensino\",\n",
        "    \"Area de Formação\",\n",
        "    \"Situação atual de Trabalho\",\n",
        "    \"Setor\",\n",
        "    \"Cargo\",\n",
        "    \"Nivel\",\n",
        "    \"Forma de Trabalho\",\n",
        "    \"Atuação\"\n",
        "]\n",
        "base = base[colunas]\n",
        "base.columns.tolist()"
      ],
      "metadata": {
        "id": "cm7TjODCBtbR"
      },
      "execution_count": null,
      "outputs": []
    }
  ]
}