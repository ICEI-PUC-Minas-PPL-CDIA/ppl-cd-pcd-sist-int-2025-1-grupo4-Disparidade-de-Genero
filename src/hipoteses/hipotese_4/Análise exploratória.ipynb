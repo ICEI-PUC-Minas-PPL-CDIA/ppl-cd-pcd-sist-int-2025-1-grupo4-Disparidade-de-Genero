{
  "nbformat": 4,
  "nbformat_minor": 0,
  "metadata": {
    "colab": {
      "provenance": []
    },
    "kernelspec": {
      "name": "python3",
      "display_name": "Python 3"
    },
    "language_info": {
      "name": "python"
    }
  },
  "cells": [
    {
      "cell_type": "code",
      "execution_count": 580,
      "metadata": {
        "colab": {
          "base_uri": "https://localhost:8080/"
        },
        "collapsed": true,
        "id": "A9S41pHg7cCU",
        "outputId": "778fbf67-14a0-4fe2-ab2c-3d0dcd6b8502"
      },
      "outputs": [
        {
          "output_type": "stream",
          "name": "stdout",
          "text": [
            "Requirement already satisfied: pandas in /usr/local/lib/python3.11/dist-packages (2.2.2)\n",
            "Requirement already satisfied: numpy>=1.23.2 in /usr/local/lib/python3.11/dist-packages (from pandas) (2.0.2)\n",
            "Requirement already satisfied: python-dateutil>=2.8.2 in /usr/local/lib/python3.11/dist-packages (from pandas) (2.9.0.post0)\n",
            "Requirement already satisfied: pytz>=2020.1 in /usr/local/lib/python3.11/dist-packages (from pandas) (2025.2)\n",
            "Requirement already satisfied: tzdata>=2022.7 in /usr/local/lib/python3.11/dist-packages (from pandas) (2025.2)\n",
            "Requirement already satisfied: six>=1.5 in /usr/local/lib/python3.11/dist-packages (from python-dateutil>=2.8.2->pandas) (1.17.0)\n"
          ]
        }
      ],
      "source": [
        "!pip install pandas"
      ]
    },
    {
      "cell_type": "code",
      "source": [
        "#Importei as bibliotecas necessárias para manipulação da base de dados, geração de gráficos.\n",
        "import pandas as pd\n",
        "import seaborn as sns\n",
        "import matplotlib.pyplot as plt\n"
      ],
      "metadata": {
        "id": "cDqF_4oB73wx"
      },
      "execution_count": 581,
      "outputs": []
    },
    {
      "cell_type": "code",
      "source": [
        "#Ler base principal do state of data.\n",
        "base_princ = pd.read_csv('State_of_data_BR_2023_Kaggle - df_survey_2023.csv')"
      ],
      "metadata": {
        "id": "EnvUAz5M88my"
      },
      "execution_count": 582,
      "outputs": []
    },
    {
      "cell_type": "code",
      "source": [
        "# Alterei o nome das colunas para ficar de fácil manipulação e entendimento.\n",
        "novo_nome_colunas = {\n",
        "    \"('P1_a ', 'Idade')\": 'Idade',\n",
        "    \"('P1_b ', 'Genero')\": 'Genero',\n",
        "    \"('P1_c ', 'Cor/raca/etnia')\": 'Cor/raca/etnia',\n",
        "    \"('P1_d ', 'PCD')\": 'PCD',\n",
        "    \"('P1_i_1 ', 'uf onde mora')\": 'UF',\n",
        "    \"('P1_i_2 ', 'Regiao onde mora')\": 'Regiao onde mora',\n",
        "    \"('P1_l ', 'Nivel de Ensino')\": 'Nível de Ensino',\n",
        "    \"('P1_m ', 'Área de Formação')\": 'Área de formação',\n",
        "    \"('P2_a ', 'Qual sua situação atual de trabalho?')\": 'Situação de trabalho'\n",
        "}\n",
        "\n",
        "base_princ.columns = [novo_nome_colunas.get(col, col) for col in base_princ.columns]\n",
        "print(base_princ.columns)"
      ],
      "metadata": {
        "colab": {
          "base_uri": "https://localhost:8080/"
        },
        "id": "WWTnAokfA6m8",
        "outputId": "2a50c3c3-0138-4ead-a4cb-32ff53ebcac4"
      },
      "execution_count": 583,
      "outputs": [
        {
          "output_type": "stream",
          "name": "stdout",
          "text": [
            "Index(['('P0', 'id')', 'Idade', '('P1_a_1 ', 'Faixa idade')', 'Genero',\n",
            "       'Cor/raca/etnia', 'PCD',\n",
            "       '('P1_e ', 'experiencia_profissional_prejudicada')',\n",
            "       '('P1_e_1 ', 'Não acredito que minha experiência profissional seja afetada')',\n",
            "       '('P1_e_2 ', 'Experiencia prejudicada devido a minha Cor Raça Etnia')',\n",
            "       '('P1_e_3 ', 'Experiencia prejudicada devido a minha identidade de gênero')',\n",
            "       ...\n",
            "       '('P8_d_3 ', 'Entrando em contato com os times de negócio para definição do problema, identificar a solução e apresentação de resultados.')',\n",
            "       '('P8_d_4 ', 'Desenvolvendo modelos de Machine Learning com o objetivo de colocar em produção em sistemas (produtos de dados).')',\n",
            "       '('P8_d_5 ', 'Colocando modelos em produção, criando os pipelines de dados, APIs de consumo e monitoramento.')',\n",
            "       '('P8_d_6 ', 'Cuidando da manutenção de modelos de Machine Learning já em produção, atuando no monitoramento, ajustes e refatoração quando necessário.')',\n",
            "       '('P8_d_7 ', 'Realizando construções de dashboards em ferramentas de BI como PowerBI, Tableau, Looker, Qlik, etc.')',\n",
            "       '('P8_d_8 ', 'Utilizando ferramentas avançadas de estatística como SAS, SPSS, Stata etc, para realizar análises.')',\n",
            "       '('P8_d_9 ', 'Criando e dando manutenção em ETLs, DAGs e automações de pipelines de dados.')',\n",
            "       '('P8_d_10 ', 'Criando e gerenciando soluções de Feature Store e cultura de MLOps.')',\n",
            "       '('P8_d_11 ', 'Criando e mantendo a infra que meus modelos e soluções rodam (clusters, servidores, API, containers, etc.)')',\n",
            "       '('P8_d_12 ', 'Treinando e aplicando LLM's para solucionar problemas de negócio.')'],\n",
            "      dtype='object', length=399)\n"
          ]
        }
      ]
    },
    {
      "cell_type": "code",
      "source": [
        "#Criou um novo dataframe com as colunas(atributos) desejados, o tolist me gerou as listas presentes no dataframe \"base_princ\".\n",
        "colunas = [\n",
        "    \"Idade\",\n",
        "    \"Genero\",\n",
        "    \"Cor/raca/etnia\",\n",
        "    \"PCD\",\n",
        "    \"UF\",\n",
        "    \"Regiao onde mora\",\n",
        "    \"Nível de Ensino\",\n",
        "    \"Área de formação\",\n",
        "    \"Situação de trabalho\"\n",
        "]\n",
        "base_princ = base_princ[colunas]\n",
        "base_princ.columns.tolist()"
      ],
      "metadata": {
        "colab": {
          "base_uri": "https://localhost:8080/"
        },
        "collapsed": true,
        "id": "ELvh8U3lHLpA",
        "outputId": "fd6d80c2-9fa0-48c1-b909-37bd3ca666d7"
      },
      "execution_count": 584,
      "outputs": [
        {
          "output_type": "execute_result",
          "data": {
            "text/plain": [
              "['Idade',\n",
              " 'Genero',\n",
              " 'Cor/raca/etnia',\n",
              " 'PCD',\n",
              " 'UF',\n",
              " 'Regiao onde mora',\n",
              " 'Nível de Ensino',\n",
              " 'Área de formação',\n",
              " 'Situação de trabalho']"
            ]
          },
          "metadata": {},
          "execution_count": 584
        }
      ]
    },
    {
      "cell_type": "code",
      "source": [
        "#Visualizar as colunas novas e as primeiras linhas da nova base.\n",
        "base_princ.head()"
      ],
      "metadata": {
        "colab": {
          "base_uri": "https://localhost:8080/",
          "height": 206
        },
        "collapsed": true,
        "id": "dLZ5pwI5_hNK",
        "outputId": "24c0504f-8b4f-462d-930d-c6576138d12c"
      },
      "execution_count": 585,
      "outputs": [
        {
          "output_type": "execute_result",
          "data": {
            "text/plain": [
              "   Idade     Genero Cor/raca/etnia  PCD  UF Regiao onde mora  \\\n",
              "0     31  Masculino         Branca  Não  MG          Sudeste   \n",
              "1     30  Masculino         Branca  Não  ES          Sudeste   \n",
              "2     37   Feminino        Amarela  Não  SP          Sudeste   \n",
              "3     22  Masculino          Preta  Não  SP          Sudeste   \n",
              "4     34  Masculino         Branca  Não  MG          Sudeste   \n",
              "\n",
              "          Nível de Ensino                                   Área de formação  \\\n",
              "0        Doutorado ou Phd  Computação / Engenharia de Software / Sistemas...   \n",
              "1   Graduação/Bacharelado  Computação / Engenharia de Software / Sistemas...   \n",
              "2   Graduação/Bacharelado  Computação / Engenharia de Software / Sistemas...   \n",
              "3  Estudante de Graduação  Computação / Engenharia de Software / Sistemas...   \n",
              "4        Doutorado ou Phd  Economia/ Administração / Contabilidade / Fina...   \n",
              "\n",
              "                 Situação de trabalho  \n",
              "0                     Empregado (CLT)  \n",
              "1    Empreendedor ou Empregado (CNPJ)  \n",
              "2                     Empregado (CLT)  \n",
              "3  Desempregado, buscando recolocação  \n",
              "4    Empreendedor ou Empregado (CNPJ)  "
            ],
            "text/html": [
              "\n",
              "  <div id=\"df-32c3cb7f-6e71-43b3-bf32-d38320142b62\" class=\"colab-df-container\">\n",
              "    <div>\n",
              "<style scoped>\n",
              "    .dataframe tbody tr th:only-of-type {\n",
              "        vertical-align: middle;\n",
              "    }\n",
              "\n",
              "    .dataframe tbody tr th {\n",
              "        vertical-align: top;\n",
              "    }\n",
              "\n",
              "    .dataframe thead th {\n",
              "        text-align: right;\n",
              "    }\n",
              "</style>\n",
              "<table border=\"1\" class=\"dataframe\">\n",
              "  <thead>\n",
              "    <tr style=\"text-align: right;\">\n",
              "      <th></th>\n",
              "      <th>Idade</th>\n",
              "      <th>Genero</th>\n",
              "      <th>Cor/raca/etnia</th>\n",
              "      <th>PCD</th>\n",
              "      <th>UF</th>\n",
              "      <th>Regiao onde mora</th>\n",
              "      <th>Nível de Ensino</th>\n",
              "      <th>Área de formação</th>\n",
              "      <th>Situação de trabalho</th>\n",
              "    </tr>\n",
              "  </thead>\n",
              "  <tbody>\n",
              "    <tr>\n",
              "      <th>0</th>\n",
              "      <td>31</td>\n",
              "      <td>Masculino</td>\n",
              "      <td>Branca</td>\n",
              "      <td>Não</td>\n",
              "      <td>MG</td>\n",
              "      <td>Sudeste</td>\n",
              "      <td>Doutorado ou Phd</td>\n",
              "      <td>Computação / Engenharia de Software / Sistemas...</td>\n",
              "      <td>Empregado (CLT)</td>\n",
              "    </tr>\n",
              "    <tr>\n",
              "      <th>1</th>\n",
              "      <td>30</td>\n",
              "      <td>Masculino</td>\n",
              "      <td>Branca</td>\n",
              "      <td>Não</td>\n",
              "      <td>ES</td>\n",
              "      <td>Sudeste</td>\n",
              "      <td>Graduação/Bacharelado</td>\n",
              "      <td>Computação / Engenharia de Software / Sistemas...</td>\n",
              "      <td>Empreendedor ou Empregado (CNPJ)</td>\n",
              "    </tr>\n",
              "    <tr>\n",
              "      <th>2</th>\n",
              "      <td>37</td>\n",
              "      <td>Feminino</td>\n",
              "      <td>Amarela</td>\n",
              "      <td>Não</td>\n",
              "      <td>SP</td>\n",
              "      <td>Sudeste</td>\n",
              "      <td>Graduação/Bacharelado</td>\n",
              "      <td>Computação / Engenharia de Software / Sistemas...</td>\n",
              "      <td>Empregado (CLT)</td>\n",
              "    </tr>\n",
              "    <tr>\n",
              "      <th>3</th>\n",
              "      <td>22</td>\n",
              "      <td>Masculino</td>\n",
              "      <td>Preta</td>\n",
              "      <td>Não</td>\n",
              "      <td>SP</td>\n",
              "      <td>Sudeste</td>\n",
              "      <td>Estudante de Graduação</td>\n",
              "      <td>Computação / Engenharia de Software / Sistemas...</td>\n",
              "      <td>Desempregado, buscando recolocação</td>\n",
              "    </tr>\n",
              "    <tr>\n",
              "      <th>4</th>\n",
              "      <td>34</td>\n",
              "      <td>Masculino</td>\n",
              "      <td>Branca</td>\n",
              "      <td>Não</td>\n",
              "      <td>MG</td>\n",
              "      <td>Sudeste</td>\n",
              "      <td>Doutorado ou Phd</td>\n",
              "      <td>Economia/ Administração / Contabilidade / Fina...</td>\n",
              "      <td>Empreendedor ou Empregado (CNPJ)</td>\n",
              "    </tr>\n",
              "  </tbody>\n",
              "</table>\n",
              "</div>\n",
              "    <div class=\"colab-df-buttons\">\n",
              "\n",
              "  <div class=\"colab-df-container\">\n",
              "    <button class=\"colab-df-convert\" onclick=\"convertToInteractive('df-32c3cb7f-6e71-43b3-bf32-d38320142b62')\"\n",
              "            title=\"Convert this dataframe to an interactive table.\"\n",
              "            style=\"display:none;\">\n",
              "\n",
              "  <svg xmlns=\"http://www.w3.org/2000/svg\" height=\"24px\" viewBox=\"0 -960 960 960\">\n",
              "    <path d=\"M120-120v-720h720v720H120Zm60-500h600v-160H180v160Zm220 220h160v-160H400v160Zm0 220h160v-160H400v160ZM180-400h160v-160H180v160Zm440 0h160v-160H620v160ZM180-180h160v-160H180v160Zm440 0h160v-160H620v160Z\"/>\n",
              "  </svg>\n",
              "    </button>\n",
              "\n",
              "  <style>\n",
              "    .colab-df-container {\n",
              "      display:flex;\n",
              "      gap: 12px;\n",
              "    }\n",
              "\n",
              "    .colab-df-convert {\n",
              "      background-color: #E8F0FE;\n",
              "      border: none;\n",
              "      border-radius: 50%;\n",
              "      cursor: pointer;\n",
              "      display: none;\n",
              "      fill: #1967D2;\n",
              "      height: 32px;\n",
              "      padding: 0 0 0 0;\n",
              "      width: 32px;\n",
              "    }\n",
              "\n",
              "    .colab-df-convert:hover {\n",
              "      background-color: #E2EBFA;\n",
              "      box-shadow: 0px 1px 2px rgba(60, 64, 67, 0.3), 0px 1px 3px 1px rgba(60, 64, 67, 0.15);\n",
              "      fill: #174EA6;\n",
              "    }\n",
              "\n",
              "    .colab-df-buttons div {\n",
              "      margin-bottom: 4px;\n",
              "    }\n",
              "\n",
              "    [theme=dark] .colab-df-convert {\n",
              "      background-color: #3B4455;\n",
              "      fill: #D2E3FC;\n",
              "    }\n",
              "\n",
              "    [theme=dark] .colab-df-convert:hover {\n",
              "      background-color: #434B5C;\n",
              "      box-shadow: 0px 1px 3px 1px rgba(0, 0, 0, 0.15);\n",
              "      filter: drop-shadow(0px 1px 2px rgba(0, 0, 0, 0.3));\n",
              "      fill: #FFFFFF;\n",
              "    }\n",
              "  </style>\n",
              "\n",
              "    <script>\n",
              "      const buttonEl =\n",
              "        document.querySelector('#df-32c3cb7f-6e71-43b3-bf32-d38320142b62 button.colab-df-convert');\n",
              "      buttonEl.style.display =\n",
              "        google.colab.kernel.accessAllowed ? 'block' : 'none';\n",
              "\n",
              "      async function convertToInteractive(key) {\n",
              "        const element = document.querySelector('#df-32c3cb7f-6e71-43b3-bf32-d38320142b62');\n",
              "        const dataTable =\n",
              "          await google.colab.kernel.invokeFunction('convertToInteractive',\n",
              "                                                    [key], {});\n",
              "        if (!dataTable) return;\n",
              "\n",
              "        const docLinkHtml = 'Like what you see? Visit the ' +\n",
              "          '<a target=\"_blank\" href=https://colab.research.google.com/notebooks/data_table.ipynb>data table notebook</a>'\n",
              "          + ' to learn more about interactive tables.';\n",
              "        element.innerHTML = '';\n",
              "        dataTable['output_type'] = 'display_data';\n",
              "        await google.colab.output.renderOutput(dataTable, element);\n",
              "        const docLink = document.createElement('div');\n",
              "        docLink.innerHTML = docLinkHtml;\n",
              "        element.appendChild(docLink);\n",
              "      }\n",
              "    </script>\n",
              "  </div>\n",
              "\n",
              "\n",
              "    <div id=\"df-842a6cee-7d89-497f-8bb9-4200bd47b99a\">\n",
              "      <button class=\"colab-df-quickchart\" onclick=\"quickchart('df-842a6cee-7d89-497f-8bb9-4200bd47b99a')\"\n",
              "                title=\"Suggest charts\"\n",
              "                style=\"display:none;\">\n",
              "\n",
              "<svg xmlns=\"http://www.w3.org/2000/svg\" height=\"24px\"viewBox=\"0 0 24 24\"\n",
              "     width=\"24px\">\n",
              "    <g>\n",
              "        <path d=\"M19 3H5c-1.1 0-2 .9-2 2v14c0 1.1.9 2 2 2h14c1.1 0 2-.9 2-2V5c0-1.1-.9-2-2-2zM9 17H7v-7h2v7zm4 0h-2V7h2v10zm4 0h-2v-4h2v4z\"/>\n",
              "    </g>\n",
              "</svg>\n",
              "      </button>\n",
              "\n",
              "<style>\n",
              "  .colab-df-quickchart {\n",
              "      --bg-color: #E8F0FE;\n",
              "      --fill-color: #1967D2;\n",
              "      --hover-bg-color: #E2EBFA;\n",
              "      --hover-fill-color: #174EA6;\n",
              "      --disabled-fill-color: #AAA;\n",
              "      --disabled-bg-color: #DDD;\n",
              "  }\n",
              "\n",
              "  [theme=dark] .colab-df-quickchart {\n",
              "      --bg-color: #3B4455;\n",
              "      --fill-color: #D2E3FC;\n",
              "      --hover-bg-color: #434B5C;\n",
              "      --hover-fill-color: #FFFFFF;\n",
              "      --disabled-bg-color: #3B4455;\n",
              "      --disabled-fill-color: #666;\n",
              "  }\n",
              "\n",
              "  .colab-df-quickchart {\n",
              "    background-color: var(--bg-color);\n",
              "    border: none;\n",
              "    border-radius: 50%;\n",
              "    cursor: pointer;\n",
              "    display: none;\n",
              "    fill: var(--fill-color);\n",
              "    height: 32px;\n",
              "    padding: 0;\n",
              "    width: 32px;\n",
              "  }\n",
              "\n",
              "  .colab-df-quickchart:hover {\n",
              "    background-color: var(--hover-bg-color);\n",
              "    box-shadow: 0 1px 2px rgba(60, 64, 67, 0.3), 0 1px 3px 1px rgba(60, 64, 67, 0.15);\n",
              "    fill: var(--button-hover-fill-color);\n",
              "  }\n",
              "\n",
              "  .colab-df-quickchart-complete:disabled,\n",
              "  .colab-df-quickchart-complete:disabled:hover {\n",
              "    background-color: var(--disabled-bg-color);\n",
              "    fill: var(--disabled-fill-color);\n",
              "    box-shadow: none;\n",
              "  }\n",
              "\n",
              "  .colab-df-spinner {\n",
              "    border: 2px solid var(--fill-color);\n",
              "    border-color: transparent;\n",
              "    border-bottom-color: var(--fill-color);\n",
              "    animation:\n",
              "      spin 1s steps(1) infinite;\n",
              "  }\n",
              "\n",
              "  @keyframes spin {\n",
              "    0% {\n",
              "      border-color: transparent;\n",
              "      border-bottom-color: var(--fill-color);\n",
              "      border-left-color: var(--fill-color);\n",
              "    }\n",
              "    20% {\n",
              "      border-color: transparent;\n",
              "      border-left-color: var(--fill-color);\n",
              "      border-top-color: var(--fill-color);\n",
              "    }\n",
              "    30% {\n",
              "      border-color: transparent;\n",
              "      border-left-color: var(--fill-color);\n",
              "      border-top-color: var(--fill-color);\n",
              "      border-right-color: var(--fill-color);\n",
              "    }\n",
              "    40% {\n",
              "      border-color: transparent;\n",
              "      border-right-color: var(--fill-color);\n",
              "      border-top-color: var(--fill-color);\n",
              "    }\n",
              "    60% {\n",
              "      border-color: transparent;\n",
              "      border-right-color: var(--fill-color);\n",
              "    }\n",
              "    80% {\n",
              "      border-color: transparent;\n",
              "      border-right-color: var(--fill-color);\n",
              "      border-bottom-color: var(--fill-color);\n",
              "    }\n",
              "    90% {\n",
              "      border-color: transparent;\n",
              "      border-bottom-color: var(--fill-color);\n",
              "    }\n",
              "  }\n",
              "</style>\n",
              "\n",
              "      <script>\n",
              "        async function quickchart(key) {\n",
              "          const quickchartButtonEl =\n",
              "            document.querySelector('#' + key + ' button');\n",
              "          quickchartButtonEl.disabled = true;  // To prevent multiple clicks.\n",
              "          quickchartButtonEl.classList.add('colab-df-spinner');\n",
              "          try {\n",
              "            const charts = await google.colab.kernel.invokeFunction(\n",
              "                'suggestCharts', [key], {});\n",
              "          } catch (error) {\n",
              "            console.error('Error during call to suggestCharts:', error);\n",
              "          }\n",
              "          quickchartButtonEl.classList.remove('colab-df-spinner');\n",
              "          quickchartButtonEl.classList.add('colab-df-quickchart-complete');\n",
              "        }\n",
              "        (() => {\n",
              "          let quickchartButtonEl =\n",
              "            document.querySelector('#df-842a6cee-7d89-497f-8bb9-4200bd47b99a button');\n",
              "          quickchartButtonEl.style.display =\n",
              "            google.colab.kernel.accessAllowed ? 'block' : 'none';\n",
              "        })();\n",
              "      </script>\n",
              "    </div>\n",
              "\n",
              "    </div>\n",
              "  </div>\n"
            ],
            "application/vnd.google.colaboratory.intrinsic+json": {
              "type": "dataframe",
              "variable_name": "base_princ",
              "summary": "{\n  \"name\": \"base_princ\",\n  \"rows\": 5293,\n  \"fields\": [\n    {\n      \"column\": \"Idade\",\n      \"properties\": {\n        \"dtype\": \"number\",\n        \"std\": 7,\n        \"min\": 18,\n        \"max\": 73,\n        \"num_unique_values\": 53,\n        \"samples\": [\n          23,\n          18,\n          61\n        ],\n        \"semantic_type\": \"\",\n        \"description\": \"\"\n      }\n    },\n    {\n      \"column\": \"Genero\",\n      \"properties\": {\n        \"dtype\": \"category\",\n        \"num_unique_values\": 4,\n        \"samples\": [\n          \"Feminino\",\n          \"Prefiro n\\u00e3o informar\",\n          \"Masculino\"\n        ],\n        \"semantic_type\": \"\",\n        \"description\": \"\"\n      }\n    },\n    {\n      \"column\": \"Cor/raca/etnia\",\n      \"properties\": {\n        \"dtype\": \"category\",\n        \"num_unique_values\": 7,\n        \"samples\": [\n          \"Branca\",\n          \"Amarela\",\n          \"Outra\"\n        ],\n        \"semantic_type\": \"\",\n        \"description\": \"\"\n      }\n    },\n    {\n      \"column\": \"PCD\",\n      \"properties\": {\n        \"dtype\": \"category\",\n        \"num_unique_values\": 3,\n        \"samples\": [\n          \"N\\u00e3o\",\n          \"Sim\",\n          \"Prefiro n\\u00e3o informar\"\n        ],\n        \"semantic_type\": \"\",\n        \"description\": \"\"\n      }\n    },\n    {\n      \"column\": \"UF\",\n      \"properties\": {\n        \"dtype\": \"category\",\n        \"num_unique_values\": 25,\n        \"samples\": [\n          \"PR\",\n          \"CE\",\n          \"MG\"\n        ],\n        \"semantic_type\": \"\",\n        \"description\": \"\"\n      }\n    },\n    {\n      \"column\": \"Regiao onde mora\",\n      \"properties\": {\n        \"dtype\": \"category\",\n        \"num_unique_values\": 5,\n        \"samples\": [\n          \"Nordeste\",\n          \"Norte\",\n          \"Sul\"\n        ],\n        \"semantic_type\": \"\",\n        \"description\": \"\"\n      }\n    },\n    {\n      \"column\": \"N\\u00edvel de Ensino\",\n      \"properties\": {\n        \"dtype\": \"category\",\n        \"num_unique_values\": 7,\n        \"samples\": [\n          \"Doutorado ou Phd\",\n          \"Gradua\\u00e7\\u00e3o/Bacharelado\",\n          \"N\\u00e3o tenho gradua\\u00e7\\u00e3o formal\"\n        ],\n        \"semantic_type\": \"\",\n        \"description\": \"\"\n      }\n    },\n    {\n      \"column\": \"\\u00c1rea de forma\\u00e7\\u00e3o\",\n      \"properties\": {\n        \"dtype\": \"category\",\n        \"num_unique_values\": 9,\n        \"samples\": [\n          \"Marketing / Publicidade / Comunica\\u00e7\\u00e3o / Jornalismo\",\n          \"Economia/ Administra\\u00e7\\u00e3o / Contabilidade / Finan\\u00e7as/ Neg\\u00f3cios\",\n          \"Ci\\u00eancias Biol\\u00f3gicas/ Farm\\u00e1cia/ Medicina/ \\u00c1rea da Sa\\u00fade\"\n        ],\n        \"semantic_type\": \"\",\n        \"description\": \"\"\n      }\n    },\n    {\n      \"column\": \"Situa\\u00e7\\u00e3o de trabalho\",\n      \"properties\": {\n        \"dtype\": \"category\",\n        \"num_unique_values\": 13,\n        \"samples\": [\n          \"Freelancer\",\n          \"Somente Estudante (gradua\\u00e7\\u00e3o)\",\n          \"Empregado (CLT)\"\n        ],\n        \"semantic_type\": \"\",\n        \"description\": \"\"\n      }\n    }\n  ]\n}"
            }
          },
          "metadata": {},
          "execution_count": 585
        }
      ]
    },
    {
      "cell_type": "code",
      "source": [
        "#Visualizar a quantidade de linhas e de colunas presentes.\n",
        "base_princ"
      ],
      "metadata": {
        "colab": {
          "base_uri": "https://localhost:8080/",
          "height": 424
        },
        "id": "fw85B1PQPH8z",
        "outputId": "1b3f401e-7d36-456f-8d2e-7deea76d10a5"
      },
      "execution_count": 586,
      "outputs": [
        {
          "output_type": "execute_result",
          "data": {
            "text/plain": [
              "      Idade     Genero Cor/raca/etnia  PCD  UF Regiao onde mora  \\\n",
              "0        31  Masculino         Branca  Não  MG          Sudeste   \n",
              "1        30  Masculino         Branca  Não  ES          Sudeste   \n",
              "2        37   Feminino        Amarela  Não  SP          Sudeste   \n",
              "3        22  Masculino          Preta  Não  SP          Sudeste   \n",
              "4        34  Masculino         Branca  Não  MG          Sudeste   \n",
              "...     ...        ...            ...  ...  ..              ...   \n",
              "5288     34  Masculino          Preta  Não  MG          Sudeste   \n",
              "5289     32  Masculino         Branca  Não  RN         Nordeste   \n",
              "5290     25  Masculino         Branca  Não  SP          Sudeste   \n",
              "5291     31  Masculino          Parda  Não  SP          Sudeste   \n",
              "5292     31  Masculino        Amarela  Não  SP          Sudeste   \n",
              "\n",
              "             Nível de Ensino  \\\n",
              "0           Doutorado ou Phd   \n",
              "1      Graduação/Bacharelado   \n",
              "2      Graduação/Bacharelado   \n",
              "3     Estudante de Graduação   \n",
              "4           Doutorado ou Phd   \n",
              "...                      ...   \n",
              "5288           Pós-graduação   \n",
              "5289   Graduação/Bacharelado   \n",
              "5290   Graduação/Bacharelado   \n",
              "5291  Estudante de Graduação   \n",
              "5292           Pós-graduação   \n",
              "\n",
              "                                       Área de formação  \\\n",
              "0     Computação / Engenharia de Software / Sistemas...   \n",
              "1     Computação / Engenharia de Software / Sistemas...   \n",
              "2     Computação / Engenharia de Software / Sistemas...   \n",
              "3     Computação / Engenharia de Software / Sistemas...   \n",
              "4     Economia/ Administração / Contabilidade / Fina...   \n",
              "...                                                 ...   \n",
              "5288  Computação / Engenharia de Software / Sistemas...   \n",
              "5289                                 Outras Engenharias   \n",
              "5290  Marketing / Publicidade / Comunicação / Jornal...   \n",
              "5291  Computação / Engenharia de Software / Sistemas...   \n",
              "5292  Computação / Engenharia de Software / Sistemas...   \n",
              "\n",
              "                    Situação de trabalho  \n",
              "0                        Empregado (CLT)  \n",
              "1       Empreendedor ou Empregado (CNPJ)  \n",
              "2                        Empregado (CLT)  \n",
              "3     Desempregado, buscando recolocação  \n",
              "4       Empreendedor ou Empregado (CNPJ)  \n",
              "...                                  ...  \n",
              "5288    Empreendedor ou Empregado (CNPJ)  \n",
              "5289                     Empregado (CLT)  \n",
              "5290                     Empregado (CLT)  \n",
              "5291  Desempregado, buscando recolocação  \n",
              "5292  Desempregado, buscando recolocação  \n",
              "\n",
              "[5293 rows x 9 columns]"
            ],
            "text/html": [
              "\n",
              "  <div id=\"df-55bb3c5c-43a5-417e-8e6e-c358d43418a4\" class=\"colab-df-container\">\n",
              "    <div>\n",
              "<style scoped>\n",
              "    .dataframe tbody tr th:only-of-type {\n",
              "        vertical-align: middle;\n",
              "    }\n",
              "\n",
              "    .dataframe tbody tr th {\n",
              "        vertical-align: top;\n",
              "    }\n",
              "\n",
              "    .dataframe thead th {\n",
              "        text-align: right;\n",
              "    }\n",
              "</style>\n",
              "<table border=\"1\" class=\"dataframe\">\n",
              "  <thead>\n",
              "    <tr style=\"text-align: right;\">\n",
              "      <th></th>\n",
              "      <th>Idade</th>\n",
              "      <th>Genero</th>\n",
              "      <th>Cor/raca/etnia</th>\n",
              "      <th>PCD</th>\n",
              "      <th>UF</th>\n",
              "      <th>Regiao onde mora</th>\n",
              "      <th>Nível de Ensino</th>\n",
              "      <th>Área de formação</th>\n",
              "      <th>Situação de trabalho</th>\n",
              "    </tr>\n",
              "  </thead>\n",
              "  <tbody>\n",
              "    <tr>\n",
              "      <th>0</th>\n",
              "      <td>31</td>\n",
              "      <td>Masculino</td>\n",
              "      <td>Branca</td>\n",
              "      <td>Não</td>\n",
              "      <td>MG</td>\n",
              "      <td>Sudeste</td>\n",
              "      <td>Doutorado ou Phd</td>\n",
              "      <td>Computação / Engenharia de Software / Sistemas...</td>\n",
              "      <td>Empregado (CLT)</td>\n",
              "    </tr>\n",
              "    <tr>\n",
              "      <th>1</th>\n",
              "      <td>30</td>\n",
              "      <td>Masculino</td>\n",
              "      <td>Branca</td>\n",
              "      <td>Não</td>\n",
              "      <td>ES</td>\n",
              "      <td>Sudeste</td>\n",
              "      <td>Graduação/Bacharelado</td>\n",
              "      <td>Computação / Engenharia de Software / Sistemas...</td>\n",
              "      <td>Empreendedor ou Empregado (CNPJ)</td>\n",
              "    </tr>\n",
              "    <tr>\n",
              "      <th>2</th>\n",
              "      <td>37</td>\n",
              "      <td>Feminino</td>\n",
              "      <td>Amarela</td>\n",
              "      <td>Não</td>\n",
              "      <td>SP</td>\n",
              "      <td>Sudeste</td>\n",
              "      <td>Graduação/Bacharelado</td>\n",
              "      <td>Computação / Engenharia de Software / Sistemas...</td>\n",
              "      <td>Empregado (CLT)</td>\n",
              "    </tr>\n",
              "    <tr>\n",
              "      <th>3</th>\n",
              "      <td>22</td>\n",
              "      <td>Masculino</td>\n",
              "      <td>Preta</td>\n",
              "      <td>Não</td>\n",
              "      <td>SP</td>\n",
              "      <td>Sudeste</td>\n",
              "      <td>Estudante de Graduação</td>\n",
              "      <td>Computação / Engenharia de Software / Sistemas...</td>\n",
              "      <td>Desempregado, buscando recolocação</td>\n",
              "    </tr>\n",
              "    <tr>\n",
              "      <th>4</th>\n",
              "      <td>34</td>\n",
              "      <td>Masculino</td>\n",
              "      <td>Branca</td>\n",
              "      <td>Não</td>\n",
              "      <td>MG</td>\n",
              "      <td>Sudeste</td>\n",
              "      <td>Doutorado ou Phd</td>\n",
              "      <td>Economia/ Administração / Contabilidade / Fina...</td>\n",
              "      <td>Empreendedor ou Empregado (CNPJ)</td>\n",
              "    </tr>\n",
              "    <tr>\n",
              "      <th>...</th>\n",
              "      <td>...</td>\n",
              "      <td>...</td>\n",
              "      <td>...</td>\n",
              "      <td>...</td>\n",
              "      <td>...</td>\n",
              "      <td>...</td>\n",
              "      <td>...</td>\n",
              "      <td>...</td>\n",
              "      <td>...</td>\n",
              "    </tr>\n",
              "    <tr>\n",
              "      <th>5288</th>\n",
              "      <td>34</td>\n",
              "      <td>Masculino</td>\n",
              "      <td>Preta</td>\n",
              "      <td>Não</td>\n",
              "      <td>MG</td>\n",
              "      <td>Sudeste</td>\n",
              "      <td>Pós-graduação</td>\n",
              "      <td>Computação / Engenharia de Software / Sistemas...</td>\n",
              "      <td>Empreendedor ou Empregado (CNPJ)</td>\n",
              "    </tr>\n",
              "    <tr>\n",
              "      <th>5289</th>\n",
              "      <td>32</td>\n",
              "      <td>Masculino</td>\n",
              "      <td>Branca</td>\n",
              "      <td>Não</td>\n",
              "      <td>RN</td>\n",
              "      <td>Nordeste</td>\n",
              "      <td>Graduação/Bacharelado</td>\n",
              "      <td>Outras Engenharias</td>\n",
              "      <td>Empregado (CLT)</td>\n",
              "    </tr>\n",
              "    <tr>\n",
              "      <th>5290</th>\n",
              "      <td>25</td>\n",
              "      <td>Masculino</td>\n",
              "      <td>Branca</td>\n",
              "      <td>Não</td>\n",
              "      <td>SP</td>\n",
              "      <td>Sudeste</td>\n",
              "      <td>Graduação/Bacharelado</td>\n",
              "      <td>Marketing / Publicidade / Comunicação / Jornal...</td>\n",
              "      <td>Empregado (CLT)</td>\n",
              "    </tr>\n",
              "    <tr>\n",
              "      <th>5291</th>\n",
              "      <td>31</td>\n",
              "      <td>Masculino</td>\n",
              "      <td>Parda</td>\n",
              "      <td>Não</td>\n",
              "      <td>SP</td>\n",
              "      <td>Sudeste</td>\n",
              "      <td>Estudante de Graduação</td>\n",
              "      <td>Computação / Engenharia de Software / Sistemas...</td>\n",
              "      <td>Desempregado, buscando recolocação</td>\n",
              "    </tr>\n",
              "    <tr>\n",
              "      <th>5292</th>\n",
              "      <td>31</td>\n",
              "      <td>Masculino</td>\n",
              "      <td>Amarela</td>\n",
              "      <td>Não</td>\n",
              "      <td>SP</td>\n",
              "      <td>Sudeste</td>\n",
              "      <td>Pós-graduação</td>\n",
              "      <td>Computação / Engenharia de Software / Sistemas...</td>\n",
              "      <td>Desempregado, buscando recolocação</td>\n",
              "    </tr>\n",
              "  </tbody>\n",
              "</table>\n",
              "<p>5293 rows × 9 columns</p>\n",
              "</div>\n",
              "    <div class=\"colab-df-buttons\">\n",
              "\n",
              "  <div class=\"colab-df-container\">\n",
              "    <button class=\"colab-df-convert\" onclick=\"convertToInteractive('df-55bb3c5c-43a5-417e-8e6e-c358d43418a4')\"\n",
              "            title=\"Convert this dataframe to an interactive table.\"\n",
              "            style=\"display:none;\">\n",
              "\n",
              "  <svg xmlns=\"http://www.w3.org/2000/svg\" height=\"24px\" viewBox=\"0 -960 960 960\">\n",
              "    <path d=\"M120-120v-720h720v720H120Zm60-500h600v-160H180v160Zm220 220h160v-160H400v160Zm0 220h160v-160H400v160ZM180-400h160v-160H180v160Zm440 0h160v-160H620v160ZM180-180h160v-160H180v160Zm440 0h160v-160H620v160Z\"/>\n",
              "  </svg>\n",
              "    </button>\n",
              "\n",
              "  <style>\n",
              "    .colab-df-container {\n",
              "      display:flex;\n",
              "      gap: 12px;\n",
              "    }\n",
              "\n",
              "    .colab-df-convert {\n",
              "      background-color: #E8F0FE;\n",
              "      border: none;\n",
              "      border-radius: 50%;\n",
              "      cursor: pointer;\n",
              "      display: none;\n",
              "      fill: #1967D2;\n",
              "      height: 32px;\n",
              "      padding: 0 0 0 0;\n",
              "      width: 32px;\n",
              "    }\n",
              "\n",
              "    .colab-df-convert:hover {\n",
              "      background-color: #E2EBFA;\n",
              "      box-shadow: 0px 1px 2px rgba(60, 64, 67, 0.3), 0px 1px 3px 1px rgba(60, 64, 67, 0.15);\n",
              "      fill: #174EA6;\n",
              "    }\n",
              "\n",
              "    .colab-df-buttons div {\n",
              "      margin-bottom: 4px;\n",
              "    }\n",
              "\n",
              "    [theme=dark] .colab-df-convert {\n",
              "      background-color: #3B4455;\n",
              "      fill: #D2E3FC;\n",
              "    }\n",
              "\n",
              "    [theme=dark] .colab-df-convert:hover {\n",
              "      background-color: #434B5C;\n",
              "      box-shadow: 0px 1px 3px 1px rgba(0, 0, 0, 0.15);\n",
              "      filter: drop-shadow(0px 1px 2px rgba(0, 0, 0, 0.3));\n",
              "      fill: #FFFFFF;\n",
              "    }\n",
              "  </style>\n",
              "\n",
              "    <script>\n",
              "      const buttonEl =\n",
              "        document.querySelector('#df-55bb3c5c-43a5-417e-8e6e-c358d43418a4 button.colab-df-convert');\n",
              "      buttonEl.style.display =\n",
              "        google.colab.kernel.accessAllowed ? 'block' : 'none';\n",
              "\n",
              "      async function convertToInteractive(key) {\n",
              "        const element = document.querySelector('#df-55bb3c5c-43a5-417e-8e6e-c358d43418a4');\n",
              "        const dataTable =\n",
              "          await google.colab.kernel.invokeFunction('convertToInteractive',\n",
              "                                                    [key], {});\n",
              "        if (!dataTable) return;\n",
              "\n",
              "        const docLinkHtml = 'Like what you see? Visit the ' +\n",
              "          '<a target=\"_blank\" href=https://colab.research.google.com/notebooks/data_table.ipynb>data table notebook</a>'\n",
              "          + ' to learn more about interactive tables.';\n",
              "        element.innerHTML = '';\n",
              "        dataTable['output_type'] = 'display_data';\n",
              "        await google.colab.output.renderOutput(dataTable, element);\n",
              "        const docLink = document.createElement('div');\n",
              "        docLink.innerHTML = docLinkHtml;\n",
              "        element.appendChild(docLink);\n",
              "      }\n",
              "    </script>\n",
              "  </div>\n",
              "\n",
              "\n",
              "    <div id=\"df-94c40e92-de51-4b84-92c0-c580ed1a9bea\">\n",
              "      <button class=\"colab-df-quickchart\" onclick=\"quickchart('df-94c40e92-de51-4b84-92c0-c580ed1a9bea')\"\n",
              "                title=\"Suggest charts\"\n",
              "                style=\"display:none;\">\n",
              "\n",
              "<svg xmlns=\"http://www.w3.org/2000/svg\" height=\"24px\"viewBox=\"0 0 24 24\"\n",
              "     width=\"24px\">\n",
              "    <g>\n",
              "        <path d=\"M19 3H5c-1.1 0-2 .9-2 2v14c0 1.1.9 2 2 2h14c1.1 0 2-.9 2-2V5c0-1.1-.9-2-2-2zM9 17H7v-7h2v7zm4 0h-2V7h2v10zm4 0h-2v-4h2v4z\"/>\n",
              "    </g>\n",
              "</svg>\n",
              "      </button>\n",
              "\n",
              "<style>\n",
              "  .colab-df-quickchart {\n",
              "      --bg-color: #E8F0FE;\n",
              "      --fill-color: #1967D2;\n",
              "      --hover-bg-color: #E2EBFA;\n",
              "      --hover-fill-color: #174EA6;\n",
              "      --disabled-fill-color: #AAA;\n",
              "      --disabled-bg-color: #DDD;\n",
              "  }\n",
              "\n",
              "  [theme=dark] .colab-df-quickchart {\n",
              "      --bg-color: #3B4455;\n",
              "      --fill-color: #D2E3FC;\n",
              "      --hover-bg-color: #434B5C;\n",
              "      --hover-fill-color: #FFFFFF;\n",
              "      --disabled-bg-color: #3B4455;\n",
              "      --disabled-fill-color: #666;\n",
              "  }\n",
              "\n",
              "  .colab-df-quickchart {\n",
              "    background-color: var(--bg-color);\n",
              "    border: none;\n",
              "    border-radius: 50%;\n",
              "    cursor: pointer;\n",
              "    display: none;\n",
              "    fill: var(--fill-color);\n",
              "    height: 32px;\n",
              "    padding: 0;\n",
              "    width: 32px;\n",
              "  }\n",
              "\n",
              "  .colab-df-quickchart:hover {\n",
              "    background-color: var(--hover-bg-color);\n",
              "    box-shadow: 0 1px 2px rgba(60, 64, 67, 0.3), 0 1px 3px 1px rgba(60, 64, 67, 0.15);\n",
              "    fill: var(--button-hover-fill-color);\n",
              "  }\n",
              "\n",
              "  .colab-df-quickchart-complete:disabled,\n",
              "  .colab-df-quickchart-complete:disabled:hover {\n",
              "    background-color: var(--disabled-bg-color);\n",
              "    fill: var(--disabled-fill-color);\n",
              "    box-shadow: none;\n",
              "  }\n",
              "\n",
              "  .colab-df-spinner {\n",
              "    border: 2px solid var(--fill-color);\n",
              "    border-color: transparent;\n",
              "    border-bottom-color: var(--fill-color);\n",
              "    animation:\n",
              "      spin 1s steps(1) infinite;\n",
              "  }\n",
              "\n",
              "  @keyframes spin {\n",
              "    0% {\n",
              "      border-color: transparent;\n",
              "      border-bottom-color: var(--fill-color);\n",
              "      border-left-color: var(--fill-color);\n",
              "    }\n",
              "    20% {\n",
              "      border-color: transparent;\n",
              "      border-left-color: var(--fill-color);\n",
              "      border-top-color: var(--fill-color);\n",
              "    }\n",
              "    30% {\n",
              "      border-color: transparent;\n",
              "      border-left-color: var(--fill-color);\n",
              "      border-top-color: var(--fill-color);\n",
              "      border-right-color: var(--fill-color);\n",
              "    }\n",
              "    40% {\n",
              "      border-color: transparent;\n",
              "      border-right-color: var(--fill-color);\n",
              "      border-top-color: var(--fill-color);\n",
              "    }\n",
              "    60% {\n",
              "      border-color: transparent;\n",
              "      border-right-color: var(--fill-color);\n",
              "    }\n",
              "    80% {\n",
              "      border-color: transparent;\n",
              "      border-right-color: var(--fill-color);\n",
              "      border-bottom-color: var(--fill-color);\n",
              "    }\n",
              "    90% {\n",
              "      border-color: transparent;\n",
              "      border-bottom-color: var(--fill-color);\n",
              "    }\n",
              "  }\n",
              "</style>\n",
              "\n",
              "      <script>\n",
              "        async function quickchart(key) {\n",
              "          const quickchartButtonEl =\n",
              "            document.querySelector('#' + key + ' button');\n",
              "          quickchartButtonEl.disabled = true;  // To prevent multiple clicks.\n",
              "          quickchartButtonEl.classList.add('colab-df-spinner');\n",
              "          try {\n",
              "            const charts = await google.colab.kernel.invokeFunction(\n",
              "                'suggestCharts', [key], {});\n",
              "          } catch (error) {\n",
              "            console.error('Error during call to suggestCharts:', error);\n",
              "          }\n",
              "          quickchartButtonEl.classList.remove('colab-df-spinner');\n",
              "          quickchartButtonEl.classList.add('colab-df-quickchart-complete');\n",
              "        }\n",
              "        (() => {\n",
              "          let quickchartButtonEl =\n",
              "            document.querySelector('#df-94c40e92-de51-4b84-92c0-c580ed1a9bea button');\n",
              "          quickchartButtonEl.style.display =\n",
              "            google.colab.kernel.accessAllowed ? 'block' : 'none';\n",
              "        })();\n",
              "      </script>\n",
              "    </div>\n",
              "\n",
              "  <div id=\"id_dff4208c-28ff-4078-873e-eb1b93788388\">\n",
              "    <style>\n",
              "      .colab-df-generate {\n",
              "        background-color: #E8F0FE;\n",
              "        border: none;\n",
              "        border-radius: 50%;\n",
              "        cursor: pointer;\n",
              "        display: none;\n",
              "        fill: #1967D2;\n",
              "        height: 32px;\n",
              "        padding: 0 0 0 0;\n",
              "        width: 32px;\n",
              "      }\n",
              "\n",
              "      .colab-df-generate:hover {\n",
              "        background-color: #E2EBFA;\n",
              "        box-shadow: 0px 1px 2px rgba(60, 64, 67, 0.3), 0px 1px 3px 1px rgba(60, 64, 67, 0.15);\n",
              "        fill: #174EA6;\n",
              "      }\n",
              "\n",
              "      [theme=dark] .colab-df-generate {\n",
              "        background-color: #3B4455;\n",
              "        fill: #D2E3FC;\n",
              "      }\n",
              "\n",
              "      [theme=dark] .colab-df-generate:hover {\n",
              "        background-color: #434B5C;\n",
              "        box-shadow: 0px 1px 3px 1px rgba(0, 0, 0, 0.15);\n",
              "        filter: drop-shadow(0px 1px 2px rgba(0, 0, 0, 0.3));\n",
              "        fill: #FFFFFF;\n",
              "      }\n",
              "    </style>\n",
              "    <button class=\"colab-df-generate\" onclick=\"generateWithVariable('base_princ')\"\n",
              "            title=\"Generate code using this dataframe.\"\n",
              "            style=\"display:none;\">\n",
              "\n",
              "  <svg xmlns=\"http://www.w3.org/2000/svg\" height=\"24px\"viewBox=\"0 0 24 24\"\n",
              "       width=\"24px\">\n",
              "    <path d=\"M7,19H8.4L18.45,9,17,7.55,7,17.6ZM5,21V16.75L18.45,3.32a2,2,0,0,1,2.83,0l1.4,1.43a1.91,1.91,0,0,1,.58,1.4,1.91,1.91,0,0,1-.58,1.4L9.25,21ZM18.45,9,17,7.55Zm-12,3A5.31,5.31,0,0,0,4.9,8.1,5.31,5.31,0,0,0,1,6.5,5.31,5.31,0,0,0,4.9,4.9,5.31,5.31,0,0,0,6.5,1,5.31,5.31,0,0,0,8.1,4.9,5.31,5.31,0,0,0,12,6.5,5.46,5.46,0,0,0,6.5,12Z\"/>\n",
              "  </svg>\n",
              "    </button>\n",
              "    <script>\n",
              "      (() => {\n",
              "      const buttonEl =\n",
              "        document.querySelector('#id_dff4208c-28ff-4078-873e-eb1b93788388 button.colab-df-generate');\n",
              "      buttonEl.style.display =\n",
              "        google.colab.kernel.accessAllowed ? 'block' : 'none';\n",
              "\n",
              "      buttonEl.onclick = () => {\n",
              "        google.colab.notebook.generateWithVariable('base_princ');\n",
              "      }\n",
              "      })();\n",
              "    </script>\n",
              "  </div>\n",
              "\n",
              "    </div>\n",
              "  </div>\n"
            ],
            "application/vnd.google.colaboratory.intrinsic+json": {
              "type": "dataframe",
              "variable_name": "base_princ",
              "summary": "{\n  \"name\": \"base_princ\",\n  \"rows\": 5293,\n  \"fields\": [\n    {\n      \"column\": \"Idade\",\n      \"properties\": {\n        \"dtype\": \"number\",\n        \"std\": 7,\n        \"min\": 18,\n        \"max\": 73,\n        \"num_unique_values\": 53,\n        \"samples\": [\n          23,\n          18,\n          61\n        ],\n        \"semantic_type\": \"\",\n        \"description\": \"\"\n      }\n    },\n    {\n      \"column\": \"Genero\",\n      \"properties\": {\n        \"dtype\": \"category\",\n        \"num_unique_values\": 4,\n        \"samples\": [\n          \"Feminino\",\n          \"Prefiro n\\u00e3o informar\",\n          \"Masculino\"\n        ],\n        \"semantic_type\": \"\",\n        \"description\": \"\"\n      }\n    },\n    {\n      \"column\": \"Cor/raca/etnia\",\n      \"properties\": {\n        \"dtype\": \"category\",\n        \"num_unique_values\": 7,\n        \"samples\": [\n          \"Branca\",\n          \"Amarela\",\n          \"Outra\"\n        ],\n        \"semantic_type\": \"\",\n        \"description\": \"\"\n      }\n    },\n    {\n      \"column\": \"PCD\",\n      \"properties\": {\n        \"dtype\": \"category\",\n        \"num_unique_values\": 3,\n        \"samples\": [\n          \"N\\u00e3o\",\n          \"Sim\",\n          \"Prefiro n\\u00e3o informar\"\n        ],\n        \"semantic_type\": \"\",\n        \"description\": \"\"\n      }\n    },\n    {\n      \"column\": \"UF\",\n      \"properties\": {\n        \"dtype\": \"category\",\n        \"num_unique_values\": 25,\n        \"samples\": [\n          \"PR\",\n          \"CE\",\n          \"MG\"\n        ],\n        \"semantic_type\": \"\",\n        \"description\": \"\"\n      }\n    },\n    {\n      \"column\": \"Regiao onde mora\",\n      \"properties\": {\n        \"dtype\": \"category\",\n        \"num_unique_values\": 5,\n        \"samples\": [\n          \"Nordeste\",\n          \"Norte\",\n          \"Sul\"\n        ],\n        \"semantic_type\": \"\",\n        \"description\": \"\"\n      }\n    },\n    {\n      \"column\": \"N\\u00edvel de Ensino\",\n      \"properties\": {\n        \"dtype\": \"category\",\n        \"num_unique_values\": 7,\n        \"samples\": [\n          \"Doutorado ou Phd\",\n          \"Gradua\\u00e7\\u00e3o/Bacharelado\",\n          \"N\\u00e3o tenho gradua\\u00e7\\u00e3o formal\"\n        ],\n        \"semantic_type\": \"\",\n        \"description\": \"\"\n      }\n    },\n    {\n      \"column\": \"\\u00c1rea de forma\\u00e7\\u00e3o\",\n      \"properties\": {\n        \"dtype\": \"category\",\n        \"num_unique_values\": 9,\n        \"samples\": [\n          \"Marketing / Publicidade / Comunica\\u00e7\\u00e3o / Jornalismo\",\n          \"Economia/ Administra\\u00e7\\u00e3o / Contabilidade / Finan\\u00e7as/ Neg\\u00f3cios\",\n          \"Ci\\u00eancias Biol\\u00f3gicas/ Farm\\u00e1cia/ Medicina/ \\u00c1rea da Sa\\u00fade\"\n        ],\n        \"semantic_type\": \"\",\n        \"description\": \"\"\n      }\n    },\n    {\n      \"column\": \"Situa\\u00e7\\u00e3o de trabalho\",\n      \"properties\": {\n        \"dtype\": \"category\",\n        \"num_unique_values\": 13,\n        \"samples\": [\n          \"Freelancer\",\n          \"Somente Estudante (gradua\\u00e7\\u00e3o)\",\n          \"Empregado (CLT)\"\n        ],\n        \"semantic_type\": \"\",\n        \"description\": \"\"\n      }\n    }\n  ]\n}"
            }
          },
          "metadata": {},
          "execution_count": 586
        }
      ]
    },
    {
      "cell_type": "code",
      "source": [
        "#Verifico os tipos de dados, observo que todos estão categóricos(object).\n",
        "base_princ.info()"
      ],
      "metadata": {
        "colab": {
          "base_uri": "https://localhost:8080/"
        },
        "collapsed": true,
        "id": "HpJBeTCoP4BC",
        "outputId": "75aa6407-327a-46b9-bd0b-a8f47adeb314"
      },
      "execution_count": 587,
      "outputs": [
        {
          "output_type": "stream",
          "name": "stdout",
          "text": [
            "<class 'pandas.core.frame.DataFrame'>\n",
            "RangeIndex: 5293 entries, 0 to 5292\n",
            "Data columns (total 9 columns):\n",
            " #   Column                Non-Null Count  Dtype \n",
            "---  ------                --------------  ----- \n",
            " 0   Idade                 5293 non-null   int64 \n",
            " 1   Genero                5293 non-null   object\n",
            " 2   Cor/raca/etnia        5293 non-null   object\n",
            " 3   PCD                   5293 non-null   object\n",
            " 4   UF                    5169 non-null   object\n",
            " 5   Regiao onde mora      5169 non-null   object\n",
            " 6   Nível de Ensino       5293 non-null   object\n",
            " 7   Área de formação      5180 non-null   object\n",
            " 8   Situação de trabalho  5293 non-null   object\n",
            "dtypes: int64(1), object(8)\n",
            "memory usage: 372.3+ KB\n"
          ]
        }
      ]
    },
    {
      "cell_type": "code",
      "source": [
        "#Verificar os valores nulos.\n",
        "for col in base_princ.columns:\n",
        "    nulos = base_princ[col].isnull().sum()\n",
        "    print(f'numero de valores nulos na coluna {col} é: {nulos}')"
      ],
      "metadata": {
        "colab": {
          "base_uri": "https://localhost:8080/"
        },
        "collapsed": true,
        "id": "5gvYNvdvQWJO",
        "outputId": "0d7814e4-2d01-4b3a-bc50-b541b6ffad58"
      },
      "execution_count": 588,
      "outputs": [
        {
          "output_type": "stream",
          "name": "stdout",
          "text": [
            "numero de valores nulos na coluna Idade é: 0\n",
            "numero de valores nulos na coluna Genero é: 0\n",
            "numero de valores nulos na coluna Cor/raca/etnia é: 0\n",
            "numero de valores nulos na coluna PCD é: 0\n",
            "numero de valores nulos na coluna UF é: 124\n",
            "numero de valores nulos na coluna Regiao onde mora é: 124\n",
            "numero de valores nulos na coluna Nível de Ensino é: 0\n",
            "numero de valores nulos na coluna Área de formação é: 113\n",
            "numero de valores nulos na coluna Situação de trabalho é: 0\n"
          ]
        }
      ]
    },
    {
      "cell_type": "code",
      "source": [
        "# Remover valores nulos da coluna UF\n",
        "\n",
        "base_princ = base_princ.dropna(subset=['UF'])\n",
        "\n",
        "for col in base_princ.columns:\n",
        "    nulos = base_princ[col].isnull().sum()\n",
        "    print(f'numero de valores nulos na coluna {col} é: {nulos}')"
      ],
      "metadata": {
        "colab": {
          "base_uri": "https://localhost:8080/"
        },
        "id": "EpmVo7xaR4IU",
        "outputId": "3049618a-216e-44dc-cfcc-df55537068d2"
      },
      "execution_count": 589,
      "outputs": [
        {
          "output_type": "stream",
          "name": "stdout",
          "text": [
            "numero de valores nulos na coluna Idade é: 0\n",
            "numero de valores nulos na coluna Genero é: 0\n",
            "numero de valores nulos na coluna Cor/raca/etnia é: 0\n",
            "numero de valores nulos na coluna PCD é: 0\n",
            "numero de valores nulos na coluna UF é: 0\n",
            "numero de valores nulos na coluna Regiao onde mora é: 0\n",
            "numero de valores nulos na coluna Nível de Ensino é: 0\n",
            "numero de valores nulos na coluna Área de formação é: 107\n",
            "numero de valores nulos na coluna Situação de trabalho é: 0\n"
          ]
        }
      ]
    },
    {
      "cell_type": "code",
      "source": [
        "#Verifico que não há mais valores nulos nas colunas.\n",
        "for col in base_princ.columns:\n",
        "    nulos = base_princ[col].isnull().sum()\n",
        "    print(f'numero de valores nulos na coluna {col} é: {nulos}')"
      ],
      "metadata": {
        "colab": {
          "base_uri": "https://localhost:8080/"
        },
        "id": "6MfoCDQw4GxW",
        "outputId": "62805093-aefe-48f3-951f-80aad3deebdc"
      },
      "execution_count": 590,
      "outputs": [
        {
          "output_type": "stream",
          "name": "stdout",
          "text": [
            "numero de valores nulos na coluna Idade é: 0\n",
            "numero de valores nulos na coluna Genero é: 0\n",
            "numero de valores nulos na coluna Cor/raca/etnia é: 0\n",
            "numero de valores nulos na coluna PCD é: 0\n",
            "numero de valores nulos na coluna UF é: 0\n",
            "numero de valores nulos na coluna Regiao onde mora é: 0\n",
            "numero de valores nulos na coluna Nível de Ensino é: 0\n",
            "numero de valores nulos na coluna Área de formação é: 107\n",
            "numero de valores nulos na coluna Situação de trabalho é: 0\n"
          ]
        }
      ]
    },
    {
      "cell_type": "code",
      "source": [
        "#Verifico a moda para ver qual classe dos atributos mais aparece.\n",
        "for col in base_princ.columns:\n",
        "    mode_value = base_princ[col].mode()\n",
        "    print(f'A moda da coluna {col} é: {mode_value.iloc[0]}')\n"
      ],
      "metadata": {
        "colab": {
          "base_uri": "https://localhost:8080/"
        },
        "collapsed": true,
        "id": "SVqD83xyS2O4",
        "outputId": "3861324f-3a83-4f30-cbfb-897900a53b3a"
      },
      "execution_count": 591,
      "outputs": [
        {
          "output_type": "stream",
          "name": "stdout",
          "text": [
            "A moda da coluna Idade é: 27\n",
            "A moda da coluna Genero é: Masculino\n",
            "A moda da coluna Cor/raca/etnia é: Branca\n",
            "A moda da coluna PCD é: Não\n",
            "A moda da coluna UF é: SP\n",
            "A moda da coluna Regiao onde mora é: Sudeste\n",
            "A moda da coluna Nível de Ensino é: Pós-graduação\n",
            "A moda da coluna Área de formação é: Computação / Engenharia de Software / Sistemas de Informação/ TI\n",
            "A moda da coluna Situação de trabalho é: Empregado (CLT)\n"
          ]
        }
      ]
    },
    {
      "cell_type": "code",
      "source": [
        "#Cortei o \"Outro\", por não identificar se era Homem ou Mulher\n",
        "index_to_drop = base_princ[base_princ['Genero'] == 'Outro'].index\n",
        "index_to_drop = base_princ[base_princ['Genero'] == 'Prefiro não informar'].index\n",
        "base_princ = base_princ.drop(index_to_drop)\n"
      ],
      "metadata": {
        "id": "VoknVvtooDvk"
      },
      "execution_count": 592,
      "outputs": []
    },
    {
      "cell_type": "code",
      "source": [
        "base_princ['Genero'].unique()"
      ],
      "metadata": {
        "colab": {
          "base_uri": "https://localhost:8080/"
        },
        "id": "glJjggWb1ZYQ",
        "outputId": "51b6a2f7-e0fe-466b-c66f-33d3619d99a7"
      },
      "execution_count": 593,
      "outputs": [
        {
          "output_type": "execute_result",
          "data": {
            "text/plain": [
              "array(['Masculino', 'Feminino', 'Outro'], dtype=object)"
            ]
          },
          "metadata": {},
          "execution_count": 593
        }
      ]
    },
    {
      "cell_type": "code",
      "source": [
        "base_princ.info()"
      ],
      "metadata": {
        "colab": {
          "base_uri": "https://localhost:8080/"
        },
        "collapsed": true,
        "id": "v2A-pLWbl5dt",
        "outputId": "7fecdefc-0229-4574-d7c4-59d7632de0a5"
      },
      "execution_count": 594,
      "outputs": [
        {
          "output_type": "stream",
          "name": "stdout",
          "text": [
            "<class 'pandas.core.frame.DataFrame'>\n",
            "Index: 5155 entries, 0 to 5292\n",
            "Data columns (total 9 columns):\n",
            " #   Column                Non-Null Count  Dtype \n",
            "---  ------                --------------  ----- \n",
            " 0   Idade                 5155 non-null   int64 \n",
            " 1   Genero                5155 non-null   object\n",
            " 2   Cor/raca/etnia        5155 non-null   object\n",
            " 3   PCD                   5155 non-null   object\n",
            " 4   UF                    5155 non-null   object\n",
            " 5   Regiao onde mora      5155 non-null   object\n",
            " 6   Nível de Ensino       5155 non-null   object\n",
            " 7   Área de formação      5048 non-null   object\n",
            " 8   Situação de trabalho  5155 non-null   object\n",
            "dtypes: int64(1), object(8)\n",
            "memory usage: 402.7+ KB\n"
          ]
        }
      ]
    },
    {
      "cell_type": "code",
      "source": [
        "# @title Área de formação\n",
        "\n",
        "from matplotlib import pyplot as plt\n",
        "import seaborn as sns\n",
        "base_princ.groupby('Área de formação').size().plot(kind='barh', color=sns.palettes.mpl_palette('Dark2'))\n",
        "plt.gca().spines[['top', 'right',]].set_visible(False)\n",
        "plt.savefig('area_formacao.png', bbox_inches='tight')\n",
        "from google.colab import files\n",
        "files.download('area_formacao.png')"
      ],
      "metadata": {
        "colab": {
          "base_uri": "https://localhost:8080/",
          "height": 430
        },
        "id": "HMoSKeuD5QiU",
        "outputId": "992d07cf-ba87-421b-9f64-b2a1ce376e08"
      },
      "execution_count": 595,
      "outputs": [
        {
          "output_type": "display_data",
          "data": {
            "text/plain": [
              "<IPython.core.display.Javascript object>"
            ],
            "application/javascript": [
              "\n",
              "    async function download(id, filename, size) {\n",
              "      if (!google.colab.kernel.accessAllowed) {\n",
              "        return;\n",
              "      }\n",
              "      const div = document.createElement('div');\n",
              "      const label = document.createElement('label');\n",
              "      label.textContent = `Downloading \"${filename}\": `;\n",
              "      div.appendChild(label);\n",
              "      const progress = document.createElement('progress');\n",
              "      progress.max = size;\n",
              "      div.appendChild(progress);\n",
              "      document.body.appendChild(div);\n",
              "\n",
              "      const buffers = [];\n",
              "      let downloaded = 0;\n",
              "\n",
              "      const channel = await google.colab.kernel.comms.open(id);\n",
              "      // Send a message to notify the kernel that we're ready.\n",
              "      channel.send({})\n",
              "\n",
              "      for await (const message of channel.messages) {\n",
              "        // Send a message to notify the kernel that we're ready.\n",
              "        channel.send({})\n",
              "        if (message.buffers) {\n",
              "          for (const buffer of message.buffers) {\n",
              "            buffers.push(buffer);\n",
              "            downloaded += buffer.byteLength;\n",
              "            progress.value = downloaded;\n",
              "          }\n",
              "        }\n",
              "      }\n",
              "      const blob = new Blob(buffers, {type: 'application/binary'});\n",
              "      const a = document.createElement('a');\n",
              "      a.href = window.URL.createObjectURL(blob);\n",
              "      a.download = filename;\n",
              "      div.appendChild(a);\n",
              "      a.click();\n",
              "      div.remove();\n",
              "    }\n",
              "  "
            ]
          },
          "metadata": {}
        },
        {
          "output_type": "display_data",
          "data": {
            "text/plain": [
              "<IPython.core.display.Javascript object>"
            ],
            "application/javascript": [
              "download(\"download_09e957ae-03b0-4212-a360-97472b1a41cd\", \"area_formacao.png\", 49849)"
            ]
          },
          "metadata": {}
        },
        {
          "output_type": "display_data",
          "data": {
            "text/plain": [
              "<Figure size 640x480 with 1 Axes>"
            ],
            "image/png": "[encoded data removed]"
          },
          "metadata": {}
        }
      ]
    },
    {
      "cell_type": "code",
      "source": [
        "# @title Nível de Ensino\n",
        "\n",
        "from matplotlib import pyplot as plt\n",
        "import seaborn as sns\n",
        "base_princ.groupby('Nível de Ensino').size().plot(kind='barh', color=sns.palettes.mpl_palette('Dark2'))\n",
        "plt.gca().spines[['top', 'right',]].set_visible(False)\n",
        "plt.savefig('Nível de Ensino.png', bbox_inches='tight')\n",
        "from google.colab import files\n",
        "files.download('Nível de Ensino.png')"
      ],
      "metadata": {
        "colab": {
          "base_uri": "https://localhost:8080/",
          "height": 430
        },
        "id": "6y0zYCEX5ZiE",
        "outputId": "afd4e165-6f8c-4ea0-a470-15100a3f4e52"
      },
      "execution_count": 596,
      "outputs": [
        {
          "output_type": "display_data",
          "data": {
            "text/plain": [
              "<IPython.core.display.Javascript object>"
            ],
            "application/javascript": [
              "\n",
              "    async function download(id, filename, size) {\n",
              "      if (!google.colab.kernel.accessAllowed) {\n",
              "        return;\n",
              "      }\n",
              "      const div = document.createElement('div');\n",
              "      const label = document.createElement('label');\n",
              "      label.textContent = `Downloading \"${filename}\": `;\n",
              "      div.appendChild(label);\n",
              "      const progress = document.createElement('progress');\n",
              "      progress.max = size;\n",
              "      div.appendChild(progress);\n",
              "      document.body.appendChild(div);\n",
              "\n",
              "      const buffers = [];\n",
              "      let downloaded = 0;\n",
              "\n",
              "      const channel = await google.colab.kernel.comms.open(id);\n",
              "      // Send a message to notify the kernel that we're ready.\n",
              "      channel.send({})\n",
              "\n",
              "      for await (const message of channel.messages) {\n",
              "        // Send a message to notify the kernel that we're ready.\n",
              "        channel.send({})\n",
              "        if (message.buffers) {\n",
              "          for (const buffer of message.buffers) {\n",
              "            buffers.push(buffer);\n",
              "            downloaded += buffer.byteLength;\n",
              "            progress.value = downloaded;\n",
              "          }\n",
              "        }\n",
              "      }\n",
              "      const blob = new Blob(buffers, {type: 'application/binary'});\n",
              "      const a = document.createElement('a');\n",
              "      a.href = window.URL.createObjectURL(blob);\n",
              "      a.download = filename;\n",
              "      div.appendChild(a);\n",
              "      a.click();\n",
              "      div.remove();\n",
              "    }\n",
              "  "
            ]
          },
          "metadata": {}
        },
        {
          "output_type": "display_data",
          "data": {
            "text/plain": [
              "<IPython.core.display.Javascript object>"
            ],
            "application/javascript": [
              "download(\"download_eb8bcb31-e288-4fa2-b1ee-e5db2b4bf8d7\", \"N\\u00edvel de Ensino.png\", 25722)"
            ]
          },
          "metadata": {}
        },
        {
          "output_type": "display_data",
          "data": {
            "text/plain": [
              "<Figure size 640x480 with 1 Axes>"
            ],
            "image/png": "[encoded data removed]"
          },
          "metadata": {}
        }
      ]
    },
    {
      "cell_type": "code",
      "source": [
        "# @title PCD\n",
        "\n",
        "from matplotlib import pyplot as plt\n",
        "import seaborn as sns\n",
        "base_princ.groupby('PCD').size().plot(kind='barh', color=sns.palettes.mpl_palette('Dark2'))\n",
        "plt.gca().spines[['top', 'right',]].set_visible(False)\n",
        "plt.savefig('PCD.png', bbox_inches='tight')\n",
        "from google.colab import files\n",
        "files.download('PCD.png')"
      ],
      "metadata": {
        "colab": {
          "base_uri": "https://localhost:8080/",
          "height": 430
        },
        "id": "r-AWanfq5Zah",
        "outputId": "1025f068-7722-46e3-91fb-02c4b9d2228f"
      },
      "execution_count": 597,
      "outputs": [
        {
          "output_type": "display_data",
          "data": {
            "text/plain": [
              "<IPython.core.display.Javascript object>"
            ],
            "application/javascript": [
              "\n",
              "    async function download(id, filename, size) {\n",
              "      if (!google.colab.kernel.accessAllowed) {\n",
              "        return;\n",
              "      }\n",
              "      const div = document.createElement('div');\n",
              "      const label = document.createElement('label');\n",
              "      label.textContent = `Downloading \"${filename}\": `;\n",
              "      div.appendChild(label);\n",
              "      const progress = document.createElement('progress');\n",
              "      progress.max = size;\n",
              "      div.appendChild(progress);\n",
              "      document.body.appendChild(div);\n",
              "\n",
              "      const buffers = [];\n",
              "      let downloaded = 0;\n",
              "\n",
              "      const channel = await google.colab.kernel.comms.open(id);\n",
              "      // Send a message to notify the kernel that we're ready.\n",
              "      channel.send({})\n",
              "\n",
              "      for await (const message of channel.messages) {\n",
              "        // Send a message to notify the kernel that we're ready.\n",
              "        channel.send({})\n",
              "        if (message.buffers) {\n",
              "          for (const buffer of message.buffers) {\n",
              "            buffers.push(buffer);\n",
              "            downloaded += buffer.byteLength;\n",
              "            progress.value = downloaded;\n",
              "          }\n",
              "        }\n",
              "      }\n",
              "      const blob = new Blob(buffers, {type: 'application/binary'});\n",
              "      const a = document.createElement('a');\n",
              "      a.href = window.URL.createObjectURL(blob);\n",
              "      a.download = filename;\n",
              "      div.appendChild(a);\n",
              "      a.click();\n",
              "      div.remove();\n",
              "    }\n",
              "  "
            ]
          },
          "metadata": {}
        },
        {
          "output_type": "display_data",
          "data": {
            "text/plain": [
              "<IPython.core.display.Javascript object>"
            ],
            "application/javascript": [
              "download(\"download_8c65e619-7920-48a5-b95d-1ba5499f38c0\", \"PCD.png\", 9600)"
            ]
          },
          "metadata": {}
        },
        {
          "output_type": "display_data",
          "data": {
            "text/plain": [
              "<Figure size 640x480 with 1 Axes>"
            ],
            "image/png": "[encoded data removed]"
          },
          "metadata": {}
        }
      ]
    },
    {
      "cell_type": "code",
      "source": [
        "# @title Genero\n",
        "\n",
        "from matplotlib import pyplot as plt\n",
        "import seaborn as sns\n",
        "base_princ.groupby('Genero').size().plot(kind='barh', color=sns.palettes.mpl_palette('Dark2'))\n",
        "plt.gca().spines[['top', 'right',]].set_visible(False)\n",
        "plt.savefig('GENERO.png', bbox_inches='tight')\n",
        "from google.colab import files\n",
        "files.download('GENERO.png')"
      ],
      "metadata": {
        "colab": {
          "base_uri": "https://localhost:8080/",
          "height": 430
        },
        "id": "JxojCkXD5ZOq",
        "outputId": "7010601f-8209-46af-a064-65cdbfac2354"
      },
      "execution_count": 598,
      "outputs": [
        {
          "output_type": "display_data",
          "data": {
            "text/plain": [
              "<IPython.core.display.Javascript object>"
            ],
            "application/javascript": [
              "\n",
              "    async function download(id, filename, size) {\n",
              "      if (!google.colab.kernel.accessAllowed) {\n",
              "        return;\n",
              "      }\n",
              "      const div = document.createElement('div');\n",
              "      const label = document.createElement('label');\n",
              "      label.textContent = `Downloading \"${filename}\": `;\n",
              "      div.appendChild(label);\n",
              "      const progress = document.createElement('progress');\n",
              "      progress.max = size;\n",
              "      div.appendChild(progress);\n",
              "      document.body.appendChild(div);\n",
              "\n",
              "      const buffers = [];\n",
              "      let downloaded = 0;\n",
              "\n",
              "      const channel = await google.colab.kernel.comms.open(id);\n",
              "      // Send a message to notify the kernel that we're ready.\n",
              "      channel.send({})\n",
              "\n",
              "      for await (const message of channel.messages) {\n",
              "        // Send a message to notify the kernel that we're ready.\n",
              "        channel.send({})\n",
              "        if (message.buffers) {\n",
              "          for (const buffer of message.buffers) {\n",
              "            buffers.push(buffer);\n",
              "            downloaded += buffer.byteLength;\n",
              "            progress.value = downloaded;\n",
              "          }\n",
              "        }\n",
              "      }\n",
              "      const blob = new Blob(buffers, {type: 'application/binary'});\n",
              "      const a = document.createElement('a');\n",
              "      a.href = window.URL.createObjectURL(blob);\n",
              "      a.download = filename;\n",
              "      div.appendChild(a);\n",
              "      a.click();\n",
              "      div.remove();\n",
              "    }\n",
              "  "
            ]
          },
          "metadata": {}
        },
        {
          "output_type": "display_data",
          "data": {
            "text/plain": [
              "<IPython.core.display.Javascript object>"
            ],
            "application/javascript": [
              "download(\"download_2e758d7a-a262-4c21-b876-17511ee746fe\", \"GENERO.png\", 10174)"
            ]
          },
          "metadata": {}
        },
        {
          "output_type": "display_data",
          "data": {
            "text/plain": [
              "<Figure size 640x480 with 1 Axes>"
            ],
            "image/png": "[encoded data removed]"
          },
          "metadata": {}
        }
      ]
    },
    {
      "cell_type": "code",
      "source": [
        "# @title Idade\n",
        "\n",
        "from matplotlib import pyplot as plt\n",
        "base_princ['Idade'].plot(kind='hist', bins=20, title='Idade')\n",
        "plt.gca().spines[['top', 'right',]].set_visible(False)\n",
        "plt.savefig('IDADE.png', bbox_inches='tight')\n",
        "from google.colab import files\n",
        "files.download('IDADE.png')"
      ],
      "metadata": {
        "colab": {
          "base_uri": "https://localhost:8080/",
          "height": 452
        },
        "id": "5CXTNo145_I1",
        "outputId": "556d8a2e-f6ae-4487-935c-f0d98cb33603"
      },
      "execution_count": 599,
      "outputs": [
        {
          "output_type": "display_data",
          "data": {
            "text/plain": [
              "<IPython.core.display.Javascript object>"
            ],
            "application/javascript": [
              "\n",
              "    async function download(id, filename, size) {\n",
              "      if (!google.colab.kernel.accessAllowed) {\n",
              "        return;\n",
              "      }\n",
              "      const div = document.createElement('div');\n",
              "      const label = document.createElement('label');\n",
              "      label.textContent = `Downloading \"${filename}\": `;\n",
              "      div.appendChild(label);\n",
              "      const progress = document.createElement('progress');\n",
              "      progress.max = size;\n",
              "      div.appendChild(progress);\n",
              "      document.body.appendChild(div);\n",
              "\n",
              "      const buffers = [];\n",
              "      let downloaded = 0;\n",
              "\n",
              "      const channel = await google.colab.kernel.comms.open(id);\n",
              "      // Send a message to notify the kernel that we're ready.\n",
              "      channel.send({})\n",
              "\n",
              "      for await (const message of channel.messages) {\n",
              "        // Send a message to notify the kernel that we're ready.\n",
              "        channel.send({})\n",
              "        if (message.buffers) {\n",
              "          for (const buffer of message.buffers) {\n",
              "            buffers.push(buffer);\n",
              "            downloaded += buffer.byteLength;\n",
              "            progress.value = downloaded;\n",
              "          }\n",
              "        }\n",
              "      }\n",
              "      const blob = new Blob(buffers, {type: 'application/binary'});\n",
              "      const a = document.createElement('a');\n",
              "      a.href = window.URL.createObjectURL(blob);\n",
              "      a.download = filename;\n",
              "      div.appendChild(a);\n",
              "      a.click();\n",
              "      div.remove();\n",
              "    }\n",
              "  "
            ]
          },
          "metadata": {}
        },
        {
          "output_type": "display_data",
          "data": {
            "text/plain": [
              "<IPython.core.display.Javascript object>"
            ],
            "application/javascript": [
              "download(\"download_76225e19-2ed9-4e80-a6d5-4fd32de21f4d\", \"IDADE.png\", 10677)"
            ]
          },
          "metadata": {}
        },
        {
          "output_type": "display_data",
          "data": {
            "text/plain": [
              "<Figure size 640x480 with 1 Axes>"
            ],
            "image/png": "[encoded data removed]"
          },
          "metadata": {}
        }
      ]
    },
    {
      "cell_type": "code",
      "source": [
        "#Vou começar a transformar as classes em números, não vou fazer de maneira aleatória pois posso perder essa informação sobre qual classe é qual número.\n",
        "base_princ.loc[base_princ['Genero'] == 'Masculino', 'Genero'] = 0\n",
        "base_princ.loc[base_princ['Genero'] == 'Feminino', 'Genero'] = 1\n",
        "# Obtém os índices das linhas onde o gênero é \"Outro\"\n",
        "index_to_drop = base_princ[base_princ['Genero'] == 'Outro'].index\n",
        "# Remove as linhas com esses índices do DataFrame(Remove as linhas que contém 'Outro').\n",
        "base_princ = base_princ.drop(index_to_drop)\n"
      ],
      "metadata": {
        "id": "GsUKXL7XG5U9"
      },
      "execution_count": 600,
      "outputs": []
    },
    {
      "cell_type": "code",
      "source": [
        "#Verifico as classes presentes no atributo Cor/raca/etnia, para poder transformálose\n",
        "base_princ['Cor/raca/etnia'].unique()"
      ],
      "metadata": {
        "colab": {
          "base_uri": "https://localhost:8080/"
        },
        "id": "-VcIJ7x963er",
        "outputId": "a9b04c80-648c-4b49-91e0-d8a5d2dd713c"
      },
      "execution_count": 601,
      "outputs": [
        {
          "output_type": "execute_result",
          "data": {
            "text/plain": [
              "array(['Branca', 'Amarela', 'Preta', 'Parda', 'Prefiro não informar',\n",
              "       'Outra', 'Indígena'], dtype=object)"
            ]
          },
          "metadata": {},
          "execution_count": 601
        }
      ]
    },
    {
      "cell_type": "code",
      "source": [
        "base_princ.loc[base_princ['Cor/raca/etnia'] == 'Branca', 'Cor/raca/etnia'] = 0\n",
        "base_princ.loc[base_princ['Cor/raca/etnia'] == 'Preta', 'Cor/raca/etnia'] = 1\n",
        "base_princ.loc[base_princ['Cor/raca/etnia'] == 'Amarela', 'Cor/raca/etnia'] = 2\n",
        "base_princ.loc[base_princ['Cor/raca/etnia'] == 'Parda', 'Cor/raca/etnia'] = 3\n",
        "base_princ.loc[base_princ['Cor/raca/etnia'] == 'Indígena', 'Cor/raca/etnia'] = 4\n",
        "base_princ.loc[base_princ['Cor/raca/etnia'] == 'Prefiro não informar', 'Cor/raca/etnia'] = 5\n",
        "base_princ.loc[base_princ['Cor/raca/etnia'] == 'Outra', 'Cor/raca/etnia'] = 6"
      ],
      "metadata": {
        "id": "4f0UYxhuG_Vh"
      },
      "execution_count": 602,
      "outputs": []
    },
    {
      "cell_type": "code",
      "source": [
        "#Verificar se deu certo.\n",
        "base_princ['Cor/raca/etnia'].unique()"
      ],
      "metadata": {
        "colab": {
          "base_uri": "https://localhost:8080/"
        },
        "id": "nyQihWoH791b",
        "outputId": "57f63dcc-256e-4a8a-e012-55defa62f168"
      },
      "execution_count": 603,
      "outputs": [
        {
          "output_type": "execute_result",
          "data": {
            "text/plain": [
              "array([0, 2, 1, 3, 5, 6, 4], dtype=object)"
            ]
          },
          "metadata": {},
          "execution_count": 603
        }
      ]
    },
    {
      "cell_type": "code",
      "source": [
        "#Mesmo processo manual para todos os outros atributos.\n",
        "base_princ.loc[base_princ['PCD'] == 'Sim', 'PCD'] = 1\n",
        "base_princ.loc[base_princ['PCD'] == 'Não', 'PCD'] = 0\n",
        "# Há \"prefiro não informar\", porém como não posso inferir se a pessoa é PCD ou não, prefiro remover as linhas.\n",
        "index_to_drop = base_princ[base_princ['PCD'] == 'Prefiro não informar'].index\n",
        "base_princ = base_princ.drop(index_to_drop)\n",
        "print(base_princ['PCD'].unique())"
      ],
      "metadata": {
        "colab": {
          "base_uri": "https://localhost:8080/"
        },
        "id": "cF_jeYIzHBsj",
        "outputId": "0173c8e2-9794-41b7-bf1f-5ab233ebf555"
      },
      "execution_count": 604,
      "outputs": [
        {
          "output_type": "stream",
          "name": "stdout",
          "text": [
            "[0 1]\n"
          ]
        }
      ]
    },
    {
      "cell_type": "code",
      "source": [
        "base_princ.loc[base_princ['Regiao onde mora'] == 'Norte', 'Regiao onde mora'] = 0\n",
        "base_princ.loc[base_princ['Regiao onde mora'] == 'Nordeste', 'Regiao onde mora'] = 1\n",
        "base_princ.loc[base_princ['Regiao onde mora'] == 'Sudeste', 'Regiao onde mora'] = 2\n",
        "base_princ.loc[base_princ['Regiao onde mora'] == 'Sul', 'Regiao onde mora'] = 3\n",
        "base_princ.loc[base_princ['Regiao onde mora'] == 'Centro-oeste', 'Regiao onde mora'] = 4\n",
        "print(base_princ['Regiao onde mora'].unique())"
      ],
      "metadata": {
        "colab": {
          "base_uri": "https://localhost:8080/"
        },
        "id": "HNfn1GEQHE9E",
        "outputId": "3f6e67f3-87f1-437e-961f-59573d29aa96"
      },
      "execution_count": 605,
      "outputs": [
        {
          "output_type": "stream",
          "name": "stdout",
          "text": [
            "[2 1 3 4 0]\n"
          ]
        }
      ]
    },
    {
      "cell_type": "code",
      "source": [
        "base_princ.loc[base_princ['UF'] == 'AC', 'UF'] = 0\n",
        "base_princ.loc[base_princ['UF'] == 'AL', 'UF'] = 1\n",
        "base_princ.loc[base_princ['UF'] == 'AP', 'UF'] = 2\n",
        "base_princ.loc[base_princ['UF'] == 'AM', 'UF'] = 3\n",
        "base_princ.loc[base_princ['UF'] == 'BA', 'UF'] = 4\n",
        "base_princ.loc[base_princ['UF'] == 'CE', 'UF'] = 5\n",
        "base_princ.loc[base_princ['UF'] == 'DF', 'UF'] = 6\n",
        "base_princ.loc[base_princ['UF'] == 'ES', 'UF'] = 7\n",
        "base_princ.loc[base_princ['UF'] == 'GO', 'UF'] = 8\n",
        "base_princ.loc[base_princ['UF'] == 'MA', 'UF'] = 9\n",
        "base_princ.loc[base_princ['UF'] == 'MT', 'UF'] = 10\n",
        "base_princ.loc[base_princ['UF'] == 'MS', 'UF'] = 11\n",
        "base_princ.loc[base_princ['UF'] == 'MG', 'UF'] = 12\n",
        "base_princ.loc[base_princ['UF'] == 'PA', 'UF'] = 13\n",
        "base_princ.loc[base_princ['UF'] == 'PB', 'UF'] = 14\n",
        "base_princ.loc[base_princ['UF'] == 'PR', 'UF'] = 15\n",
        "base_princ.loc[base_princ['UF'] == 'PE', 'UF'] = 16\n",
        "base_princ.loc[base_princ['UF'] == 'PI', 'UF'] = 17\n",
        "base_princ.loc[base_princ['UF'] == 'RJ', 'UF'] = 18\n",
        "base_princ.loc[base_princ['UF'] == 'RN', 'UF'] = 19\n",
        "base_princ.loc[base_princ['UF'] == 'RS', 'UF'] = 20\n",
        "base_princ.loc[base_princ['UF'] == 'RO', 'UF'] = 21\n",
        "base_princ.loc[base_princ['UF'] == 'RR', 'UF'] = 22\n",
        "base_princ.loc[base_princ['UF'] == 'SC', 'UF'] = 23\n",
        "base_princ.loc[base_princ['UF'] == 'SP', 'UF'] = 24\n",
        "base_princ.loc[base_princ['UF'] == 'SE', 'UF'] = 25\n",
        "base_princ.loc[base_princ['UF'] == 'TO', 'UF'] = 26\n",
        "print(base_princ['UF'].unique())\n"
      ],
      "metadata": {
        "id": "QrckIGKmuEOc",
        "colab": {
          "base_uri": "https://localhost:8080/"
        },
        "outputId": "1e690189-225b-46da-8845-544004a52c31"
      },
      "execution_count": 606,
      "outputs": [
        {
          "output_type": "stream",
          "name": "stdout",
          "text": [
            "[12 7 24 18 25 16 20 6 15 14 23 4 13 8 10 17 5 11 1 19 3 9 21 2 26]\n"
          ]
        }
      ]
    },
    {
      "cell_type": "code",
      "source": [
        "base_princ.loc[base_princ['Nível de Ensino'] == 'Não tenho graduação formal',     'Nível de Ensino'] = 0\n",
        "base_princ.loc[base_princ['Nível de Ensino'] == 'Estudante de Graduação',         'Nível de Ensino'] = 1\n",
        "base_princ.loc[base_princ['Nível de Ensino'] == 'Graduação/Bacharelado',          'Nível de Ensino'] = 2\n",
        "base_princ.loc[base_princ['Nível de Ensino'] == 'Pós-graduação',                  'Nível de Ensino'] = 3\n",
        "base_princ.loc[base_princ['Nível de Ensino'] == 'Mestrado',                       'Nível de Ensino'] = 4\n",
        "base_princ.loc[base_princ['Nível de Ensino'] == 'Doutorado ou Phd',               'Nível de Ensino'] = 5\n",
        "base_princ.loc[base_princ['Nível de Ensino'] == 'Prefiro não informar',           'Nível de Ensino'] = 6\n",
        "print(base_princ['Nível de Ensino'].unique())\n"
      ],
      "metadata": {
        "colab": {
          "base_uri": "https://localhost:8080/"
        },
        "id": "deru2xraHHCL",
        "outputId": "761efddd-64a0-4b0b-92d6-d6bdc7507954"
      },
      "execution_count": 607,
      "outputs": [
        {
          "output_type": "stream",
          "name": "stdout",
          "text": [
            "[5 2 1 3 4 0 6]\n"
          ]
        }
      ]
    },
    {
      "cell_type": "code",
      "source": [
        "#Para verificar as classes existentes.\n",
        "base_princ['Área de formação'].unique()"
      ],
      "metadata": {
        "colab": {
          "base_uri": "https://localhost:8080/"
        },
        "id": "gPezvz5u9x9p",
        "outputId": "ca813cf6-60ea-4d6a-c413-a0e9b7039bdf"
      },
      "execution_count": 608,
      "outputs": [
        {
          "output_type": "execute_result",
          "data": {
            "text/plain": [
              "array(['Computação / Engenharia de Software / Sistemas de Informação/ TI',\n",
              "       'Economia/ Administração / Contabilidade / Finanças/ Negócios',\n",
              "       'Estatística/ Matemática / Matemática Computacional/ Ciências Atuariais',\n",
              "       'Outra opção', 'Outras Engenharias', nan,\n",
              "       'Ciências Biológicas/ Farmácia/ Medicina/ Área da Saúde',\n",
              "       'Química / Física',\n",
              "       'Marketing / Publicidade / Comunicação / Jornalismo',\n",
              "       'Ciências Sociais'], dtype=object)"
            ]
          },
          "metadata": {},
          "execution_count": 608
        }
      ]
    },
    {
      "cell_type": "code",
      "source": [
        "base_princ.loc[base_princ['Área de formação'] == 'Computação / Engenharia de Software / Sistemas de Informação/ TI', 'Área de formação'] = 0\n",
        "base_princ.loc[base_princ['Área de formação'] == 'Economia/ Administração / Contabilidade / Finanças/ Negócios', 'Área de formação'] = 1\n",
        "base_princ.loc[base_princ['Área de formação'] == 'Outras Engenharias', 'Área de formação'] = 2\n",
        "base_princ.loc[base_princ['Área de formação'] == 'Química / Física', 'Área de formação'] = 3\n",
        "base_princ.loc[base_princ['Área de formação'] == 'Estatística/ Matemática / Matemática Computacional/ Ciências Atuariais', 'Área de formação'] = 4\n",
        "base_princ.loc[base_princ['Área de formação'] == 'Marketing / Publicidade / Comunicação / Jornalismo', 'Área de formação'] = 5\n",
        "base_princ.loc[base_princ['Área de formação'] == 'Outras Engenharias', 'Área de formação'] = 8\n",
        "base_princ.loc[base_princ['Área de formação'] == 'Ciências Biológicas/ Farmácia/ Medicina/ Área da Saúde', 'Área de formação'] = 7\n",
        "base_princ.loc[base_princ['Área de formação'] == 'Outra opção', 'Área de formação'] = 0\n",
        "base_princ.loc[base_princ['Área de formação'] == 'Ciências Sociais', 'Área de formação'] = 6\n",
        "\n",
        "print(base_princ['Área de formação'].unique())\n"
      ],
      "metadata": {
        "colab": {
          "base_uri": "https://localhost:8080/"
        },
        "id": "IJ5pyjggHQN6",
        "outputId": "91b738fd-844f-42ef-e48f-283a264292d4"
      },
      "execution_count": 609,
      "outputs": [
        {
          "output_type": "stream",
          "name": "stdout",
          "text": [
            "[0 1 4 2 nan 7 3 5 6]\n"
          ]
        }
      ]
    },
    {
      "cell_type": "code",
      "source": [
        "#Percebo que o 'nan' me diz que não há respostas para 'Outras Engenharias'. Tenho que remover.\n",
        "# Remover valores nulos (NaN) da coluna 'Área de formação'\n",
        "base_princ = base_princ.dropna(subset=['Área de formação'])\n",
        "base_princ['Área de formação'].unique()"
      ],
      "metadata": {
        "colab": {
          "base_uri": "https://localhost:8080/"
        },
        "id": "rQlL2Din-IsG",
        "outputId": "cadc8b5a-b432-4b6c-9897-9460e85ecdeb"
      },
      "execution_count": 610,
      "outputs": [
        {
          "output_type": "execute_result",
          "data": {
            "text/plain": [
              "array([0, 1, 4, 2, 7, 3, 5, 6], dtype=object)"
            ]
          },
          "metadata": {},
          "execution_count": 610
        }
      ]
    },
    {
      "cell_type": "code",
      "source": [
        "#Por curiosidade verifico qual é o curso que mais há pessoas: Computação / Engenharia de Software / Sistemas de Informação/ TI\n",
        "mode_value = base_princ['Área de formação'].mode()\n",
        "print(f'A moda da coluna Área de formação é: {mode_value.iloc[0]}')"
      ],
      "metadata": {
        "colab": {
          "base_uri": "https://localhost:8080/"
        },
        "id": "wTLfr4OdIQLe",
        "outputId": "f87af279-f5f3-45db-a7dc-2bdb76614813"
      },
      "execution_count": 611,
      "outputs": [
        {
          "output_type": "stream",
          "name": "stdout",
          "text": [
            "A moda da coluna Área de formação é: 0\n"
          ]
        }
      ]
    },
    {
      "cell_type": "code",
      "source": [
        "# Agrupando em 'Empregado(a)'\n",
        "base_princ.loc[base_princ['Situação de trabalho'] == 'Empregado (CLT)', 'Situação de trabalho'] = 'Empregado(a)'\n",
        "base_princ.loc[base_princ['Situação de trabalho'] == 'Empreendedor ou Empregado (CNPJ)', 'Situação de trabalho'] = 'Empregado(a)'\n",
        "base_princ.loc[base_princ['Situação de trabalho'] == 'Estagiário', 'Situação de trabalho'] = 'Empregado(a)'\n",
        "base_princ.loc[base_princ['Situação de trabalho'] == 'Trabalho na área Acadêmica/Pesquisador', 'Situação de trabalho'] = 'Empregado(a)'\n",
        "base_princ.loc[base_princ['Situação de trabalho'] == 'Servidor Público', 'Situação de trabalho'] = 'Empregado(a)'\n",
        "base_princ.loc[base_princ['Situação de trabalho'] == 'Vivo no Brasil e trabalho remoto para empresa de fora do Brasil', 'Situação de trabalho'] = 'Empregado(a)'\n",
        "base_princ.loc[base_princ['Situação de trabalho'] == 'Vivo fora do Brasil e trabalho para empresa de fora do Brasil', 'Situação de trabalho'] = 'Empregado(a)'\n",
        "base_princ.loc[base_princ['Situação de trabalho'] == 'Trabalho na área Acadêmica/Pesquisador', 'Situação de trabalho'] = 'Empregado(a)'\n",
        "base_princ.loc[base_princ['Situação de trabalho'] == 'Freelancer', 'Situação de trabalho'] = 'Empregado(a)'\n",
        "\n",
        "# Agrupando em 'Desempregado(a)'\n",
        "base_princ.loc[base_princ['Situação de trabalho'] == 'Desempregado, buscando recolocação', 'Situação de trabalho'] = 'Desempregado(a)'\n",
        "base_princ.loc[base_princ['Situação de trabalho'] == 'Desempregado e não estou buscando recolocação', 'Situação de trabalho'] = 'Desempregado(a)'\n",
        "base_princ.loc[base_princ['Situação de trabalho'] == 'Somente Estudante (pós-graduação)', 'Situação de trabalho'] = 'Desempregado(a)'\n",
        "base_princ.loc[base_princ['Situação de trabalho'] == 'Somente Estudante (graduação)', 'Situação de trabalho'] = 'Desempregado(a)'\n",
        "base_princ.loc[base_princ['Situação de trabalho'] == 'Prefiro não informar', 'Situação de trabalho'] = 'Desempregado(a)'\n",
        "\n",
        "# Verificando o resultado\n",
        "print(base_princ['Situação de trabalho'].value_counts())\n"
      ],
      "metadata": {
        "colab": {
          "base_uri": "https://localhost:8080/"
        },
        "id": "pxILyFRgbpkf",
        "outputId": "2633129d-5a52-40df-de1b-df604c7138d0"
      },
      "execution_count": 612,
      "outputs": [
        {
          "output_type": "stream",
          "name": "stdout",
          "text": [
            "Situação de trabalho\n",
            "Empregado(a)       4574\n",
            "Desempregado(a)     443\n",
            "Name: count, dtype: int64\n"
          ]
        }
      ]
    },
    {
      "cell_type": "code",
      "source": [
        "print(base_princ['Situação de trabalho'].unique())"
      ],
      "metadata": {
        "colab": {
          "base_uri": "https://localhost:8080/"
        },
        "id": "aCf_Q1Z8cGIL",
        "outputId": "3bbef491-1499-43d7-9fcd-221a103d3770"
      },
      "execution_count": 613,
      "outputs": [
        {
          "output_type": "stream",
          "name": "stdout",
          "text": [
            "['Empregado(a)' 'Desempregado(a)']\n"
          ]
        }
      ]
    },
    {
      "cell_type": "code",
      "source": [
        "#Transformei as classes em números\n",
        "base_princ.loc[base_princ['Situação de trabalho'] == 'Empregado(a)', 'Situação de trabalho'] = 0\n",
        "base_princ.loc[base_princ['Situação de trabalho'] == 'Desempregado(a)', 'Situação de trabalho'] = 1"
      ],
      "metadata": {
        "id": "mxzspDz5yjA1"
      },
      "execution_count": 614,
      "outputs": []
    },
    {
      "cell_type": "code",
      "source": [
        "base_princ.info()\n",
        "# Verifiquei pela análise estatística que minhas classes nas colunas mesmo após serem transformadas em números continuaram categóricas(object)"
      ],
      "metadata": {
        "colab": {
          "base_uri": "https://localhost:8080/"
        },
        "id": "17PRMklNWFRN",
        "outputId": "10de073d-17ab-4e73-a4b6-a31340f131b6"
      },
      "execution_count": 615,
      "outputs": [
        {
          "output_type": "stream",
          "name": "stdout",
          "text": [
            "<class 'pandas.core.frame.DataFrame'>\n",
            "Index: 5017 entries, 0 to 5292\n",
            "Data columns (total 9 columns):\n",
            " #   Column                Non-Null Count  Dtype \n",
            "---  ------                --------------  ----- \n",
            " 0   Idade                 5017 non-null   int64 \n",
            " 1   Genero                5017 non-null   object\n",
            " 2   Cor/raca/etnia        5017 non-null   object\n",
            " 3   PCD                   5017 non-null   object\n",
            " 4   UF                    5017 non-null   object\n",
            " 5   Regiao onde mora      5017 non-null   object\n",
            " 6   Nível de Ensino       5017 non-null   object\n",
            " 7   Área de formação      5017 non-null   object\n",
            " 8   Situação de trabalho  5017 non-null   object\n",
            "dtypes: int64(1), object(8)\n",
            "memory usage: 392.0+ KB\n"
          ]
        }
      ]
    },
    {
      "cell_type": "code",
      "source": [
        "base_princ['Genero'].unique()"
      ],
      "metadata": {
        "colab": {
          "base_uri": "https://localhost:8080/"
        },
        "id": "qD_OH7UQ0FJM",
        "outputId": "ae673e29-71d6-4d9e-981e-59b45b209b6a"
      },
      "execution_count": 616,
      "outputs": [
        {
          "output_type": "execute_result",
          "data": {
            "text/plain": [
              "array([0, 1], dtype=object)"
            ]
          },
          "metadata": {},
          "execution_count": 616
        }
      ]
    },
    {
      "cell_type": "code",
      "source": [
        "#Transformo meus dados em numéricos\n",
        "base_princ['Genero'] = base_princ['Genero'].astype(int)\n",
        "base_princ['PCD'] = base_princ['PCD'].astype(int)\n",
        "base_princ['Regiao onde mora'] = base_princ['Regiao onde mora'].astype(int)\n",
        "base_princ['UF'] = base_princ['UF'].astype(int)\n",
        "base_princ['Nível de Ensino'] = base_princ['Nível de Ensino'].astype(int)\n",
        "base_princ['Área de formação'] = base_princ['Área de formação'].astype(int)\n",
        "base_princ['Situação de trabalho'] = base_princ['Situação de trabalho'].astype(int)\n",
        "base_princ['Cor/raca/etnia'] = base_princ['Cor/raca/etnia'].astype(int)\n",
        "base_princ.info()"
      ],
      "metadata": {
        "colab": {
          "base_uri": "https://localhost:8080/"
        },
        "id": "vanII6VhzkfP",
        "outputId": "894d3c74-6cff-4f42-8cc5-88a95bb5ab1f"
      },
      "execution_count": 617,
      "outputs": [
        {
          "output_type": "stream",
          "name": "stdout",
          "text": [
            "<class 'pandas.core.frame.DataFrame'>\n",
            "Index: 5017 entries, 0 to 5292\n",
            "Data columns (total 9 columns):\n",
            " #   Column                Non-Null Count  Dtype\n",
            "---  ------                --------------  -----\n",
            " 0   Idade                 5017 non-null   int64\n",
            " 1   Genero                5017 non-null   int64\n",
            " 2   Cor/raca/etnia        5017 non-null   int64\n",
            " 3   PCD                   5017 non-null   int64\n",
            " 4   UF                    5017 non-null   int64\n",
            " 5   Regiao onde mora      5017 non-null   int64\n",
            " 6   Nível de Ensino       5017 non-null   int64\n",
            " 7   Área de formação      5017 non-null   int64\n",
            " 8   Situação de trabalho  5017 non-null   int64\n",
            "dtypes: int64(9)\n",
            "memory usage: 392.0 KB\n"
          ]
        },
        {
          "output_type": "stream",
          "name": "stderr",
          "text": [
            "<ipython-input-617-4b7271415765>:2: SettingWithCopyWarning: \n",
            "A value is trying to be set on a copy of a slice from a DataFrame.\n",
            "Try using .loc[row_indexer,col_indexer] = value instead\n",
            "\n",
            "See the caveats in the documentation: https://pandas.pydata.org/pandas-docs/stable/user_guide/indexing.html#returning-a-view-versus-a-copy\n",
            "  base_princ['Genero'] = base_princ['Genero'].astype(int)\n",
            "<ipython-input-617-4b7271415765>:3: SettingWithCopyWarning: \n",
            "A value is trying to be set on a copy of a slice from a DataFrame.\n",
            "Try using .loc[row_indexer,col_indexer] = value instead\n",
            "\n",
            "See the caveats in the documentation: https://pandas.pydata.org/pandas-docs/stable/user_guide/indexing.html#returning-a-view-versus-a-copy\n",
            "  base_princ['PCD'] = base_princ['PCD'].astype(int)\n",
            "<ipython-input-617-4b7271415765>:4: SettingWithCopyWarning: \n",
            "A value is trying to be set on a copy of a slice from a DataFrame.\n",
            "Try using .loc[row_indexer,col_indexer] = value instead\n",
            "\n",
            "See the caveats in the documentation: https://pandas.pydata.org/pandas-docs/stable/user_guide/indexing.html#returning-a-view-versus-a-copy\n",
            "  base_princ['Regiao onde mora'] = base_princ['Regiao onde mora'].astype(int)\n",
            "<ipython-input-617-4b7271415765>:5: SettingWithCopyWarning: \n",
            "A value is trying to be set on a copy of a slice from a DataFrame.\n",
            "Try using .loc[row_indexer,col_indexer] = value instead\n",
            "\n",
            "See the caveats in the documentation: https://pandas.pydata.org/pandas-docs/stable/user_guide/indexing.html#returning-a-view-versus-a-copy\n",
            "  base_princ['UF'] = base_princ['UF'].astype(int)\n",
            "<ipython-input-617-4b7271415765>:6: SettingWithCopyWarning: \n",
            "A value is trying to be set on a copy of a slice from a DataFrame.\n",
            "Try using .loc[row_indexer,col_indexer] = value instead\n",
            "\n",
            "See the caveats in the documentation: https://pandas.pydata.org/pandas-docs/stable/user_guide/indexing.html#returning-a-view-versus-a-copy\n",
            "  base_princ['Nível de Ensino'] = base_princ['Nível de Ensino'].astype(int)\n",
            "<ipython-input-617-4b7271415765>:7: SettingWithCopyWarning: \n",
            "A value is trying to be set on a copy of a slice from a DataFrame.\n",
            "Try using .loc[row_indexer,col_indexer] = value instead\n",
            "\n",
            "See the caveats in the documentation: https://pandas.pydata.org/pandas-docs/stable/user_guide/indexing.html#returning-a-view-versus-a-copy\n",
            "  base_princ['Área de formação'] = base_princ['Área de formação'].astype(int)\n",
            "<ipython-input-617-4b7271415765>:8: SettingWithCopyWarning: \n",
            "A value is trying to be set on a copy of a slice from a DataFrame.\n",
            "Try using .loc[row_indexer,col_indexer] = value instead\n",
            "\n",
            "See the caveats in the documentation: https://pandas.pydata.org/pandas-docs/stable/user_guide/indexing.html#returning-a-view-versus-a-copy\n",
            "  base_princ['Situação de trabalho'] = base_princ['Situação de trabalho'].astype(int)\n",
            "<ipython-input-617-4b7271415765>:9: SettingWithCopyWarning: \n",
            "A value is trying to be set on a copy of a slice from a DataFrame.\n",
            "Try using .loc[row_indexer,col_indexer] = value instead\n",
            "\n",
            "See the caveats in the documentation: https://pandas.pydata.org/pandas-docs/stable/user_guide/indexing.html#returning-a-view-versus-a-copy\n",
            "  base_princ['Cor/raca/etnia'] = base_princ['Cor/raca/etnia'].astype(int)\n"
          ]
        }
      ]
    },
    {
      "cell_type": "code",
      "source": [
        "def analisar_estatisticas(dataframe, coluna):\n",
        "    \"\"\"Calcula e imprime estatísticas descritivas da coluna ignorando zeros na moda.\"\"\"\n",
        "\n",
        "    print(f\"\\n--- Análise Estatística para a coluna '{coluna}' ---\")\n",
        "\n",
        "    # Média e mediana\n",
        "    print(f\"{'Média:':<20} {dataframe[coluna].mean():,.2f}\")\n",
        "    print(f\"{'Mediana:':<20} {dataframe[coluna].median():,.2f}\")\n",
        "\n",
        "    # Moda ignorando zeros\n",
        "    dados_sem_zero = dataframe[dataframe[coluna] != 0][coluna]\n",
        "    if len(dados_sem_zero) == 0:\n",
        "        moda = \"Todos os valores são zero\"\n",
        "    elif dados_sem_zero.nunique() > 1:\n",
        "        moda = ', '.join(f\"{m:.2f}\" for m in dados_sem_zero.mode())\n",
        "    else:\n",
        "        moda = f\"{dados_sem_zero.iloc[0]:.2f}\"\n",
        "    print(f\"{'Moda (ignorando zeros):':<20} {moda}\")\n",
        "\n",
        "    # Desvio padrão e variância\n",
        "    print(f\"{'Desvio Padrão:':<20} {dataframe[coluna].std():,.2f}\")\n",
        "    print(f\"{'Variância:':<20} {dataframe[coluna].var():,.2f}\")\n",
        "\n",
        "    # Valores mínimos e máximos\n",
        "    print(f\"{'Mínimo:':<20} {dataframe[coluna].min():,.2f}\")\n",
        "    print(f\"{'Máximo:':<20} {dataframe[coluna].max():,.2f}\")\n",
        "\n",
        "    # Quartis\n",
        "    print(\"\\nQuartis:\")\n",
        "    quartis = dataframe[coluna].quantile([0.25, 0.5, 0.75])\n",
        "    for q, val in quartis.items():\n",
        "        print(f\"{int(q*100):<5}% {val:,.2f}\")\n",
        "\n",
        "    # Estatísticas completas formatadas\n",
        "    print(\"\\nDescrição Completa Formatada:\")\n",
        "    imprimir_descricao_formatada(dataframe[coluna])\n"
      ],
      "metadata": {
        "id": "cCRUnMOxt3P5"
      },
      "execution_count": 618,
      "outputs": []
    },
    {
      "cell_type": "code",
      "source": [
        "def imprimir_descricao_formatada(serie):\n",
        "    descricao = serie.describe()\n",
        "    print(f\"{'Estatística':<15} | {'Valor':>15}\")\n",
        "    print(\"-\" * 33)\n",
        "    for stat in descricao.index:\n",
        "        print(f\"{stat:<15} | {descricao[stat]:15,.2f}\")\n",
        "    print()\n",
        "\n",
        "def analisar_estatisticas(dataframe, coluna):\n",
        "    print(f\"\\n--- Análise Estatística para a coluna '{coluna}' ---\")\n",
        "    # Ensure the column exists before attempting to access it\n",
        "    if coluna not in dataframe.columns:\n",
        "        print(f\"Column '{coluna}' not found in the DataFrame.\")\n",
        "        return\n",
        "\n",
        "    # Check if the column is numeric before calculating descriptive statistics\n",
        "    if pd.api.types.is_numeric_dtype(dataframe[coluna]):\n",
        "        print(f\"{'Média:':<20} {dataframe[coluna].mean():,.2f}\")\n",
        "        print(f\"{'Mediana:':<20} {dataframe[coluna].median():,.2f}\")\n",
        "\n",
        "        # Moda ignorando zeros - only applicable to numeric data\n",
        "        dados_sem_zero = dataframe[dataframe[coluna] != 0][coluna]\n",
        "        if len(dados_sem_zero) == 0:\n",
        "            moda = \"Todos os valores são zero\"\n",
        "        elif dados_sem_zero.nunique() > 1:\n",
        "            moda = ', '.join(f\"{m:.2f}\" for m in dados_sem_zero.mode())\n",
        "        else:\n",
        "            moda = f\"{dados_sem_zero.iloc[0]:.2f}\"\n",
        "        print(f\"{'Moda (ignorando zeros):':<20} {moda}\")\n",
        "\n",
        "        print(f\"{'Desvio Padrão:':<20} {dataframe[coluna].std():,.2f}\")\n",
        "        print(f\"{'Variância:':<20} {dataframe[coluna].var():,.2f}\")\n",
        "        print(f\"{'Mínimo:':<20} {dataframe[coluna].min():,.2f}\")\n",
        "        print(f\"{'Máximo:':<20} {dataframe[coluna].max():,.2f}\")\n",
        "\n",
        "        print(\"\\nQuartis:\")\n",
        "        quartis = dataframe[coluna].quantile([0.25, 0.5, 0.75])\n",
        "        for q, val in quartis.items():\n",
        "            print(f\"{int(q*100):<5}% {val:,.2f}\")\n",
        "\n",
        "        print(\"\\nDescrição Completa Formatada:\")\n",
        "        imprimir_descricao_formatada(dataframe[coluna])\n",
        "    else:\n",
        "        # Handle non-numeric columns - show value counts and mode\n",
        "        print(\"Column is not numeric. Displaying value counts and mode:\")\n",
        "        print(dataframe[coluna].value_counts())\n",
        "        print(f\"Mode: {dataframe[coluna].mode()[0]}\")\n",
        "\n",
        "for col in base_princ.columns:\n",
        "    analisar_estatisticas(base_princ, col)"
      ],
      "metadata": {
        "colab": {
          "base_uri": "https://localhost:8080/"
        },
        "id": "fMXC28o_vOE6",
        "outputId": "f1d7ebaa-ecf0-46d5-a489-0ac4addd92a1"
      },
      "execution_count": 619,
      "outputs": [
        {
          "output_type": "stream",
          "name": "stdout",
          "text": [
            "\n",
            "--- Análise Estatística para a coluna 'Idade' ---\n",
            "Média:               31.96\n",
            "Mediana:             30.00\n",
            "Moda (ignorando zeros): 27.00\n",
            "Desvio Padrão:       7.55\n",
            "Variância:           57.01\n",
            "Mínimo:              18.00\n",
            "Máximo:              73.00\n",
            "\n",
            "Quartis:\n",
            "25   % 27.00\n",
            "50   % 30.00\n",
            "75   % 36.00\n",
            "\n",
            "Descrição Completa Formatada:\n",
            "Estatística     |           Valor\n",
            "---------------------------------\n",
            "count           |        5,017.00\n",
            "mean            |           31.96\n",
            "std             |            7.55\n",
            "min             |           18.00\n",
            "25%             |           27.00\n",
            "50%             |           30.00\n",
            "75%             |           36.00\n",
            "max             |           73.00\n",
            "\n",
            "\n",
            "--- Análise Estatística para a coluna 'Genero' ---\n",
            "Média:               0.25\n",
            "Mediana:             0.00\n",
            "Moda (ignorando zeros): 1.00\n",
            "Desvio Padrão:       0.43\n",
            "Variância:           0.19\n",
            "Mínimo:              0.00\n",
            "Máximo:              1.00\n",
            "\n",
            "Quartis:\n",
            "25   % 0.00\n",
            "50   % 0.00\n",
            "75   % 0.00\n",
            "\n",
            "Descrição Completa Formatada:\n",
            "Estatística     |           Valor\n",
            "---------------------------------\n",
            "count           |        5,017.00\n",
            "mean            |            0.25\n",
            "std             |            0.43\n",
            "min             |            0.00\n",
            "25%             |            0.00\n",
            "50%             |            0.00\n",
            "75%             |            0.00\n",
            "max             |            1.00\n",
            "\n",
            "\n",
            "--- Análise Estatística para a coluna 'Cor/raca/etnia' ---\n",
            "Média:               0.91\n",
            "Mediana:             0.00\n",
            "Moda (ignorando zeros): 3.00\n",
            "Desvio Padrão:       1.34\n",
            "Variância:           1.80\n",
            "Mínimo:              0.00\n",
            "Máximo:              6.00\n",
            "\n",
            "Quartis:\n",
            "25   % 0.00\n",
            "50   % 0.00\n",
            "75   % 3.00\n",
            "\n",
            "Descrição Completa Formatada:\n",
            "Estatística     |           Valor\n",
            "---------------------------------\n",
            "count           |        5,017.00\n",
            "mean            |            0.91\n",
            "std             |            1.34\n",
            "min             |            0.00\n",
            "25%             |            0.00\n",
            "50%             |            0.00\n",
            "75%             |            3.00\n",
            "max             |            6.00\n",
            "\n",
            "\n",
            "--- Análise Estatística para a coluna 'PCD' ---\n",
            "Média:               0.02\n",
            "Mediana:             0.00\n",
            "Moda (ignorando zeros): 1.00\n",
            "Desvio Padrão:       0.14\n",
            "Variância:           0.02\n",
            "Mínimo:              0.00\n",
            "Máximo:              1.00\n",
            "\n",
            "Quartis:\n",
            "25   % 0.00\n",
            "50   % 0.00\n",
            "75   % 0.00\n",
            "\n",
            "Descrição Completa Formatada:\n",
            "Estatística     |           Valor\n",
            "---------------------------------\n",
            "count           |        5,017.00\n",
            "mean            |            0.02\n",
            "std             |            0.14\n",
            "min             |            0.00\n",
            "25%             |            0.00\n",
            "50%             |            0.00\n",
            "75%             |            0.00\n",
            "max             |            1.00\n",
            "\n",
            "\n",
            "--- Análise Estatística para a coluna 'UF' ---\n",
            "Média:               17.87\n",
            "Mediana:             20.00\n",
            "Moda (ignorando zeros): 24.00\n",
            "Desvio Padrão:       6.71\n",
            "Variância:           45.03\n",
            "Mínimo:              1.00\n",
            "Máximo:              26.00\n",
            "\n",
            "Quartis:\n",
            "25   % 12.00\n",
            "50   % 20.00\n",
            "75   % 24.00\n",
            "\n",
            "Descrição Completa Formatada:\n",
            "Estatística     |           Valor\n",
            "---------------------------------\n",
            "count           |        5,017.00\n",
            "mean            |           17.87\n",
            "std             |            6.71\n",
            "min             |            1.00\n",
            "25%             |           12.00\n",
            "50%             |           20.00\n",
            "75%             |           24.00\n",
            "max             |           26.00\n",
            "\n",
            "\n",
            "--- Análise Estatística para a coluna 'Regiao onde mora' ---\n",
            "Média:               2.17\n",
            "Mediana:             2.00\n",
            "Moda (ignorando zeros): 2.00\n",
            "Desvio Padrão:       0.77\n",
            "Variância:           0.60\n",
            "Mínimo:              0.00\n",
            "Máximo:              4.00\n",
            "\n",
            "Quartis:\n",
            "25   % 2.00\n",
            "50   % 2.00\n",
            "75   % 3.00\n",
            "\n",
            "Descrição Completa Formatada:\n",
            "Estatística     |           Valor\n",
            "---------------------------------\n",
            "count           |        5,017.00\n",
            "mean            |            2.17\n",
            "std             |            0.77\n",
            "min             |            0.00\n",
            "25%             |            2.00\n",
            "50%             |            2.00\n",
            "75%             |            3.00\n",
            "max             |            4.00\n",
            "\n",
            "\n",
            "--- Análise Estatística para a coluna 'Nível de Ensino' ---\n",
            "Média:               2.59\n",
            "Mediana:             3.00\n",
            "Moda (ignorando zeros): 3.00\n",
            "Desvio Padrão:       1.00\n",
            "Variância:           1.00\n",
            "Mínimo:              1.00\n",
            "Máximo:              5.00\n",
            "\n",
            "Quartis:\n",
            "25   % 2.00\n",
            "50   % 3.00\n",
            "75   % 3.00\n",
            "\n",
            "Descrição Completa Formatada:\n",
            "Estatística     |           Valor\n",
            "---------------------------------\n",
            "count           |        5,017.00\n",
            "mean            |            2.59\n",
            "std             |            1.00\n",
            "min             |            1.00\n",
            "25%             |            2.00\n",
            "50%             |            3.00\n",
            "75%             |            3.00\n",
            "max             |            5.00\n",
            "\n",
            "\n",
            "--- Análise Estatística para a coluna 'Área de formação' ---\n",
            "Média:               1.32\n",
            "Mediana:             1.00\n",
            "Moda (ignorando zeros): 2.00\n",
            "Desvio Padrão:       1.72\n",
            "Variância:           2.96\n",
            "Mínimo:              0.00\n",
            "Máximo:              7.00\n",
            "\n",
            "Quartis:\n",
            "25   % 0.00\n",
            "50   % 1.00\n",
            "75   % 2.00\n",
            "\n",
            "Descrição Completa Formatada:\n",
            "Estatística     |           Valor\n",
            "---------------------------------\n",
            "count           |        5,017.00\n",
            "mean            |            1.32\n",
            "std             |            1.72\n",
            "min             |            0.00\n",
            "25%             |            0.00\n",
            "50%             |            1.00\n",
            "75%             |            2.00\n",
            "max             |            7.00\n",
            "\n",
            "\n",
            "--- Análise Estatística para a coluna 'Situação de trabalho' ---\n",
            "Média:               0.09\n",
            "Mediana:             0.00\n",
            "Moda (ignorando zeros): 1.00\n",
            "Desvio Padrão:       0.28\n",
            "Variância:           0.08\n",
            "Mínimo:              0.00\n",
            "Máximo:              1.00\n",
            "\n",
            "Quartis:\n",
            "25   % 0.00\n",
            "50   % 0.00\n",
            "75   % 0.00\n",
            "\n",
            "Descrição Completa Formatada:\n",
            "Estatística     |           Valor\n",
            "---------------------------------\n",
            "count           |        5,017.00\n",
            "mean            |            0.09\n",
            "std             |            0.28\n",
            "min             |            0.00\n",
            "25%             |            0.00\n",
            "50%             |            0.00\n",
            "75%             |            0.00\n",
            "max             |            1.00\n",
            "\n"
          ]
        }
      ]
    },
    {
      "cell_type": "code",
      "source": [
        "base_princ"
      ],
      "metadata": {
        "colab": {
          "base_uri": "https://localhost:8080/",
          "height": 424
        },
        "id": "_wONdErWjifq",
        "outputId": "d84f67ad-9822-4b35-aa88-36ba132cf9c2"
      },
      "execution_count": 620,
      "outputs": [
        {
          "output_type": "execute_result",
          "data": {
            "text/plain": [
              "      Idade  Genero  Cor/raca/etnia  PCD  UF  Regiao onde mora  \\\n",
              "0        31       0               0    0  12                 2   \n",
              "1        30       0               0    0   7                 2   \n",
              "2        37       1               2    0  24                 2   \n",
              "3        22       0               1    0  24                 2   \n",
              "4        34       0               0    0  12                 2   \n",
              "...     ...     ...             ...  ...  ..               ...   \n",
              "5288     34       0               1    0  12                 2   \n",
              "5289     32       0               0    0  19                 1   \n",
              "5290     25       0               0    0  24                 2   \n",
              "5291     31       0               3    0  24                 2   \n",
              "5292     31       0               2    0  24                 2   \n",
              "\n",
              "      Nível de Ensino  Área de formação  Situação de trabalho  \n",
              "0                   5                 0                     0  \n",
              "1                   2                 0                     0  \n",
              "2                   2                 0                     0  \n",
              "3                   1                 0                     1  \n",
              "4                   5                 1                     0  \n",
              "...               ...               ...                   ...  \n",
              "5288                3                 0                     0  \n",
              "5289                2                 2                     0  \n",
              "5290                2                 5                     0  \n",
              "5291                1                 0                     1  \n",
              "5292                3                 0                     1  \n",
              "\n",
              "[5017 rows x 9 columns]"
            ],
            "text/html": [
              "\n",
              "  <div id=\"df-34b2f596-33c1-4d80-ad1d-f7b062d85769\" class=\"colab-df-container\">\n",
              "    <div>\n",
              "<style scoped>\n",
              "    .dataframe tbody tr th:only-of-type {\n",
              "        vertical-align: middle;\n",
              "    }\n",
              "\n",
              "    .dataframe tbody tr th {\n",
              "        vertical-align: top;\n",
              "    }\n",
              "\n",
              "    .dataframe thead th {\n",
              "        text-align: right;\n",
              "    }\n",
              "</style>\n",
              "<table border=\"1\" class=\"dataframe\">\n",
              "  <thead>\n",
              "    <tr style=\"text-align: right;\">\n",
              "      <th></th>\n",
              "      <th>Idade</th>\n",
              "      <th>Genero</th>\n",
              "      <th>Cor/raca/etnia</th>\n",
              "      <th>PCD</th>\n",
              "      <th>UF</th>\n",
              "      <th>Regiao onde mora</th>\n",
              "      <th>Nível de Ensino</th>\n",
              "      <th>Área de formação</th>\n",
              "      <th>Situação de trabalho</th>\n",
              "    </tr>\n",
              "  </thead>\n",
              "  <tbody>\n",
              "    <tr>\n",
              "      <th>0</th>\n",
              "      <td>31</td>\n",
              "      <td>0</td>\n",
              "      <td>0</td>\n",
              "      <td>0</td>\n",
              "      <td>12</td>\n",
              "      <td>2</td>\n",
              "      <td>5</td>\n",
              "      <td>0</td>\n",
              "      <td>0</td>\n",
              "    </tr>\n",
              "    <tr>\n",
              "      <th>1</th>\n",
              "      <td>30</td>\n",
              "      <td>0</td>\n",
              "      <td>0</td>\n",
              "      <td>0</td>\n",
              "      <td>7</td>\n",
              "      <td>2</td>\n",
              "      <td>2</td>\n",
              "      <td>0</td>\n",
              "      <td>0</td>\n",
              "    </tr>\n",
              "    <tr>\n",
              "      <th>2</th>\n",
              "      <td>37</td>\n",
              "      <td>1</td>\n",
              "      <td>2</td>\n",
              "      <td>0</td>\n",
              "      <td>24</td>\n",
              "      <td>2</td>\n",
              "      <td>2</td>\n",
              "      <td>0</td>\n",
              "      <td>0</td>\n",
              "    </tr>\n",
              "    <tr>\n",
              "      <th>3</th>\n",
              "      <td>22</td>\n",
              "      <td>0</td>\n",
              "      <td>1</td>\n",
              "      <td>0</td>\n",
              "      <td>24</td>\n",
              "      <td>2</td>\n",
              "      <td>1</td>\n",
              "      <td>0</td>\n",
              "      <td>1</td>\n",
              "    </tr>\n",
              "    <tr>\n",
              "      <th>4</th>\n",
              "      <td>34</td>\n",
              "      <td>0</td>\n",
              "      <td>0</td>\n",
              "      <td>0</td>\n",
              "      <td>12</td>\n",
              "      <td>2</td>\n",
              "      <td>5</td>\n",
              "      <td>1</td>\n",
              "      <td>0</td>\n",
              "    </tr>\n",
              "    <tr>\n",
              "      <th>...</th>\n",
              "      <td>...</td>\n",
              "      <td>...</td>\n",
              "      <td>...</td>\n",
              "      <td>...</td>\n",
              "      <td>...</td>\n",
              "      <td>...</td>\n",
              "      <td>...</td>\n",
              "      <td>...</td>\n",
              "      <td>...</td>\n",
              "    </tr>\n",
              "    <tr>\n",
              "      <th>5288</th>\n",
              "      <td>34</td>\n",
              "      <td>0</td>\n",
              "      <td>1</td>\n",
              "      <td>0</td>\n",
              "      <td>12</td>\n",
              "      <td>2</td>\n",
              "      <td>3</td>\n",
              "      <td>0</td>\n",
              "      <td>0</td>\n",
              "    </tr>\n",
              "    <tr>\n",
              "      <th>5289</th>\n",
              "      <td>32</td>\n",
              "      <td>0</td>\n",
              "      <td>0</td>\n",
              "      <td>0</td>\n",
              "      <td>19</td>\n",
              "      <td>1</td>\n",
              "      <td>2</td>\n",
              "      <td>2</td>\n",
              "      <td>0</td>\n",
              "    </tr>\n",
              "    <tr>\n",
              "      <th>5290</th>\n",
              "      <td>25</td>\n",
              "      <td>0</td>\n",
              "      <td>0</td>\n",
              "      <td>0</td>\n",
              "      <td>24</td>\n",
              "      <td>2</td>\n",
              "      <td>2</td>\n",
              "      <td>5</td>\n",
              "      <td>0</td>\n",
              "    </tr>\n",
              "    <tr>\n",
              "      <th>5291</th>\n",
              "      <td>31</td>\n",
              "      <td>0</td>\n",
              "      <td>3</td>\n",
              "      <td>0</td>\n",
              "      <td>24</td>\n",
              "      <td>2</td>\n",
              "      <td>1</td>\n",
              "      <td>0</td>\n",
              "      <td>1</td>\n",
              "    </tr>\n",
              "    <tr>\n",
              "      <th>5292</th>\n",
              "      <td>31</td>\n",
              "      <td>0</td>\n",
              "      <td>2</td>\n",
              "      <td>0</td>\n",
              "      <td>24</td>\n",
              "      <td>2</td>\n",
              "      <td>3</td>\n",
              "      <td>0</td>\n",
              "      <td>1</td>\n",
              "    </tr>\n",
              "  </tbody>\n",
              "</table>\n",
              "<p>5017 rows × 9 columns</p>\n",
              "</div>\n",
              "    <div class=\"colab-df-buttons\">\n",
              "\n",
              "  <div class=\"colab-df-container\">\n",
              "    <button class=\"colab-df-convert\" onclick=\"convertToInteractive('df-34b2f596-33c1-4d80-ad1d-f7b062d85769')\"\n",
              "            title=\"Convert this dataframe to an interactive table.\"\n",
              "            style=\"display:none;\">\n",
              "\n",
              "  <svg xmlns=\"http://www.w3.org/2000/svg\" height=\"24px\" viewBox=\"0 -960 960 960\">\n",
              "    <path d=\"M120-120v-720h720v720H120Zm60-500h600v-160H180v160Zm220 220h160v-160H400v160Zm0 220h160v-160H400v160ZM180-400h160v-160H180v160Zm440 0h160v-160H620v160ZM180-180h160v-160H180v160Zm440 0h160v-160H620v160Z\"/>\n",
              "  </svg>\n",
              "    </button>\n",
              "\n",
              "  <style>\n",
              "    .colab-df-container {\n",
              "      display:flex;\n",
              "      gap: 12px;\n",
              "    }\n",
              "\n",
              "    .colab-df-convert {\n",
              "      background-color: #E8F0FE;\n",
              "      border: none;\n",
              "      border-radius: 50%;\n",
              "      cursor: pointer;\n",
              "      display: none;\n",
              "      fill: #1967D2;\n",
              "      height: 32px;\n",
              "      padding: 0 0 0 0;\n",
              "      width: 32px;\n",
              "    }\n",
              "\n",
              "    .colab-df-convert:hover {\n",
              "      background-color: #E2EBFA;\n",
              "      box-shadow: 0px 1px 2px rgba(60, 64, 67, 0.3), 0px 1px 3px 1px rgba(60, 64, 67, 0.15);\n",
              "      fill: #174EA6;\n",
              "    }\n",
              "\n",
              "    .colab-df-buttons div {\n",
              "      margin-bottom: 4px;\n",
              "    }\n",
              "\n",
              "    [theme=dark] .colab-df-convert {\n",
              "      background-color: #3B4455;\n",
              "      fill: #D2E3FC;\n",
              "    }\n",
              "\n",
              "    [theme=dark] .colab-df-convert:hover {\n",
              "      background-color: #434B5C;\n",
              "      box-shadow: 0px 1px 3px 1px rgba(0, 0, 0, 0.15);\n",
              "      filter: drop-shadow(0px 1px 2px rgba(0, 0, 0, 0.3));\n",
              "      fill: #FFFFFF;\n",
              "    }\n",
              "  </style>\n",
              "\n",
              "    <script>\n",
              "      const buttonEl =\n",
              "        document.querySelector('#df-34b2f596-33c1-4d80-ad1d-f7b062d85769 button.colab-df-convert');\n",
              "      buttonEl.style.display =\n",
              "        google.colab.kernel.accessAllowed ? 'block' : 'none';\n",
              "\n",
              "      async function convertToInteractive(key) {\n",
              "        const element = document.querySelector('#df-34b2f596-33c1-4d80-ad1d-f7b062d85769');\n",
              "        const dataTable =\n",
              "          await google.colab.kernel.invokeFunction('convertToInteractive',\n",
              "                                                    [key], {});\n",
              "        if (!dataTable) return;\n",
              "\n",
              "        const docLinkHtml = 'Like what you see? Visit the ' +\n",
              "          '<a target=\"_blank\" href=https://colab.research.google.com/notebooks/data_table.ipynb>data table notebook</a>'\n",
              "          + ' to learn more about interactive tables.';\n",
              "        element.innerHTML = '';\n",
              "        dataTable['output_type'] = 'display_data';\n",
              "        await google.colab.output.renderOutput(dataTable, element);\n",
              "        const docLink = document.createElement('div');\n",
              "        docLink.innerHTML = docLinkHtml;\n",
              "        element.appendChild(docLink);\n",
              "      }\n",
              "    </script>\n",
              "  </div>\n",
              "\n",
              "\n",
              "    <div id=\"df-689e91a9-d275-49c9-9a77-fe85854063e9\">\n",
              "      <button class=\"colab-df-quickchart\" onclick=\"quickchart('df-689e91a9-d275-49c9-9a77-fe85854063e9')\"\n",
              "                title=\"Suggest charts\"\n",
              "                style=\"display:none;\">\n",
              "\n",
              "<svg xmlns=\"http://www.w3.org/2000/svg\" height=\"24px\"viewBox=\"0 0 24 24\"\n",
              "     width=\"24px\">\n",
              "    <g>\n",
              "        <path d=\"M19 3H5c-1.1 0-2 .9-2 2v14c0 1.1.9 2 2 2h14c1.1 0 2-.9 2-2V5c0-1.1-.9-2-2-2zM9 17H7v-7h2v7zm4 0h-2V7h2v10zm4 0h-2v-4h2v4z\"/>\n",
              "    </g>\n",
              "</svg>\n",
              "      </button>\n",
              "\n",
              "<style>\n",
              "  .colab-df-quickchart {\n",
              "      --bg-color: #E8F0FE;\n",
              "      --fill-color: #1967D2;\n",
              "      --hover-bg-color: #E2EBFA;\n",
              "      --hover-fill-color: #174EA6;\n",
              "      --disabled-fill-color: #AAA;\n",
              "      --disabled-bg-color: #DDD;\n",
              "  }\n",
              "\n",
              "  [theme=dark] .colab-df-quickchart {\n",
              "      --bg-color: #3B4455;\n",
              "      --fill-color: #D2E3FC;\n",
              "      --hover-bg-color: #434B5C;\n",
              "      --hover-fill-color: #FFFFFF;\n",
              "      --disabled-bg-color: #3B4455;\n",
              "      --disabled-fill-color: #666;\n",
              "  }\n",
              "\n",
              "  .colab-df-quickchart {\n",
              "    background-color: var(--bg-color);\n",
              "    border: none;\n",
              "    border-radius: 50%;\n",
              "    cursor: pointer;\n",
              "    display: none;\n",
              "    fill: var(--fill-color);\n",
              "    height: 32px;\n",
              "    padding: 0;\n",
              "    width: 32px;\n",
              "  }\n",
              "\n",
              "  .colab-df-quickchart:hover {\n",
              "    background-color: var(--hover-bg-color);\n",
              "    box-shadow: 0 1px 2px rgba(60, 64, 67, 0.3), 0 1px 3px 1px rgba(60, 64, 67, 0.15);\n",
              "    fill: var(--button-hover-fill-color);\n",
              "  }\n",
              "\n",
              "  .colab-df-quickchart-complete:disabled,\n",
              "  .colab-df-quickchart-complete:disabled:hover {\n",
              "    background-color: var(--disabled-bg-color);\n",
              "    fill: var(--disabled-fill-color);\n",
              "    box-shadow: none;\n",
              "  }\n",
              "\n",
              "  .colab-df-spinner {\n",
              "    border: 2px solid var(--fill-color);\n",
              "    border-color: transparent;\n",
              "    border-bottom-color: var(--fill-color);\n",
              "    animation:\n",
              "      spin 1s steps(1) infinite;\n",
              "  }\n",
              "\n",
              "  @keyframes spin {\n",
              "    0% {\n",
              "      border-color: transparent;\n",
              "      border-bottom-color: var(--fill-color);\n",
              "      border-left-color: var(--fill-color);\n",
              "    }\n",
              "    20% {\n",
              "      border-color: transparent;\n",
              "      border-left-color: var(--fill-color);\n",
              "      border-top-color: var(--fill-color);\n",
              "    }\n",
              "    30% {\n",
              "      border-color: transparent;\n",
              "      border-left-color: var(--fill-color);\n",
              "      border-top-color: var(--fill-color);\n",
              "      border-right-color: var(--fill-color);\n",
              "    }\n",
              "    40% {\n",
              "      border-color: transparent;\n",
              "      border-right-color: var(--fill-color);\n",
              "      border-top-color: var(--fill-color);\n",
              "    }\n",
              "    60% {\n",
              "      border-color: transparent;\n",
              "      border-right-color: var(--fill-color);\n",
              "    }\n",
              "    80% {\n",
              "      border-color: transparent;\n",
              "      border-right-color: var(--fill-color);\n",
              "      border-bottom-color: var(--fill-color);\n",
              "    }\n",
              "    90% {\n",
              "      border-color: transparent;\n",
              "      border-bottom-color: var(--fill-color);\n",
              "    }\n",
              "  }\n",
              "</style>\n",
              "\n",
              "      <script>\n",
              "        async function quickchart(key) {\n",
              "          const quickchartButtonEl =\n",
              "            document.querySelector('#' + key + ' button');\n",
              "          quickchartButtonEl.disabled = true;  // To prevent multiple clicks.\n",
              "          quickchartButtonEl.classList.add('colab-df-spinner');\n",
              "          try {\n",
              "            const charts = await google.colab.kernel.invokeFunction(\n",
              "                'suggestCharts', [key], {});\n",
              "          } catch (error) {\n",
              "            console.error('Error during call to suggestCharts:', error);\n",
              "          }\n",
              "          quickchartButtonEl.classList.remove('colab-df-spinner');\n",
              "          quickchartButtonEl.classList.add('colab-df-quickchart-complete');\n",
              "        }\n",
              "        (() => {\n",
              "          let quickchartButtonEl =\n",
              "            document.querySelector('#df-689e91a9-d275-49c9-9a77-fe85854063e9 button');\n",
              "          quickchartButtonEl.style.display =\n",
              "            google.colab.kernel.accessAllowed ? 'block' : 'none';\n",
              "        })();\n",
              "      </script>\n",
              "    </div>\n",
              "\n",
              "  <div id=\"id_e7d1ea7e-64e6-4518-9bf0-df17fd573643\">\n",
              "    <style>\n",
              "      .colab-df-generate {\n",
              "        background-color: #E8F0FE;\n",
              "        border: none;\n",
              "        border-radius: 50%;\n",
              "        cursor: pointer;\n",
              "        display: none;\n",
              "        fill: #1967D2;\n",
              "        height: 32px;\n",
              "        padding: 0 0 0 0;\n",
              "        width: 32px;\n",
              "      }\n",
              "\n",
              "      .colab-df-generate:hover {\n",
              "        background-color: #E2EBFA;\n",
              "        box-shadow: 0px 1px 2px rgba(60, 64, 67, 0.3), 0px 1px 3px 1px rgba(60, 64, 67, 0.15);\n",
              "        fill: #174EA6;\n",
              "      }\n",
              "\n",
              "      [theme=dark] .colab-df-generate {\n",
              "        background-color: #3B4455;\n",
              "        fill: #D2E3FC;\n",
              "      }\n",
              "\n",
              "      [theme=dark] .colab-df-generate:hover {\n",
              "        background-color: #434B5C;\n",
              "        box-shadow: 0px 1px 3px 1px rgba(0, 0, 0, 0.15);\n",
              "        filter: drop-shadow(0px 1px 2px rgba(0, 0, 0, 0.3));\n",
              "        fill: #FFFFFF;\n",
              "      }\n",
              "    </style>\n",
              "    <button class=\"colab-df-generate\" onclick=\"generateWithVariable('base_princ')\"\n",
              "            title=\"Generate code using this dataframe.\"\n",
              "            style=\"display:none;\">\n",
              "\n",
              "  <svg xmlns=\"http://www.w3.org/2000/svg\" height=\"24px\"viewBox=\"0 0 24 24\"\n",
              "       width=\"24px\">\n",
              "    <path d=\"M7,19H8.4L18.45,9,17,7.55,7,17.6ZM5,21V16.75L18.45,3.32a2,2,0,0,1,2.83,0l1.4,1.43a1.91,1.91,0,0,1,.58,1.4,1.91,1.91,0,0,1-.58,1.4L9.25,21ZM18.45,9,17,7.55Zm-12,3A5.31,5.31,0,0,0,4.9,8.1,5.31,5.31,0,0,0,1,6.5,5.31,5.31,0,0,0,4.9,4.9,5.31,5.31,0,0,0,6.5,1,5.31,5.31,0,0,0,8.1,4.9,5.31,5.31,0,0,0,12,6.5,5.46,5.46,0,0,0,6.5,12Z\"/>\n",
              "  </svg>\n",
              "    </button>\n",
              "    <script>\n",
              "      (() => {\n",
              "      const buttonEl =\n",
              "        document.querySelector('#id_e7d1ea7e-64e6-4518-9bf0-df17fd573643 button.colab-df-generate');\n",
              "      buttonEl.style.display =\n",
              "        google.colab.kernel.accessAllowed ? 'block' : 'none';\n",
              "\n",
              "      buttonEl.onclick = () => {\n",
              "        google.colab.notebook.generateWithVariable('base_princ');\n",
              "      }\n",
              "      })();\n",
              "    </script>\n",
              "  </div>\n",
              "\n",
              "    </div>\n",
              "  </div>\n"
            ],
            "application/vnd.google.colaboratory.intrinsic+json": {
              "type": "dataframe",
              "variable_name": "base_princ",
              "summary": "{\n  \"name\": \"base_princ\",\n  \"rows\": 5017,\n  \"fields\": [\n    {\n      \"column\": \"Idade\",\n      \"properties\": {\n        \"dtype\": \"number\",\n        \"std\": 7,\n        \"min\": 18,\n        \"max\": 73,\n        \"num_unique_values\": 52,\n        \"samples\": [\n          23,\n          57,\n          64\n        ],\n        \"semantic_type\": \"\",\n        \"description\": \"\"\n      }\n    },\n    {\n      \"column\": \"Genero\",\n      \"properties\": {\n        \"dtype\": \"number\",\n        \"std\": 0,\n        \"min\": 0,\n        \"max\": 1,\n        \"num_unique_values\": 2,\n        \"samples\": [\n          1,\n          0\n        ],\n        \"semantic_type\": \"\",\n        \"description\": \"\"\n      }\n    },\n    {\n      \"column\": \"Cor/raca/etnia\",\n      \"properties\": {\n        \"dtype\": \"number\",\n        \"std\": 1,\n        \"min\": 0,\n        \"max\": 6,\n        \"num_unique_values\": 7,\n        \"samples\": [\n          0,\n          2\n        ],\n        \"semantic_type\": \"\",\n        \"description\": \"\"\n      }\n    },\n    {\n      \"column\": \"PCD\",\n      \"properties\": {\n        \"dtype\": \"number\",\n        \"std\": 0,\n        \"min\": 0,\n        \"max\": 1,\n        \"num_unique_values\": 2,\n        \"samples\": [\n          1,\n          0\n        ],\n        \"semantic_type\": \"\",\n        \"description\": \"\"\n      }\n    },\n    {\n      \"column\": \"UF\",\n      \"properties\": {\n        \"dtype\": \"number\",\n        \"std\": 6,\n        \"min\": 1,\n        \"max\": 26,\n        \"num_unique_values\": 25,\n        \"samples\": [\n          15,\n          5\n        ],\n        \"semantic_type\": \"\",\n        \"description\": \"\"\n      }\n    },\n    {\n      \"column\": \"Regiao onde mora\",\n      \"properties\": {\n        \"dtype\": \"number\",\n        \"std\": 0,\n        \"min\": 0,\n        \"max\": 4,\n        \"num_unique_values\": 5,\n        \"samples\": [\n          1,\n          0\n        ],\n        \"semantic_type\": \"\",\n        \"description\": \"\"\n      }\n    },\n    {\n      \"column\": \"N\\u00edvel de Ensino\",\n      \"properties\": {\n        \"dtype\": \"number\",\n        \"std\": 1,\n        \"min\": 1,\n        \"max\": 5,\n        \"num_unique_values\": 5,\n        \"samples\": [\n          2,\n          4\n        ],\n        \"semantic_type\": \"\",\n        \"description\": \"\"\n      }\n    },\n    {\n      \"column\": \"\\u00c1rea de forma\\u00e7\\u00e3o\",\n      \"properties\": {\n        \"dtype\": \"number\",\n        \"std\": 1,\n        \"min\": 0,\n        \"max\": 7,\n        \"num_unique_values\": 8,\n        \"samples\": [\n          1,\n          3\n        ],\n        \"semantic_type\": \"\",\n        \"description\": \"\"\n      }\n    },\n    {\n      \"column\": \"Situa\\u00e7\\u00e3o de trabalho\",\n      \"properties\": {\n        \"dtype\": \"number\",\n        \"std\": 0,\n        \"min\": 0,\n        \"max\": 1,\n        \"num_unique_values\": 2,\n        \"samples\": [\n          1,\n          0\n        ],\n        \"semantic_type\": \"\",\n        \"description\": \"\"\n      }\n    }\n  ]\n}"
            }
          },
          "metadata": {},
          "execution_count": 620
        }
      ]
    },
    {
      "cell_type": "code",
      "source": [
        "base_princ.to_csv('base_princ_modificado.csv', index=False)\n"
      ],
      "metadata": {
        "id": "lHdrYma_Ujzb"
      },
      "execution_count": 621,
      "outputs": []
    },
    {
      "cell_type": "code",
      "source": [
        "from google.colab import files\n",
        "files.download('base_princ_modificado.csv')\n"
      ],
      "metadata": {
        "colab": {
          "base_uri": "https://localhost:8080/",
          "height": 17
        },
        "id": "JvSfcNR5VDAw",
        "outputId": "54125525-e979-4c5c-98cb-c3f6ad398105"
      },
      "execution_count": 622,
      "outputs": [
        {
          "output_type": "display_data",
          "data": {
            "text/plain": [
              "<IPython.core.display.Javascript object>"
            ],
            "application/javascript": [
              "\n",
              "    async function download(id, filename, size) {\n",
              "      if (!google.colab.kernel.accessAllowed) {\n",
              "        return;\n",
              "      }\n",
              "      const div = document.createElement('div');\n",
              "      const label = document.createElement('label');\n",
              "      label.textContent = `Downloading \"${filename}\": `;\n",
              "      div.appendChild(label);\n",
              "      const progress = document.createElement('progress');\n",
              "      progress.max = size;\n",
              "      div.appendChild(progress);\n",
              "      document.body.appendChild(div);\n",
              "\n",
              "      const buffers = [];\n",
              "      let downloaded = 0;\n",
              "\n",
              "      const channel = await google.colab.kernel.comms.open(id);\n",
              "      // Send a message to notify the kernel that we're ready.\n",
              "      channel.send({})\n",
              "\n",
              "      for await (const message of channel.messages) {\n",
              "        // Send a message to notify the kernel that we're ready.\n",
              "        channel.send({})\n",
              "        if (message.buffers) {\n",
              "          for (const buffer of message.buffers) {\n",
              "            buffers.push(buffer);\n",
              "            downloaded += buffer.byteLength;\n",
              "            progress.value = downloaded;\n",
              "          }\n",
              "        }\n",
              "      }\n",
              "      const blob = new Blob(buffers, {type: 'application/binary'});\n",
              "      const a = document.createElement('a');\n",
              "      a.href = window.URL.createObjectURL(blob);\n",
              "      a.download = filename;\n",
              "      div.appendChild(a);\n",
              "      a.click();\n",
              "      div.remove();\n",
              "    }\n",
              "  "
            ]
          },
          "metadata": {}
        },
        {
          "output_type": "display_data",
          "data": {
            "text/plain": [
              "<IPython.core.display.Javascript object>"
            ],
            "application/javascript": [
              "download(\"download_2c058bbb-9a50-4cbf-a18c-f4c19ef24acf\", \"base_princ_modificado.csv\", 99723)"
            ]
          },
          "metadata": {}
        }
      ]
    }
  ]
}