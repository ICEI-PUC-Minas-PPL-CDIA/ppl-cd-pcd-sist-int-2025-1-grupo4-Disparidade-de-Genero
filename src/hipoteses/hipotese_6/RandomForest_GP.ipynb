{
  "nbformat": 4,
  "nbformat_minor": 0,
  "metadata": {
    "colab": {
      "provenance": []
    },
    "kernelspec": {
      "name": "python3",
      "display_name": "Python 3"
    },
    "language_info": {
      "name": "python"
    }
  },
  "cells": [
    {
      "cell_type": "code",
      "execution_count": null,
      "metadata": {
        "id": "u3jTv-gPQSBk"
      },
      "outputs": [],
      "source": [
        "import pandas as pd\n",
        "import numpy as np\n",
        "import matplotlib.pyplot as plt\n",
        "import seaborn as sns\n",
        "\n",
        "from sklearn.ensemble import RandomForestClassifier\n",
        "from sklearn.model_selection import train_test_split\n",
        "from sklearn.metrics import accuracy_score, classification_report, confusion_matrix\n",
        "from sklearn.preprocessing import LabelEncoder\n",
        "from sklearn.model_selection import cross_val_score, StratifiedKFold\n"
      ]
    },
    {
      "cell_type": "code",
      "source": [
        "df = pd.read_csv(\"/content/drive/MyDrive/PCD1/assets/data/bases_modificadas/State_of_Data_dados_tratados.csv\")"
      ],
      "metadata": {
        "id": "MF7I41MCQZYp"
      },
      "execution_count": null,
      "outputs": []
    },
    {
      "cell_type": "markdown",
      "source": [
        "#Definição do Atributo alvo"
      ],
      "metadata": {
        "id": "77uYljRmJJCy"
      }
    },
    {
      "cell_type": "code",
      "source": [
        "y = df['progressao_prejudicada']\n",
        "X = df.drop('progressao_prejudicada', axis=1)"
      ],
      "metadata": {
        "id": "1OZTf7Elqzrx"
      },
      "execution_count": null,
      "outputs": []
    },
    {
      "cell_type": "markdown",
      "source": [
        "# Separação em treino e teste"
      ],
      "metadata": {
        "id": "PMG1pd6nJCDl"
      }
    },
    {
      "cell_type": "code",
      "source": [
        "X_train, X_test, y_train, y_test = train_test_split(\n",
        "    X, y, test_size=0.15, random_state=42, stratify=y\n",
        ")"
      ],
      "metadata": {
        "id": "2KGCbEmrq5NM"
      },
      "execution_count": null,
      "outputs": []
    },
    {
      "cell_type": "code",
      "source": [
        "X_train.shape"
      ],
      "metadata": {
        "colab": {
          "base_uri": "https://localhost:8080/"
        },
        "id": "Qo9bB22ibp5I",
        "outputId": "ad5fd901-79d1-4a2d-e103-dea77db1fed1"
      },
      "execution_count": null,
      "outputs": [
        {
          "output_type": "execute_result",
          "data": {
            "text/plain": [
              "(753, 14)"
            ]
          },
          "metadata": {},
          "execution_count": 5
        }
      ]
    },
    {
      "cell_type": "code",
      "source": [
        "X_test.shape"
      ],
      "metadata": {
        "colab": {
          "base_uri": "https://localhost:8080/"
        },
        "id": "r7vwbt9rbueI",
        "outputId": "44dd06a7-bd36-4671-fc0b-a72ac7250c2a"
      },
      "execution_count": null,
      "outputs": [
        {
          "output_type": "execute_result",
          "data": {
            "text/plain": [
              "(134, 14)"
            ]
          },
          "metadata": {},
          "execution_count": 6
        }
      ]
    },
    {
      "cell_type": "code",
      "source": [
        "y_train.shape"
      ],
      "metadata": {
        "colab": {
          "base_uri": "https://localhost:8080/"
        },
        "id": "q3n9eaCQbviM",
        "outputId": "53fc99a8-4bff-45c4-f940-ada900e40f27"
      },
      "execution_count": null,
      "outputs": [
        {
          "output_type": "execute_result",
          "data": {
            "text/plain": [
              "(753,)"
            ]
          },
          "metadata": {},
          "execution_count": 7
        }
      ]
    },
    {
      "cell_type": "code",
      "source": [
        "y_test.shape"
      ],
      "metadata": {
        "colab": {
          "base_uri": "https://localhost:8080/"
        },
        "id": "_m0py8Ovbw2I",
        "outputId": "47d37202-5db9-4267-f9b1-53b3ea9aa1a2"
      },
      "execution_count": null,
      "outputs": [
        {
          "output_type": "execute_result",
          "data": {
            "text/plain": [
              "(134,)"
            ]
          },
          "metadata": {},
          "execution_count": 8
        }
      ]
    },
    {
      "cell_type": "code",
      "source": [
        "rf_model = RandomForestClassifier(\n",
        "    n_estimators=100,\n",
        "    max_depth=None,\n",
        "    random_state=42,\n",
        ")\n",
        "\n",
        "rf_model.fit(X_train, y_train)\n",
        "\n",
        "\n",
        "grid_search = GridSearchCV(\n",
        "    estimator= rf_model,\n",
        "    cv=5,  # 5 folds para validação cruzada\n",
        "    scoring='f1_macro'  # Métrica de avaliação\n",
        ")\n",
        "\n",
        "print(cross_val_score(rf_model, X, y, cv=5))\n"
      ],
      "metadata": {
        "colab": {
          "base_uri": "https://localhost:8080/"
        },
        "id": "ft6AVWeKq7NI",
        "outputId": "53c69bc4-0f9f-4ae8-c464-9200854949aa"
      },
      "execution_count": null,
      "outputs": [
        {
          "output_type": "stream",
          "name": "stdout",
          "text": [
            "[0.48314607 0.53932584 0.46892655 0.55932203 0.49152542]\n"
          ]
        }
      ]
    },
    {
      "cell_type": "code",
      "source": [
        "y_pred_tr = rf_model.predict(X_train)\n",
        "\n",
        "print(\"Acurácia teste:\", accuracy_score(y_train, y_pred_tr))\n",
        "print(\"\\nRelatório de Classificação:\\n\", classification_report(y_train, y_pred_tr))\n",
        "\n",
        "# Matriz de Confusão de treino\n",
        "cm = confusion_matrix(y_train, y_pred_tr)\n",
        "sns.heatmap(cm, annot=True, fmt='d', cmap='Blues')\n",
        "plt.xlabel(\"Previsto\")\n",
        "plt.ylabel(\"Real\")\n",
        "plt.title(\"Matriz de Confusão Treino - Random Forest\")\n",
        "plt.show()\n",
        "\n",
        "\n",
        "\n",
        "y_pred_te = rf_model.predict(X_test)\n",
        "\n",
        "print(\"Acurácia teste:\", accuracy_score(y_test, y_pred_te))\n",
        "print(\"\\nRelatório de Classificação:\\n\", classification_report(y_test, y_pred_te))\n",
        "\n",
        "# Matriz de Confusão de treino\n",
        "cm = confusion_matrix(y_test, y_pred_te)\n",
        "sns.heatmap(cm, annot=True, fmt='d', cmap='Blues')\n",
        "plt.xlabel(\"Previsto\")\n",
        "plt.ylabel(\"Real\")\n",
        "plt.title(\"Matriz de Confusão Teste - Random Forest\")\n",
        "plt.show()\n",
        "\n",
        "\n",
        "\n",
        "\n",
        "\n",
        "\n",
        "\n",
        "\n",
        "\n",
        "\n",
        "\n"
      ],
      "metadata": {
        "colab": {
          "base_uri": "https://localhost:8080/",
          "height": 1000
        },
        "id": "VcbPG19Wq9bg",
        "outputId": "0d4b062f-f207-488c-d86f-e3fc167da536"
      },
      "execution_count": null,
      "outputs": [
        {
          "output_type": "stream",
          "name": "stdout",
          "text": [
            "Acurácia teste: 1.0\n",
            "\n",
            "Relatório de Classificação:\n",
            "               precision    recall  f1-score   support\n",
            "\n",
            "           0       1.00      1.00      1.00       381\n",
            "           1       1.00      1.00      1.00       372\n",
            "\n",
            "    accuracy                           1.00       753\n",
            "   macro avg       1.00      1.00      1.00       753\n",
            "weighted avg       1.00      1.00      1.00       753\n",
            "\n"
          ]
        },
        {
          "output_type": "display_data",
          "data": {
            "text/plain": [
              "<Figure size 640x480 with 2 Axes>"
            ],
            "image/png": "[encoded data removed]"
          },
          "metadata": {}
        },
        {
          "output_type": "stream",
          "name": "stdout",
          "text": [
            "Acurácia teste: 0.4626865671641791\n",
            "\n",
            "Relatório de Classificação:\n",
            "               precision    recall  f1-score   support\n",
            "\n",
            "           0       0.47      0.49      0.48        68\n",
            "           1       0.45      0.44      0.45        66\n",
            "\n",
            "    accuracy                           0.46       134\n",
            "   macro avg       0.46      0.46      0.46       134\n",
            "weighted avg       0.46      0.46      0.46       134\n",
            "\n"
          ]
        },
        {
          "output_type": "display_data",
          "data": {
            "text/plain": [
              "<Figure size 640x480 with 2 Axes>"
            ],
            "image/png": "[encoded data removed]"
          },
          "metadata": {}
        }
      ]
    }
  ]
}