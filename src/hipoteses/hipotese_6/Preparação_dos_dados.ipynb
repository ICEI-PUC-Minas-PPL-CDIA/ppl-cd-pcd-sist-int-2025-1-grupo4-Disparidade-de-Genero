{
  "nbformat": 4,
  "nbformat_minor": 0,
  "metadata": {
    "colab": {
      "provenance": []
    },
    "kernelspec": {
      "name": "python3",
      "display_name": "Python 3"
    },
    "language_info": {
      "name": "python"
    }
  },
  "cells": [
    {
      "cell_type": "markdown",
      "source": [
        "# Seleção dos atributos"
      ],
      "metadata": {
        "id": "QWHaprrAE1Ba"
      }
    },
    {
      "cell_type": "markdown",
      "source": [
        "## Instalação das bibliotecas"
      ],
      "metadata": {
        "id": "GsXEX4B6HZ9B"
      }
    },
    {
      "cell_type": "code",
      "source": [
        "!pip install pandas"
      ],
      "metadata": {
        "id": "24eHwwfuFT6S",
        "colab": {
          "base_uri": "https://localhost:8080/"
        },
        "outputId": "b23b7565-13a7-40b1-d142-523f8143ade3"
      },
      "execution_count": 4,
      "outputs": [
        {
          "output_type": "stream",
          "name": "stdout",
          "text": [
            "Requirement already satisfied: pandas in /usr/local/lib/python3.11/dist-packages (2.2.2)\n",
            "Requirement already satisfied: numpy>=1.23.2 in /usr/local/lib/python3.11/dist-packages (from pandas) (2.0.2)\n",
            "Requirement already satisfied: python-dateutil>=2.8.2 in /usr/local/lib/python3.11/dist-packages (from pandas) (2.9.0.post0)\n",
            "Requirement already satisfied: pytz>=2020.1 in /usr/local/lib/python3.11/dist-packages (from pandas) (2025.2)\n",
            "Requirement already satisfied: tzdata>=2022.7 in /usr/local/lib/python3.11/dist-packages (from pandas) (2025.2)\n",
            "Requirement already satisfied: six>=1.5 in /usr/local/lib/python3.11/dist-packages (from python-dateutil>=2.8.2->pandas) (1.17.0)\n"
          ]
        }
      ]
    },
    {
      "cell_type": "markdown",
      "source": [
        "## Importação das bibliotecas"
      ],
      "metadata": {
        "id": "zl2c9XDHHVVn"
      }
    },
    {
      "cell_type": "code",
      "source": [
        "import pandas as pd\n",
        "import seaborn as sns\n",
        "import matplotlib.pyplot as plt\n",
        "from sklearn.tree import DecisionTreeClassifier, plot_tree\n",
        "from sklearn.model_selection import train_test_split\n",
        "from sklearn.preprocessing import LabelEncoder, OneHotEncoder\n",
        "from sklearn.metrics import classification_report, accuracy_score"
      ],
      "metadata": {
        "id": "Y5qOi8k8GdmA"
      },
      "execution_count": 5,
      "outputs": []
    },
    {
      "cell_type": "markdown",
      "source": [
        "## Importação da base de dados"
      ],
      "metadata": {
        "id": "iqntdHuIHTKB"
      }
    },
    {
      "cell_type": "code",
      "source": [
        "base = pd.read_csv(\"/content/drive/MyDrive/PCD1/assets/data/bases_originais/State_of_data_BR_2023_Kaggle - df_survey_2023.csv\")\n",
        "\n",
        "base.head()"
      ],
      "metadata": {
        "id": "uLIrUpi7Ggp5",
        "colab": {
          "base_uri": "https://localhost:8080/",
          "height": 481
        },
        "outputId": "a520ba57-10be-4d1a-b304-6a6d718b6e2e"
      },
      "execution_count": 6,
      "outputs": [
        {
          "output_type": "execute_result",
          "data": {
            "text/plain": [
              "                       ('P0', 'id')  ('P1_a ', 'Idade')  \\\n",
              "0  001b2d1qtli8t9z7oqgdhj001b2d4i0g                  31   \n",
              "1  0026aa3fwd78u0026asg7456tfkjg2cs                  30   \n",
              "2  00r21rb9pusd1b0v7ew00r21rw3dy69w                  37   \n",
              "3  00urm3jf2cek12w6ygue00urm3jzd17j                  22   \n",
              "4  00v0az4g792svil00vn6y1kfm9hq8vy9                  34   \n",
              "\n",
              "  ('P1_a_1 ', 'Faixa idade') ('P1_b ', 'Genero') ('P1_c ', 'Cor/raca/etnia')  \\\n",
              "0                      30-34           Masculino                      Branca   \n",
              "1                      30-34           Masculino                      Branca   \n",
              "2                      35-39            Feminino                     Amarela   \n",
              "3                      22-24           Masculino                       Preta   \n",
              "4                      30-34           Masculino                      Branca   \n",
              "\n",
              "  ('P1_d ', 'PCD')  ('P1_e ', 'experiencia_profissional_prejudicada')  \\\n",
              "0              Não                                                NaN   \n",
              "1              Não                                                NaN   \n",
              "2              Não  Sim, acredito que a minha a experiência profis...   \n",
              "3              Não  Não acredito que minha experiência profissiona...   \n",
              "4              Não                                                NaN   \n",
              "\n",
              "   ('P1_e_1 ', 'Não acredito que minha experiência profissional seja afetada')  \\\n",
              "0                                                NaN                             \n",
              "1                                                NaN                             \n",
              "2                                                0.0                             \n",
              "3                                                1.0                             \n",
              "4                                                NaN                             \n",
              "\n",
              "   ('P1_e_2 ', 'Experiencia prejudicada devido a minha Cor Raça Etnia')  \\\n",
              "0                                                NaN                      \n",
              "1                                                NaN                      \n",
              "2                                                0.0                      \n",
              "3                                                0.0                      \n",
              "4                                                NaN                      \n",
              "\n",
              "   ('P1_e_3 ', 'Experiencia prejudicada devido a minha identidade de gênero')  \\\n",
              "0                                                NaN                            \n",
              "1                                                NaN                            \n",
              "2                                                1.0                            \n",
              "3                                                0.0                            \n",
              "4                                                NaN                            \n",
              "\n",
              "   ...  \\\n",
              "0  ...   \n",
              "1  ...   \n",
              "2  ...   \n",
              "3  ...   \n",
              "4  ...   \n",
              "\n",
              "   ('P8_d_3 ', 'Entrando em contato com os times de negócio para definição do problema, identificar a solução e apresentação de resultados.')  \\\n",
              "0                                                1.0                                                                                            \n",
              "1                                                NaN                                                                                            \n",
              "2                                                1.0                                                                                            \n",
              "3                                                NaN                                                                                            \n",
              "4                                                NaN                                                                                            \n",
              "\n",
              "  ('P8_d_4 ', 'Desenvolvendo modelos de Machine Learning com o objetivo de colocar em produção em sistemas (produtos de dados).')  \\\n",
              "0                                                0.0                                                                                \n",
              "1                                                NaN                                                                                \n",
              "2                                                0.0                                                                                \n",
              "3                                                NaN                                                                                \n",
              "4                                                NaN                                                                                \n",
              "\n",
              "   ('P8_d_5 ', 'Colocando modelos em produção, criando os pipelines de dados, APIs de consumo e monitoramento.')  \\\n",
              "0                                                0.0                                                               \n",
              "1                                                NaN                                                               \n",
              "2                                                0.0                                                               \n",
              "3                                                NaN                                                               \n",
              "4                                                NaN                                                               \n",
              "\n",
              "   ('P8_d_6 ', 'Cuidando da manutenção de modelos de Machine Learning já em produção, atuando no monitoramento, ajustes e refatoração quando necessário.')  \\\n",
              "0                                                0.0                                                                                                         \n",
              "1                                                NaN                                                                                                         \n",
              "2                                                0.0                                                                                                         \n",
              "3                                                NaN                                                                                                         \n",
              "4                                                NaN                                                                                                         \n",
              "\n",
              "   ('P8_d_7 ', 'Realizando construções de dashboards em ferramentas de BI como PowerBI, Tableau, Looker, Qlik, etc.')  \\\n",
              "0                                                0.0                                                                    \n",
              "1                                                NaN                                                                    \n",
              "2                                                0.0                                                                    \n",
              "3                                                NaN                                                                    \n",
              "4                                                NaN                                                                    \n",
              "\n",
              "   ('P8_d_8 ', 'Utilizando ferramentas avançadas de estatística como SAS, SPSS, Stata etc, para realizar análises.')  \\\n",
              "0                                                0.0                                                                   \n",
              "1                                                NaN                                                                   \n",
              "2                                                0.0                                                                   \n",
              "3                                                NaN                                                                   \n",
              "4                                                NaN                                                                   \n",
              "\n",
              "   ('P8_d_9 ', 'Criando e dando manutenção em ETLs, DAGs e automações de pipelines de dados.')  \\\n",
              "0                                                0.0                                             \n",
              "1                                                NaN                                             \n",
              "2                                                0.0                                             \n",
              "3                                                NaN                                             \n",
              "4                                                NaN                                             \n",
              "\n",
              "   ('P8_d_10 ', 'Criando e gerenciando soluções de Feature Store e cultura de MLOps.')  \\\n",
              "0                                                0.0                                     \n",
              "1                                                NaN                                     \n",
              "2                                                0.0                                     \n",
              "3                                                NaN                                     \n",
              "4                                                NaN                                     \n",
              "\n",
              "   ('P8_d_11 ', 'Criando e mantendo a infra que meus modelos e soluções rodam (clusters, servidores, API, containers, etc.)')  \\\n",
              "0                                                0.0                                                                            \n",
              "1                                                NaN                                                                            \n",
              "2                                                0.0                                                                            \n",
              "3                                                NaN                                                                            \n",
              "4                                                NaN                                                                            \n",
              "\n",
              "   ('P8_d_12 ', 'Treinando e aplicando LLM's para solucionar problemas de negócio.')  \n",
              "0                                                0.0                                  \n",
              "1                                                NaN                                  \n",
              "2                                                0.0                                  \n",
              "3                                                NaN                                  \n",
              "4                                                NaN                                  \n",
              "\n",
              "[5 rows x 399 columns]"
            ],
            "text/html": [
              "\n",
              "  <div id=\"df-e4f5c388-9773-423d-b0bf-9a650cd88ded\" class=\"colab-df-container\">\n",
              "    <div>\n",
              "<style scoped>\n",
              "    .dataframe tbody tr th:only-of-type {\n",
              "        vertical-align: middle;\n",
              "    }\n",
              "\n",
              "    .dataframe tbody tr th {\n",
              "        vertical-align: top;\n",
              "    }\n",
              "\n",
              "    .dataframe thead th {\n",
              "        text-align: right;\n",
              "    }\n",
              "</style>\n",
              "<table border=\"1\" class=\"dataframe\">\n",
              "  <thead>\n",
              "    <tr style=\"text-align: right;\">\n",
              "      <th></th>\n",
              "      <th>('P0', 'id')</th>\n",
              "      <th>('P1_a ', 'Idade')</th>\n",
              "      <th>('P1_a_1 ', 'Faixa idade')</th>\n",
              "      <th>('P1_b ', 'Genero')</th>\n",
              "      <th>('P1_c ', 'Cor/raca/etnia')</th>\n",
              "      <th>('P1_d ', 'PCD')</th>\n",
              "      <th>('P1_e ', 'experiencia_profissional_prejudicada')</th>\n",
              "      <th>('P1_e_1 ', 'Não acredito que minha experiência profissional seja afetada')</th>\n",
              "      <th>('P1_e_2 ', 'Experiencia prejudicada devido a minha Cor Raça Etnia')</th>\n",
              "      <th>('P1_e_3 ', 'Experiencia prejudicada devido a minha identidade de gênero')</th>\n",
              "      <th>...</th>\n",
              "      <th>('P8_d_3 ', 'Entrando em contato com os times de negócio para definição do problema, identificar a solução e apresentação de resultados.')</th>\n",
              "      <th>('P8_d_4 ', 'Desenvolvendo modelos de Machine Learning com o objetivo de colocar em produção em sistemas (produtos de dados).')</th>\n",
              "      <th>('P8_d_5 ', 'Colocando modelos em produção, criando os pipelines de dados, APIs de consumo e monitoramento.')</th>\n",
              "      <th>('P8_d_6 ', 'Cuidando da manutenção de modelos de Machine Learning já em produção, atuando no monitoramento, ajustes e refatoração quando necessário.')</th>\n",
              "      <th>('P8_d_7 ', 'Realizando construções de dashboards em ferramentas de BI como PowerBI, Tableau, Looker, Qlik, etc.')</th>\n",
              "      <th>('P8_d_8 ', 'Utilizando ferramentas avançadas de estatística como SAS, SPSS, Stata etc, para realizar análises.')</th>\n",
              "      <th>('P8_d_9 ', 'Criando e dando manutenção em ETLs, DAGs e automações de pipelines de dados.')</th>\n",
              "      <th>('P8_d_10 ', 'Criando e gerenciando soluções de Feature Store e cultura de MLOps.')</th>\n",
              "      <th>('P8_d_11 ', 'Criando e mantendo a infra que meus modelos e soluções rodam (clusters, servidores, API, containers, etc.)')</th>\n",
              "      <th>('P8_d_12 ', 'Treinando e aplicando LLM's para solucionar problemas de negócio.')</th>\n",
              "    </tr>\n",
              "  </thead>\n",
              "  <tbody>\n",
              "    <tr>\n",
              "      <th>0</th>\n",
              "      <td>001b2d1qtli8t9z7oqgdhj001b2d4i0g</td>\n",
              "      <td>31</td>\n",
              "      <td>30-34</td>\n",
              "      <td>Masculino</td>\n",
              "      <td>Branca</td>\n",
              "      <td>Não</td>\n",
              "      <td>NaN</td>\n",
              "      <td>NaN</td>\n",
              "      <td>NaN</td>\n",
              "      <td>NaN</td>\n",
              "      <td>...</td>\n",
              "      <td>1.0</td>\n",
              "      <td>0.0</td>\n",
              "      <td>0.0</td>\n",
              "      <td>0.0</td>\n",
              "      <td>0.0</td>\n",
              "      <td>0.0</td>\n",
              "      <td>0.0</td>\n",
              "      <td>0.0</td>\n",
              "      <td>0.0</td>\n",
              "      <td>0.0</td>\n",
              "    </tr>\n",
              "    <tr>\n",
              "      <th>1</th>\n",
              "      <td>0026aa3fwd78u0026asg7456tfkjg2cs</td>\n",
              "      <td>30</td>\n",
              "      <td>30-34</td>\n",
              "      <td>Masculino</td>\n",
              "      <td>Branca</td>\n",
              "      <td>Não</td>\n",
              "      <td>NaN</td>\n",
              "      <td>NaN</td>\n",
              "      <td>NaN</td>\n",
              "      <td>NaN</td>\n",
              "      <td>...</td>\n",
              "      <td>NaN</td>\n",
              "      <td>NaN</td>\n",
              "      <td>NaN</td>\n",
              "      <td>NaN</td>\n",
              "      <td>NaN</td>\n",
              "      <td>NaN</td>\n",
              "      <td>NaN</td>\n",
              "      <td>NaN</td>\n",
              "      <td>NaN</td>\n",
              "      <td>NaN</td>\n",
              "    </tr>\n",
              "    <tr>\n",
              "      <th>2</th>\n",
              "      <td>00r21rb9pusd1b0v7ew00r21rw3dy69w</td>\n",
              "      <td>37</td>\n",
              "      <td>35-39</td>\n",
              "      <td>Feminino</td>\n",
              "      <td>Amarela</td>\n",
              "      <td>Não</td>\n",
              "      <td>Sim, acredito que a minha a experiência profis...</td>\n",
              "      <td>0.0</td>\n",
              "      <td>0.0</td>\n",
              "      <td>1.0</td>\n",
              "      <td>...</td>\n",
              "      <td>1.0</td>\n",
              "      <td>0.0</td>\n",
              "      <td>0.0</td>\n",
              "      <td>0.0</td>\n",
              "      <td>0.0</td>\n",
              "      <td>0.0</td>\n",
              "      <td>0.0</td>\n",
              "      <td>0.0</td>\n",
              "      <td>0.0</td>\n",
              "      <td>0.0</td>\n",
              "    </tr>\n",
              "    <tr>\n",
              "      <th>3</th>\n",
              "      <td>00urm3jf2cek12w6ygue00urm3jzd17j</td>\n",
              "      <td>22</td>\n",
              "      <td>22-24</td>\n",
              "      <td>Masculino</td>\n",
              "      <td>Preta</td>\n",
              "      <td>Não</td>\n",
              "      <td>Não acredito que minha experiência profissiona...</td>\n",
              "      <td>1.0</td>\n",
              "      <td>0.0</td>\n",
              "      <td>0.0</td>\n",
              "      <td>...</td>\n",
              "      <td>NaN</td>\n",
              "      <td>NaN</td>\n",
              "      <td>NaN</td>\n",
              "      <td>NaN</td>\n",
              "      <td>NaN</td>\n",
              "      <td>NaN</td>\n",
              "      <td>NaN</td>\n",
              "      <td>NaN</td>\n",
              "      <td>NaN</td>\n",
              "      <td>NaN</td>\n",
              "    </tr>\n",
              "    <tr>\n",
              "      <th>4</th>\n",
              "      <td>00v0az4g792svil00vn6y1kfm9hq8vy9</td>\n",
              "      <td>34</td>\n",
              "      <td>30-34</td>\n",
              "      <td>Masculino</td>\n",
              "      <td>Branca</td>\n",
              "      <td>Não</td>\n",
              "      <td>NaN</td>\n",
              "      <td>NaN</td>\n",
              "      <td>NaN</td>\n",
              "      <td>NaN</td>\n",
              "      <td>...</td>\n",
              "      <td>NaN</td>\n",
              "      <td>NaN</td>\n",
              "      <td>NaN</td>\n",
              "      <td>NaN</td>\n",
              "      <td>NaN</td>\n",
              "      <td>NaN</td>\n",
              "      <td>NaN</td>\n",
              "      <td>NaN</td>\n",
              "      <td>NaN</td>\n",
              "      <td>NaN</td>\n",
              "    </tr>\n",
              "  </tbody>\n",
              "</table>\n",
              "<p>5 rows × 399 columns</p>\n",
              "</div>\n",
              "    <div class=\"colab-df-buttons\">\n",
              "\n",
              "  <div class=\"colab-df-container\">\n",
              "    <button class=\"colab-df-convert\" onclick=\"convertToInteractive('df-e4f5c388-9773-423d-b0bf-9a650cd88ded')\"\n",
              "            title=\"Convert this dataframe to an interactive table.\"\n",
              "            style=\"display:none;\">\n",
              "\n",
              "  <svg xmlns=\"http://www.w3.org/2000/svg\" height=\"24px\" viewBox=\"0 -960 960 960\">\n",
              "    <path d=\"M120-120v-720h720v720H120Zm60-500h600v-160H180v160Zm220 220h160v-160H400v160Zm0 220h160v-160H400v160ZM180-400h160v-160H180v160Zm440 0h160v-160H620v160ZM180-180h160v-160H180v160Zm440 0h160v-160H620v160Z\"/>\n",
              "  </svg>\n",
              "    </button>\n",
              "\n",
              "  <style>\n",
              "    .colab-df-container {\n",
              "      display:flex;\n",
              "      gap: 12px;\n",
              "    }\n",
              "\n",
              "    .colab-df-convert {\n",
              "      background-color: #E8F0FE;\n",
              "      border: none;\n",
              "      border-radius: 50%;\n",
              "      cursor: pointer;\n",
              "      display: none;\n",
              "      fill: #1967D2;\n",
              "      height: 32px;\n",
              "      padding: 0 0 0 0;\n",
              "      width: 32px;\n",
              "    }\n",
              "\n",
              "    .colab-df-convert:hover {\n",
              "      background-color: #E2EBFA;\n",
              "      box-shadow: 0px 1px 2px rgba(60, 64, 67, 0.3), 0px 1px 3px 1px rgba(60, 64, 67, 0.15);\n",
              "      fill: #174EA6;\n",
              "    }\n",
              "\n",
              "    .colab-df-buttons div {\n",
              "      margin-bottom: 4px;\n",
              "    }\n",
              "\n",
              "    [theme=dark] .colab-df-convert {\n",
              "      background-color: #3B4455;\n",
              "      fill: #D2E3FC;\n",
              "    }\n",
              "\n",
              "    [theme=dark] .colab-df-convert:hover {\n",
              "      background-color: #434B5C;\n",
              "      box-shadow: 0px 1px 3px 1px rgba(0, 0, 0, 0.15);\n",
              "      filter: drop-shadow(0px 1px 2px rgba(0, 0, 0, 0.3));\n",
              "      fill: #FFFFFF;\n",
              "    }\n",
              "  </style>\n",
              "\n",
              "    <script>\n",
              "      const buttonEl =\n",
              "        document.querySelector('#df-e4f5c388-9773-423d-b0bf-9a650cd88ded button.colab-df-convert');\n",
              "      buttonEl.style.display =\n",
              "        google.colab.kernel.accessAllowed ? 'block' : 'none';\n",
              "\n",
              "      async function convertToInteractive(key) {\n",
              "        const element = document.querySelector('#df-e4f5c388-9773-423d-b0bf-9a650cd88ded');\n",
              "        const dataTable =\n",
              "          await google.colab.kernel.invokeFunction('convertToInteractive',\n",
              "                                                    [key], {});\n",
              "        if (!dataTable) return;\n",
              "\n",
              "        const docLinkHtml = 'Like what you see? Visit the ' +\n",
              "          '<a target=\"_blank\" href=https://colab.research.google.com/notebooks/data_table.ipynb>data table notebook</a>'\n",
              "          + ' to learn more about interactive tables.';\n",
              "        element.innerHTML = '';\n",
              "        dataTable['output_type'] = 'display_data';\n",
              "        await google.colab.output.renderOutput(dataTable, element);\n",
              "        const docLink = document.createElement('div');\n",
              "        docLink.innerHTML = docLinkHtml;\n",
              "        element.appendChild(docLink);\n",
              "      }\n",
              "    </script>\n",
              "  </div>\n",
              "\n",
              "\n",
              "    <div id=\"df-4826816f-6afd-44d3-a4cc-56167514da9f\">\n",
              "      <button class=\"colab-df-quickchart\" onclick=\"quickchart('df-4826816f-6afd-44d3-a4cc-56167514da9f')\"\n",
              "                title=\"Suggest charts\"\n",
              "                style=\"display:none;\">\n",
              "\n",
              "<svg xmlns=\"http://www.w3.org/2000/svg\" height=\"24px\"viewBox=\"0 0 24 24\"\n",
              "     width=\"24px\">\n",
              "    <g>\n",
              "        <path d=\"M19 3H5c-1.1 0-2 .9-2 2v14c0 1.1.9 2 2 2h14c1.1 0 2-.9 2-2V5c0-1.1-.9-2-2-2zM9 17H7v-7h2v7zm4 0h-2V7h2v10zm4 0h-2v-4h2v4z\"/>\n",
              "    </g>\n",
              "</svg>\n",
              "      </button>\n",
              "\n",
              "<style>\n",
              "  .colab-df-quickchart {\n",
              "      --bg-color: #E8F0FE;\n",
              "      --fill-color: #1967D2;\n",
              "      --hover-bg-color: #E2EBFA;\n",
              "      --hover-fill-color: #174EA6;\n",
              "      --disabled-fill-color: #AAA;\n",
              "      --disabled-bg-color: #DDD;\n",
              "  }\n",
              "\n",
              "  [theme=dark] .colab-df-quickchart {\n",
              "      --bg-color: #3B4455;\n",
              "      --fill-color: #D2E3FC;\n",
              "      --hover-bg-color: #434B5C;\n",
              "      --hover-fill-color: #FFFFFF;\n",
              "      --disabled-bg-color: #3B4455;\n",
              "      --disabled-fill-color: #666;\n",
              "  }\n",
              "\n",
              "  .colab-df-quickchart {\n",
              "    background-color: var(--bg-color);\n",
              "    border: none;\n",
              "    border-radius: 50%;\n",
              "    cursor: pointer;\n",
              "    display: none;\n",
              "    fill: var(--fill-color);\n",
              "    height: 32px;\n",
              "    padding: 0;\n",
              "    width: 32px;\n",
              "  }\n",
              "\n",
              "  .colab-df-quickchart:hover {\n",
              "    background-color: var(--hover-bg-color);\n",
              "    box-shadow: 0 1px 2px rgba(60, 64, 67, 0.3), 0 1px 3px 1px rgba(60, 64, 67, 0.15);\n",
              "    fill: var(--button-hover-fill-color);\n",
              "  }\n",
              "\n",
              "  .colab-df-quickchart-complete:disabled,\n",
              "  .colab-df-quickchart-complete:disabled:hover {\n",
              "    background-color: var(--disabled-bg-color);\n",
              "    fill: var(--disabled-fill-color);\n",
              "    box-shadow: none;\n",
              "  }\n",
              "\n",
              "  .colab-df-spinner {\n",
              "    border: 2px solid var(--fill-color);\n",
              "    border-color: transparent;\n",
              "    border-bottom-color: var(--fill-color);\n",
              "    animation:\n",
              "      spin 1s steps(1) infinite;\n",
              "  }\n",
              "\n",
              "  @keyframes spin {\n",
              "    0% {\n",
              "      border-color: transparent;\n",
              "      border-bottom-color: var(--fill-color);\n",
              "      border-left-color: var(--fill-color);\n",
              "    }\n",
              "    20% {\n",
              "      border-color: transparent;\n",
              "      border-left-color: var(--fill-color);\n",
              "      border-top-color: var(--fill-color);\n",
              "    }\n",
              "    30% {\n",
              "      border-color: transparent;\n",
              "      border-left-color: var(--fill-color);\n",
              "      border-top-color: var(--fill-color);\n",
              "      border-right-color: var(--fill-color);\n",
              "    }\n",
              "    40% {\n",
              "      border-color: transparent;\n",
              "      border-right-color: var(--fill-color);\n",
              "      border-top-color: var(--fill-color);\n",
              "    }\n",
              "    60% {\n",
              "      border-color: transparent;\n",
              "      border-right-color: var(--fill-color);\n",
              "    }\n",
              "    80% {\n",
              "      border-color: transparent;\n",
              "      border-right-color: var(--fill-color);\n",
              "      border-bottom-color: var(--fill-color);\n",
              "    }\n",
              "    90% {\n",
              "      border-color: transparent;\n",
              "      border-bottom-color: var(--fill-color);\n",
              "    }\n",
              "  }\n",
              "</style>\n",
              "\n",
              "      <script>\n",
              "        async function quickchart(key) {\n",
              "          const quickchartButtonEl =\n",
              "            document.querySelector('#' + key + ' button');\n",
              "          quickchartButtonEl.disabled = true;  // To prevent multiple clicks.\n",
              "          quickchartButtonEl.classList.add('colab-df-spinner');\n",
              "          try {\n",
              "            const charts = await google.colab.kernel.invokeFunction(\n",
              "                'suggestCharts', [key], {});\n",
              "          } catch (error) {\n",
              "            console.error('Error during call to suggestCharts:', error);\n",
              "          }\n",
              "          quickchartButtonEl.classList.remove('colab-df-spinner');\n",
              "          quickchartButtonEl.classList.add('colab-df-quickchart-complete');\n",
              "        }\n",
              "        (() => {\n",
              "          let quickchartButtonEl =\n",
              "            document.querySelector('#df-4826816f-6afd-44d3-a4cc-56167514da9f button');\n",
              "          quickchartButtonEl.style.display =\n",
              "            google.colab.kernel.accessAllowed ? 'block' : 'none';\n",
              "        })();\n",
              "      </script>\n",
              "    </div>\n",
              "\n",
              "    </div>\n",
              "  </div>\n"
            ],
            "application/vnd.google.colaboratory.intrinsic+json": {
              "type": "dataframe",
              "variable_name": "base"
            }
          },
          "metadata": {},
          "execution_count": 6
        }
      ]
    },
    {
      "cell_type": "markdown",
      "source": [
        "## Renomeação das colunas"
      ],
      "metadata": {
        "id": "lAbAi9izHOpq"
      }
    },
    {
      "cell_type": "code",
      "source": [
        "novo_nome_colunas = {\n",
        "    \"('P1_a ', 'Idade')\": 'Idade',\n",
        "    \"('P1_b ', 'Genero')\": 'Genero',\n",
        "    \"('P1_c ', 'Cor/raca/etnia')\": 'Cor/raca/etnia',\n",
        "    \"('P1_d ', 'PCD')\": 'PCD',\n",
        "    \"('P1_f_4', 'Oportunidades de progressão de carreira')\": 'Oportunidade de Progressão de Carreira',\n",
        "    \"('P1_i_1 ', 'uf onde mora')\": 'UF',\n",
        "    \"('P1_i_2 ', 'Regiao onde mora')\": 'Regiao onde mora',\n",
        "    \"('P1_l ', 'Nivel de Ensino')\": 'Nivel de Ensino',\n",
        "    \"('P1_m ', 'Área de Formação')\": 'Area de Formação',\n",
        "    \"('P2_a ', 'Qual sua situação atual de trabalho?')\": 'Situação atual de Trabalho',\n",
        "    \"('P2_b ', 'Setor')\": 'Setor',\n",
        "    \"('P2_f ', 'Cargo Atual')\": 'Cargo',\n",
        "    \"('P2_g ', 'Nivel')\": 'Nivel',\n",
        "    \"('P2_r ', 'Atualmente qual a sua forma de trabalho?')\": 'Forma de Trabalho',\n",
        "    \"('P4_a_1 ', 'Atuacao')\": 'Atuação'\n",
        "}\n",
        "\n",
        "base.columns = [novo_nome_colunas.get(col, col) for col in base.columns]"
      ],
      "metadata": {
        "id": "47LsyujvGlW5"
      },
      "execution_count": 7,
      "outputs": []
    },
    {
      "cell_type": "markdown",
      "source": [
        "## Seleção de atributos"
      ],
      "metadata": {
        "id": "0qy_fSZOGxsZ"
      }
    },
    {
      "cell_type": "code",
      "source": [
        "colunas = [\n",
        "    'Idade',\n",
        "    'Genero',\n",
        "    \"Cor/raca/etnia\",\n",
        "    \"PCD\",\n",
        "    \"Oportunidade de Progressão de Carreira\",\n",
        "    \"UF\",\n",
        "    \"Regiao onde mora\",\n",
        "    \"Nivel de Ensino\",\n",
        "    \"Area de Formação\",\n",
        "    \"Situação atual de Trabalho\",\n",
        "    \"Setor\",\n",
        "    \"Cargo\",\n",
        "    \"Nivel\",\n",
        "    \"Forma de Trabalho\",\n",
        "    \"Atuação\"\n",
        "]\n",
        "\n",
        "base = base[colunas]\n",
        "base.columns.tolist()"
      ],
      "metadata": {
        "id": "7P5gLhIRGqrP",
        "colab": {
          "base_uri": "https://localhost:8080/"
        },
        "outputId": "6eb159d3-bdb3-40bd-c1b1-41f9600677c5"
      },
      "execution_count": 8,
      "outputs": [
        {
          "output_type": "execute_result",
          "data": {
            "text/plain": [
              "['Idade',\n",
              " 'Genero',\n",
              " 'Cor/raca/etnia',\n",
              " 'PCD',\n",
              " 'Oportunidade de Progressão de Carreira',\n",
              " 'UF',\n",
              " 'Regiao onde mora',\n",
              " 'Nivel de Ensino',\n",
              " 'Area de Formação',\n",
              " 'Situação atual de Trabalho',\n",
              " 'Setor',\n",
              " 'Cargo',\n",
              " 'Nivel',\n",
              " 'Forma de Trabalho',\n",
              " 'Atuação']"
            ]
          },
          "metadata": {},
          "execution_count": 8
        }
      ]
    },
    {
      "cell_type": "markdown",
      "source": [
        "# Tratamentos dos valores faltantes"
      ],
      "metadata": {
        "id": "WLXZK32qE6F5"
      }
    },
    {
      "cell_type": "markdown",
      "source": [
        "## Indução de moda"
      ],
      "metadata": {
        "id": "5H4Vv7RKSFgu"
      }
    },
    {
      "cell_type": "markdown",
      "source": [
        "### Verificar a moda de cada atributo"
      ],
      "metadata": {
        "id": "9TQ3pdO9GSKA"
      }
    },
    {
      "cell_type": "code",
      "source": [
        "for col in base.columns:\n",
        "    mode_value = base[col].mode()\n",
        "    print(f'A moda da coluna {col} é: {mode_value.iloc[0]}')"
      ],
      "metadata": {
        "id": "WqIt4chduOuD",
        "colab": {
          "base_uri": "https://localhost:8080/"
        },
        "outputId": "06b582d7-bd24-4121-d633-0053bb63d144"
      },
      "execution_count": 9,
      "outputs": [
        {
          "output_type": "stream",
          "name": "stdout",
          "text": [
            "A moda da coluna Idade é: 27\n",
            "A moda da coluna Genero é: Masculino\n",
            "A moda da coluna Cor/raca/etnia é: Branca\n",
            "A moda da coluna PCD é: Não\n",
            "A moda da coluna Oportunidade de Progressão de Carreira é: 0.0\n",
            "A moda da coluna UF é: SP\n",
            "A moda da coluna Regiao onde mora é: Sudeste\n",
            "A moda da coluna Nivel de Ensino é: Pós-graduação\n",
            "A moda da coluna Area de Formação é: Computação / Engenharia de Software / Sistemas de Informação/ TI\n",
            "A moda da coluna Situação atual de Trabalho é: Empregado (CLT)\n",
            "A moda da coluna Setor é: Finanças ou Bancos\n",
            "A moda da coluna Cargo é: Analista de Dados/Data Analyst\n",
            "A moda da coluna Nivel é: Sênior\n",
            "A moda da coluna Forma de Trabalho é: Modelo 100% remoto\n",
            "A moda da coluna Atuação é: Análise de Dados\n"
          ]
        }
      ]
    },
    {
      "cell_type": "markdown",
      "source": [
        "### Inputação de valor da moda na coluna \"Área de Formação"
      ],
      "metadata": {
        "id": "RV6em8muGYFg"
      }
    },
    {
      "cell_type": "code",
      "source": [
        "base['Area de Formação'].fillna(value='Computação / Engenharia de Software / Sistemas de Informação/ TI', inplace=True)"
      ],
      "metadata": {
        "id": "_KthFw61tpdB",
        "colab": {
          "base_uri": "https://localhost:8080/"
        },
        "outputId": "6ef42561-e0f1-45a3-baa3-868876e3e7d2"
      },
      "execution_count": 10,
      "outputs": [
        {
          "output_type": "stream",
          "name": "stderr",
          "text": [
            "<ipython-input-10-2562e2fceeb6>:1: FutureWarning: A value is trying to be set on a copy of a DataFrame or Series through chained assignment using an inplace method.\n",
            "The behavior will change in pandas 3.0. This inplace method will never work because the intermediate object on which we are setting values always behaves as a copy.\n",
            "\n",
            "For example, when doing 'df[col].method(value, inplace=True)', try using 'df.method({col: value}, inplace=True)' or df[col] = df[col].method(value) instead, to perform the operation inplace on the original object.\n",
            "\n",
            "\n",
            "  base['Area de Formação'].fillna(value='Computação / Engenharia de Software / Sistemas de Informação/ TI', inplace=True)\n"
          ]
        }
      ]
    },
    {
      "cell_type": "markdown",
      "source": [
        "## Ajuste das colunas"
      ],
      "metadata": {
        "id": "2dqf3EECSScK"
      }
    },
    {
      "cell_type": "markdown",
      "source": [
        "Renomeação do atributo alvo"
      ],
      "metadata": {
        "id": "toOpsUBkL19Z"
      }
    },
    {
      "cell_type": "code",
      "source": [
        "base.rename(columns={'Oportunidade de Progressão de Carreira': 'progressao_prejudicada'}, inplace = True)"
      ],
      "metadata": {
        "id": "aYmC6bgY78Hg"
      },
      "execution_count": 11,
      "outputs": []
    },
    {
      "cell_type": "markdown",
      "source": [
        "Reordenação dos atributos"
      ],
      "metadata": {
        "id": "K46NJoyXRG1G"
      }
    },
    {
      "cell_type": "code",
      "source": [
        "base = base[['Idade', 'Genero', 'Cor/raca/etnia', 'PCD', 'UF', 'Regiao onde mora',\n",
        "       'Nivel de Ensino', 'Area de Formação', 'Situação atual de Trabalho',\n",
        "       'Setor', 'Cargo', 'Nivel', 'Forma de Trabalho', 'Atuação', 'progressao_prejudicada']]"
      ],
      "metadata": {
        "id": "V25V3oCuRGOc"
      },
      "execution_count": 12,
      "outputs": []
    },
    {
      "cell_type": "markdown",
      "source": [
        "## Verificar a quantidade de valores nulos em cada atributo"
      ],
      "metadata": {
        "id": "SNzhe17TF6W4"
      }
    },
    {
      "cell_type": "code",
      "source": [
        "for col in base.columns:\n",
        "    nulos = base[col].isnull().sum()\n",
        "    print(f'numero de valores nulos na coluna {col} é: {nulos}')"
      ],
      "metadata": {
        "id": "VI7NVCdxlRXO",
        "colab": {
          "base_uri": "https://localhost:8080/"
        },
        "outputId": "53b08a16-8b20-4828-b238-165d6313c98e"
      },
      "execution_count": 13,
      "outputs": [
        {
          "output_type": "stream",
          "name": "stdout",
          "text": [
            "numero de valores nulos na coluna Idade é: 0\n",
            "numero de valores nulos na coluna Genero é: 0\n",
            "numero de valores nulos na coluna Cor/raca/etnia é: 0\n",
            "numero de valores nulos na coluna PCD é: 0\n",
            "numero de valores nulos na coluna UF é: 124\n",
            "numero de valores nulos na coluna Regiao onde mora é: 124\n",
            "numero de valores nulos na coluna Nivel de Ensino é: 0\n",
            "numero de valores nulos na coluna Area de Formação é: 0\n",
            "numero de valores nulos na coluna Situação atual de Trabalho é: 0\n",
            "numero de valores nulos na coluna Setor é: 540\n",
            "numero de valores nulos na coluna Cargo é: 1436\n",
            "numero de valores nulos na coluna Nivel é: 1436\n",
            "numero de valores nulos na coluna Forma de Trabalho é: 540\n",
            "numero de valores nulos na coluna Atuação é: 0\n",
            "numero de valores nulos na coluna progressao_prejudicada é: 4048\n"
          ]
        }
      ]
    },
    {
      "cell_type": "markdown",
      "source": [
        "### Retirada das linhas"
      ],
      "metadata": {
        "id": "7Aou5nd9GQWe"
      }
    },
    {
      "cell_type": "code",
      "source": [
        "base.dropna(subset=['progressao_prejudicada', 'Regiao onde mora', 'UF', 'Setor', 'Forma de Trabalho', 'Cargo', 'Nivel'], inplace=True)"
      ],
      "metadata": {
        "id": "d8BihzXfq8cR"
      },
      "execution_count": 14,
      "outputs": []
    },
    {
      "cell_type": "markdown",
      "source": [
        "# Conversão de dados"
      ],
      "metadata": {
        "id": "SOEqg_rJFAht"
      }
    },
    {
      "cell_type": "markdown",
      "source": [
        "Vê o tipo de dado de cada coluna"
      ],
      "metadata": {
        "id": "0ZGlUh9ZGq5O"
      }
    },
    {
      "cell_type": "code",
      "source": [
        "base.info()"
      ],
      "metadata": {
        "id": "uK-7AD6kGp9G",
        "colab": {
          "base_uri": "https://localhost:8080/"
        },
        "outputId": "281a2ff9-5f49-4b16-fa22-43346ef18887"
      },
      "execution_count": 15,
      "outputs": [
        {
          "output_type": "stream",
          "name": "stdout",
          "text": [
            "<class 'pandas.core.frame.DataFrame'>\n",
            "Index: 902 entries, 2 to 5279\n",
            "Data columns (total 15 columns):\n",
            " #   Column                      Non-Null Count  Dtype  \n",
            "---  ------                      --------------  -----  \n",
            " 0   Idade                       902 non-null    int64  \n",
            " 1   Genero                      902 non-null    object \n",
            " 2   Cor/raca/etnia              902 non-null    object \n",
            " 3   PCD                         902 non-null    object \n",
            " 4   UF                          902 non-null    object \n",
            " 5   Regiao onde mora            902 non-null    object \n",
            " 6   Nivel de Ensino             902 non-null    object \n",
            " 7   Area de Formação            902 non-null    object \n",
            " 8   Situação atual de Trabalho  902 non-null    object \n",
            " 9   Setor                       902 non-null    object \n",
            " 10  Cargo                       902 non-null    object \n",
            " 11  Nivel                       902 non-null    object \n",
            " 12  Forma de Trabalho           902 non-null    object \n",
            " 13  Atuação                     902 non-null    object \n",
            " 14  progressao_prejudicada      902 non-null    float64\n",
            "dtypes: float64(1), int64(1), object(13)\n",
            "memory usage: 112.8+ KB\n"
          ]
        }
      ]
    },
    {
      "cell_type": "markdown",
      "source": [
        "### Modificação do tipo da coluna \"Oportunidade de Progressão de Carreira\" para int"
      ],
      "metadata": {
        "id": "QTUf2CZ4G59G"
      }
    },
    {
      "cell_type": "code",
      "source": [
        "base['progressao_prejudicada'] = base['progressao_prejudicada'].astype(int)"
      ],
      "metadata": {
        "id": "rqnUkwK2v5w3"
      },
      "execution_count": 16,
      "outputs": []
    },
    {
      "cell_type": "markdown",
      "source": [
        "## Codificação dos atributos"
      ],
      "metadata": {
        "id": "Xb6MOyxxTKlm"
      }
    },
    {
      "cell_type": "markdown",
      "source": [
        "### Verificação dos valores de cada atributo"
      ],
      "metadata": {
        "id": "HK52fCTKTT0u"
      }
    },
    {
      "cell_type": "code",
      "source": [
        "print(base['Genero'].unique())"
      ],
      "metadata": {
        "id": "HIni7lxm3SN2",
        "colab": {
          "base_uri": "https://localhost:8080/"
        },
        "outputId": "ca0977e1-a57f-4023-8d46-4704b1ecd121"
      },
      "execution_count": 17,
      "outputs": [
        {
          "output_type": "stream",
          "name": "stdout",
          "text": [
            "['Feminino' 'Masculino' 'Prefiro não informar' 'Outro']\n"
          ]
        }
      ]
    },
    {
      "cell_type": "code",
      "source": [
        "print(base['Cor/raca/etnia'].unique())"
      ],
      "metadata": {
        "id": "xTLUl44IiWvr",
        "colab": {
          "base_uri": "https://localhost:8080/"
        },
        "outputId": "32407ee9-dca3-4789-ca15-a53cb03c34d3"
      },
      "execution_count": 18,
      "outputs": [
        {
          "output_type": "stream",
          "name": "stdout",
          "text": [
            "['Amarela' 'Preta' 'Branca' 'Prefiro não informar' 'Parda' 'Outra'\n",
            " 'Indígena']\n"
          ]
        }
      ]
    },
    {
      "cell_type": "code",
      "source": [
        "print(base['Situação atual de Trabalho'].unique())"
      ],
      "metadata": {
        "id": "QTgOVF08io0z",
        "colab": {
          "base_uri": "https://localhost:8080/"
        },
        "outputId": "76e72178-556e-47b7-cce4-8519b0e8a2f1"
      },
      "execution_count": 19,
      "outputs": [
        {
          "output_type": "stream",
          "name": "stdout",
          "text": [
            "['Empregado (CLT)' 'Servidor Público' 'Empreendedor ou Empregado (CNPJ)'\n",
            " 'Vivo no Brasil e trabalho remoto para empresa de fora do Brasil'\n",
            " 'Estagiário' 'Freelancer' 'Prefiro não informar'\n",
            " 'Vivo fora do Brasil e trabalho para empresa de fora do Brasil']\n"
          ]
        }
      ]
    },
    {
      "cell_type": "code",
      "source": [
        "print(base['Nivel'].unique())"
      ],
      "metadata": {
        "id": "gLlHkIU3ix6R",
        "colab": {
          "base_uri": "https://localhost:8080/"
        },
        "outputId": "d6c9a2c0-cc7c-4372-b0ee-e640cdc81b09"
      },
      "execution_count": 20,
      "outputs": [
        {
          "output_type": "stream",
          "name": "stdout",
          "text": [
            "['Júnior' 'Pleno' 'Sênior']\n"
          ]
        }
      ]
    },
    {
      "cell_type": "code",
      "source": [
        "print(base['Nivel de Ensino'].unique())"
      ],
      "metadata": {
        "id": "jP3rG4UsxVlV",
        "colab": {
          "base_uri": "https://localhost:8080/"
        },
        "outputId": "489a19ba-9c2c-4894-e988-b053828a8ce8"
      },
      "execution_count": 21,
      "outputs": [
        {
          "output_type": "stream",
          "name": "stdout",
          "text": [
            "['Graduação/Bacharelado' 'Estudante de Graduação' 'Pós-graduação'\n",
            " 'Mestrado' 'Doutorado ou Phd' 'Não tenho graduação formal'\n",
            " 'Prefiro não informar']\n"
          ]
        }
      ]
    },
    {
      "cell_type": "code",
      "source": [
        "print(base['Forma de Trabalho'].unique())"
      ],
      "metadata": {
        "id": "SpO2qeghiyMr",
        "colab": {
          "base_uri": "https://localhost:8080/"
        },
        "outputId": "d18d1eed-38f6-4f4b-d8cb-e75e77240c0a"
      },
      "execution_count": 22,
      "outputs": [
        {
          "output_type": "stream",
          "name": "stdout",
          "text": [
            "['Modelo híbrido flexível (o funcionário tem liberdade para escolher quando estar no escritório presencialmente)'\n",
            " 'Modelo 100% presencial' 'Modelo 100% remoto'\n",
            " 'Modelo híbrido com dias fixos de trabalho presencial']\n"
          ]
        }
      ]
    },
    {
      "cell_type": "code",
      "source": [
        "print(base['Forma de Trabalho'].unique())"
      ],
      "metadata": {
        "id": "nyXlC6oSl37F",
        "colab": {
          "base_uri": "https://localhost:8080/"
        },
        "outputId": "8e14cde6-427d-4ea6-814e-b2db33ed6937"
      },
      "execution_count": 23,
      "outputs": [
        {
          "output_type": "stream",
          "name": "stdout",
          "text": [
            "['Modelo híbrido flexível (o funcionário tem liberdade para escolher quando estar no escritório presencialmente)'\n",
            " 'Modelo 100% presencial' 'Modelo 100% remoto'\n",
            " 'Modelo híbrido com dias fixos de trabalho presencial']\n"
          ]
        }
      ]
    },
    {
      "cell_type": "code",
      "source": [
        "print(base['Setor'].unique())"
      ],
      "metadata": {
        "id": "2PsYBAZdunGE",
        "colab": {
          "base_uri": "https://localhost:8080/"
        },
        "outputId": "1d2ab2cb-4cf2-433f-bab0-04b84e945a3b"
      },
      "execution_count": 24,
      "outputs": [
        {
          "output_type": "stream",
          "name": "stdout",
          "text": [
            "['Finanças ou Bancos' 'Setor Público' 'Tecnologia/Fábrica de Software'\n",
            " 'Setor Alimentício' 'Varejo' 'Educação' 'Marketing' 'Indústria'\n",
            " 'Internet/Ecommerce' 'Seguros ou Previdência' 'Área de Consultoria'\n",
            " 'Agronegócios' 'Área da Saúde' 'Entretenimento ou Esportes'\n",
            " 'Telecomunicação' 'Setor de Energia' 'Outra Opção'\n",
            " 'Setor Imobiliário/ Construção Civil' 'Setor Farmaceutico'\n",
            " \"Filantropia/ONG's\" 'Setor Automotivo']\n"
          ]
        }
      ]
    },
    {
      "cell_type": "code",
      "source": [
        "print(base['Cargo'].unique())"
      ],
      "metadata": {
        "id": "ilgYlcuqvWTc",
        "colab": {
          "base_uri": "https://localhost:8080/"
        },
        "outputId": "affdd74e-393b-4ee4-a0e3-d579bcbf84a9"
      },
      "execution_count": 25,
      "outputs": [
        {
          "output_type": "stream",
          "name": "stdout",
          "text": [
            "['Analista de Dados/Data Analyst' 'Analista de BI/BI Analyst'\n",
            " 'Outra Opção' 'Analista de Negócios/Business Analyst'\n",
            " 'Desenvolvedor/ Engenheiro de Software/ Analista de Sistemas'\n",
            " 'Engenheiro de Dados/Arquiteto de Dados/Data Engineer/Data Architect'\n",
            " 'Analytics Engineer' 'Estatístico' 'Economista'\n",
            " 'Cientista de Dados/Data Scientist'\n",
            " 'Analista de Suporte/Analista Técnico'\n",
            " 'Outras Engenharias (não inclui dev)'\n",
            " 'Analista de Inteligência de Mercado/Market Intelligence'\n",
            " 'Data Product Manager/ Product Manager (PM/APM/DPM/GPM/PO)'\n",
            " 'Professor/Pesquisador'\n",
            " 'Engenheiro de Machine Learning/ML Engineer/AI Engineer'\n",
            " 'DBA/Administrador de Banco de Dados']\n"
          ]
        }
      ]
    },
    {
      "cell_type": "code",
      "source": [
        "print(base['Atuação'].unique())"
      ],
      "metadata": {
        "id": "Y-mxX5DdwP9y",
        "colab": {
          "base_uri": "https://localhost:8080/"
        },
        "outputId": "5303190e-7404-4941-f0c3-dbab89ec2296"
      },
      "execution_count": 26,
      "outputs": [
        {
          "output_type": "stream",
          "name": "stdout",
          "text": [
            "['Ciência de Dados' 'Análise de Dados' 'Outra atuação'\n",
            " 'Engenharia de Dados']\n"
          ]
        }
      ]
    },
    {
      "cell_type": "code",
      "source": [
        "print(base['Area de Formação'].unique())"
      ],
      "metadata": {
        "id": "xL7xIH5fx90I",
        "colab": {
          "base_uri": "https://localhost:8080/"
        },
        "outputId": "706a5fa1-e483-4d04-c4e8-96bf151166af"
      },
      "execution_count": 27,
      "outputs": [
        {
          "output_type": "stream",
          "name": "stdout",
          "text": [
            "['Computação / Engenharia de Software / Sistemas de Informação/ TI'\n",
            " 'Economia/ Administração / Contabilidade / Finanças/ Negócios'\n",
            " 'Estatística/ Matemática / Matemática Computacional/ Ciências Atuariais'\n",
            " 'Outra opção' 'Química / Física'\n",
            " 'Marketing / Publicidade / Comunicação / Jornalismo' 'Outras Engenharias'\n",
            " 'Ciências Biológicas/ Farmácia/ Medicina/ Área da Saúde'\n",
            " 'Ciências Sociais']\n"
          ]
        }
      ]
    },
    {
      "cell_type": "markdown",
      "source": [
        "### Codificação manual"
      ],
      "metadata": {
        "id": "DXEJj15uTbfs"
      }
    },
    {
      "cell_type": "code",
      "source": [
        "## Substituição direta dos valores por códigos\n",
        "\n",
        "base.loc[base['Genero'] == 'Masculino', 'Genero'] = 0\n",
        "base.loc[base['Genero'] == 'Feminino', 'Genero'] = 1\n",
        "\n",
        "# Drop rows where 'Genero' is 'Outro' or 'Prefiro não informar'\n",
        "base = base[(base['Genero'] != 'Outro') & (base['Genero'] != 'Prefiro não informar')]\n",
        "\n",
        "\n",
        "print(base['Genero'].unique())\n",
        "\n",
        "base.loc[base['Cor/raca/etnia'] == 'Branca', 'Cor/raca/etnia'] = 0\n",
        "base.loc[base['Cor/raca/etnia'] == 'Preta', 'Cor/raca/etnia'] = 1\n",
        "base.loc[base['Cor/raca/etnia'] == 'Amarela', 'Cor/raca/etnia'] = 2\n",
        "base.loc[base['Cor/raca/etnia'] == 'Parda', 'Cor/raca/etnia'] = 3\n",
        "base.loc[base['Cor/raca/etnia'] == 'Indígena', 'Cor/raca/etnia'] = 4\n",
        "base.loc[base['Cor/raca/etnia'] == 'Prefiro não informar', 'Cor/raca/etnia'] = 5\n",
        "base.loc[base['Cor/raca/etnia'] == 'Outra', 'Cor/raca/etnia'] = 5\n",
        "\n",
        "\n",
        "\n",
        "print(base['Cor/raca/etnia'].unique())\n",
        "\n",
        "base.loc[base['PCD'] == 'Sim', 'PCD'] = 1\n",
        "base.loc[base['PCD'] == 'Não', 'PCD'] = 0\n",
        "# Há \"prefiro não informar\", porém como não posso inferir se a pessoa é PCD ou não, prefiro remover as linhas.\n",
        "\n",
        "index_to_drop = base[base['PCD'] == 'Prefiro não informar'].index\n",
        "base = base.drop(index_to_drop)\n",
        "\n",
        "print(base['PCD'].unique())\n",
        "\n",
        "base.loc[base['UF'] == 'AC', 'UF'] = 0\n",
        "base.loc[base['UF'] == 'AL', 'UF'] = 1\n",
        "base.loc[base['UF'] == 'AP', 'UF'] = 2\n",
        "base.loc[base['UF'] == 'AM', 'UF'] = 3\n",
        "base.loc[base['UF'] == 'BA', 'UF'] = 4\n",
        "base.loc[base['UF'] == 'CE', 'UF'] = 5\n",
        "base.loc[base['UF'] == 'DF', 'UF'] = 6\n",
        "base.loc[base['UF'] == 'ES', 'UF'] = 7\n",
        "base.loc[base['UF'] == 'GO', 'UF'] = 8\n",
        "base.loc[base['UF'] == 'MA', 'UF'] = 9\n",
        "base.loc[base['UF'] == 'MT', 'UF'] = 10\n",
        "base.loc[base['UF'] == 'MS', 'UF'] = 11\n",
        "base.loc[base['UF'] == 'MG', 'UF'] = 12\n",
        "base.loc[base['UF'] == 'PA', 'UF'] = 13\n",
        "base.loc[base['UF'] == 'PB', 'UF'] = 14\n",
        "base.loc[base['UF'] == 'PR', 'UF'] = 15\n",
        "base.loc[base['UF'] == 'PE', 'UF'] = 16\n",
        "base.loc[base['UF'] == 'PI', 'UF'] = 17\n",
        "base.loc[base['UF'] == 'RJ', 'UF'] = 18\n",
        "base.loc[base['UF'] == 'RN', 'UF'] = 19\n",
        "base.loc[base['UF'] == 'RS', 'UF'] = 20\n",
        "base.loc[base['UF'] == 'RO', 'UF'] = 21\n",
        "base.loc[base['UF'] == 'RR', 'UF'] = 22\n",
        "base.loc[base['UF'] == 'SC', 'UF'] = 23\n",
        "base.loc[base['UF'] == 'SP', 'UF'] = 24\n",
        "base.loc[base['UF'] == 'SE', 'UF'] = 25\n",
        "base.loc[base['UF'] == 'TO', 'UF'] = 26\n",
        "\n",
        "print(base['UF'].unique())\n",
        "\n",
        "\n",
        "base.loc[base['Regiao onde mora'] == 'Norte', 'Regiao onde mora'] = 0\n",
        "base.loc[base['Regiao onde mora'] == 'Nordeste', 'Regiao onde mora'] = 1\n",
        "base.loc[base['Regiao onde mora'] == 'Sudeste', 'Regiao onde mora'] = 2\n",
        "base.loc[base['Regiao onde mora'] == 'Sul', 'Regiao onde mora'] = 3\n",
        "base.loc[base['Regiao onde mora'] == 'Centro-oeste', 'Regiao onde mora'] = 4\n",
        "\n",
        "print(base['Regiao onde mora'].unique())\n",
        "\n",
        "base.loc[base['Nivel de Ensino'] == 'Não tenho graduação formal', 'Nivel de Ensino'] = 0\n",
        "base.loc[base['Nivel de Ensino'] == 'Estudante de Graduação', 'Nivel de Ensino'] = 1\n",
        "base.loc[base['Nivel de Ensino'] == 'Graduação/Bacharelado', 'Nivel de Ensino'] = 2\n",
        "base.loc[base['Nivel de Ensino'] == 'Pós-graduação', 'Nivel de Ensino'] = 3\n",
        "base.loc[base['Nivel de Ensino'] == 'Mestrado', 'Nivel de Ensino'] = 4\n",
        "base.loc[base['Nivel de Ensino'] == 'Doutorado ou Phd', 'Nivel de Ensino'] = 5\n",
        "base.loc[base['Nivel de Ensino'] == 'Prefiro não informar', 'Nivel de Ensino'] = 6\n",
        "\n",
        "print(base['Nivel de Ensino'].unique())\n",
        "\n",
        "base.loc[base['Area de Formação'] == 'Computação / Engenharia de Software / Sistemas de Informação/ TI', 'Area de Formação'] = 0\n",
        "base.loc[base['Area de Formação'] == 'Economia/ Administração / Contabilidade / Finanças/ Negócios', 'Area de Formação'] = 1\n",
        "base.loc[base['Area de Formação'] == 'Estatística/ Matemática / Matemática Computacional/ Ciências Atuariais', 'Area de Formação'] = 2\n",
        "base.loc[base['Area de Formação'] == 'Outra opção', 'Area de Formação'] = 3\n",
        "base.loc[base['Area de Formação'] == 'Marketing / Publicidade / Comunicação / Jornalismo', 'Area de Formação'] = 4\n",
        "base.loc[base['Area de Formação'] == 'Ciências Biológicas/ Farmácia/ Medicina/ Área da Saúde', 'Area de Formação'] = 5\n",
        "base.loc[base['Area de Formação'] == 'Ciências Sociais', 'Area de Formação'] = 6\n",
        "base.loc[base['Area de Formação'] == 'Outras Engenharias', 'Area de Formação'] = 7\n",
        "base.loc[base['Area de Formação'] == 'Química / Física', 'Area de Formação'] = 8\n",
        "\n",
        "print(base['Area de Formação'].unique())\n",
        "\n",
        "base.loc[base['Situação atual de Trabalho'] == 'Empregado (CLT)', 'Situação atual de Trabalho'] = 0\n",
        "base.loc[base['Situação atual de Trabalho'] == 'Empreendedor ou Empregado (CNPJ)', 'Situação atual de Trabalho'] = 1\n",
        "base.loc[base['Situação atual de Trabalho'] == 'Estagiário', 'Situação atual de Trabalho'] = 2\n",
        "base.loc[base['Situação atual de Trabalho'] == 'Freelancer', 'Situação atual de Trabalho'] = 3\n",
        "base.loc[base['Situação atual de Trabalho'] == 'Vivo no Brasil e trabalho remoto para empresa de fora do Brasil', 'Situação atual de Trabalho'] = 4\n",
        "base.loc[base['Situação atual de Trabalho'] == 'Vivo fora do Brasil e trabalho para empresa de fora do Brasil', 'Situação atual de Trabalho'] = 5\n",
        "base.loc[base['Situação atual de Trabalho'] == 'Servidor Público', 'Situação atual de Trabalho'] = 6\n",
        "base.loc[base['Situação atual de Trabalho'] == 'Prefiro não informar', 'Situação atual de Trabalho'] = 7\n",
        "\n",
        "print(base['Situação atual de Trabalho'].unique())\n",
        "\n",
        "base.loc[base['Setor'] == 'Administração', 'Setor'] = 0\n",
        "base.loc[base['Setor'] == 'Saúde', 'Setor'] = 1\n",
        "base.loc[base['Setor'] == 'Educação', 'Setor'] = 2\n",
        "base.loc[base['Setor'] == 'Tecnologia/Fábrica de Software', 'Setor'] = 3\n",
        "base.loc[base['Setor'] == 'Setor Alimentício', 'Setor'] = 4\n",
        "base.loc[base['Setor'] == 'Varejo', 'Setor'] = 5\n",
        "base.loc[base['Setor'] == 'Marketing', 'Setor'] = 6\n",
        "base.loc[base['Setor'] == 'Indústria', 'Setor'] = 7\n",
        "base.loc[base['Setor'] == 'Internet/Ecommerce', 'Setor'] = 8\n",
        "base.loc[base['Setor'] == 'Seguros ou Previdência', 'Setor'] = 9\n",
        "base.loc[base['Setor'] == 'Área de Consultoria', 'Setor'] = 10\n",
        "base.loc[base['Setor'] == 'Área da Saúde', 'Setor'] = 11\n",
        "base.loc[base['Setor'] == 'Entretenimento ou Esportes', 'Setor'] = 12\n",
        "base.loc[base['Setor'] == 'Setor de Energia', 'Setor'] = 13\n",
        "base.loc[base['Setor'] == 'Outra Opção', 'Setor'] = 14\n",
        "base.loc[base['Setor'] == 'Setor Imobiliário/ Construção Civil', 'Setor'] = 15\n",
        "base.loc[base['Setor'] == 'Telecomunicação', 'Setor'] = 16\n",
        "base.loc[base['Setor'] == 'Setor Farmaceutico', 'Setor'] = 17\n",
        "base.loc[base['Setor'] == \"Filantropia/ONG's\", 'Setor'] = 18\n",
        "base.loc[base['Setor'] == 'Setor Automotivo', 'Setor'] = 19\n",
        "base.loc[base['Setor'] == 'Finanças ou Bancos', 'Setor'] = 19\n",
        "base.loc[base['Setor'] == 'Setor Público', 'Setor'] = 19\n",
        "base.loc[base['Setor'] == 'Agronegócios', 'Setor'] = 19\n",
        "\n",
        "\n",
        "\n",
        "print(base['Setor'].unique())\n",
        "\n",
        "base.loc[base['Cargo'] == 'Analista de Dados/Data Analyst', 'Cargo'] = 0\n",
        "base.loc[base['Cargo'] == 'Analista de BI/BI Analyst', 'Cargo'] = 1\n",
        "base.loc[base['Cargo'] == 'DBA/Administrador de Banco de Dados', 'Cargo'] = 2\n",
        "base.loc[base['Cargo'] == 'Engenheiro de Machine Learning/ML Engineer/AI Engineer', 'Cargo'] = 3\n",
        "base.loc[base['Cargo'] == 'Analista de Negócios/Business Analyst', 'Cargo'] = 4\n",
        "base.loc[base['Cargo'] == 'Desenvolvedor/ Engenheiro de Software/ Analista de Sistemas', 'Cargo'] = 5\n",
        "base.loc[base['Cargo'] == 'Engenheiro de Dados/Arquiteto de Dados/Data Engineer/Data Architect', 'Cargo'] = 6\n",
        "base.loc[base['Cargo'] == 'Analytics Engineer', 'Cargo'] = 7\n",
        "base.loc[base['Cargo'] == 'Estatístico', 'Cargo'] = 8\n",
        "base.loc[base['Cargo'] == 'Economista', 'Cargo'] = 9\n",
        "base.loc[base['Cargo'] == 'Cientista de Dados/Data Scientist', 'Cargo'] = 10\n",
        "base.loc[base['Cargo'] == 'Analista de Suporte/Analista Técnico', 'Cargo'] = 11\n",
        "base.loc[base['Cargo'] == 'Outras Engenharias (não inclui dev)', 'Cargo'] = 12\n",
        "base.loc[base['Cargo'] == 'Analista de Inteligência de Mercado/Market Intelligence', 'Cargo'] = 13\n",
        "base.loc[base['Cargo'] == 'Data Product Manager/ Product Manager (PM/APM/DPM/GPM/PO)', 'Cargo'] = 14\n",
        "base.loc[base['Cargo'] == 'Professor/Pesquisador', 'Cargo'] = 15\n",
        "base.loc[base['Cargo'] == 'Outra Opção', 'Cargo'] = 16\n",
        "\n",
        "\n",
        "print(base['Cargo'].unique())\n",
        "\n",
        "base.loc[base['Nivel'] == 'Júnior', 'Nivel'] = 0\n",
        "base.loc[base['Nivel'] == 'Pleno', 'Nivel'] = 1\n",
        "base.loc[base['Nivel'] == 'Sênior', 'Nivel'] = 2\n",
        "\n",
        "print(base['Nivel'].unique())\n",
        "\n",
        "base.loc[base['Forma de Trabalho'] == 'Modelo híbrido flexível (o funcionário tem liberdade para escolher quando estar no escritório presencialmente)', 'Forma de Trabalho'] = 0\n",
        "base.loc[base['Forma de Trabalho'] == 'Modelo 100% presencial', 'Forma de Trabalho'] = 1\n",
        "base.loc[base['Forma de Trabalho'] == 'Modelo 100% remoto', 'Forma de Trabalho'] = 2\n",
        "base.loc[base['Forma de Trabalho'] == 'Modelo híbrido com dias fixos de trabalho presencial', 'Forma de Trabalho'] = 2\n",
        "\n",
        "\n",
        "\n",
        "print(base['Forma de Trabalho'].unique())\n",
        "\n",
        "base.loc[base['Atuação'] == 'Ciência de Dados', 'Atuação'] = 0\n",
        "base.loc[base['Atuação'] == 'Análise de Dados', 'Atuação'] = 1\n",
        "base.loc[base['Atuação'] == 'Engenharia de Dados', 'Atuação'] = 2\n",
        "base.loc[base['Atuação'] == 'Outra atuação', 'Atuação'] = 3\n",
        "\n",
        "print(base['Atuação'].unique())\n",
        "\n",
        "base\n",
        "\n"
      ],
      "metadata": {
        "id": "ezWJTSvGkyql",
        "colab": {
          "base_uri": "https://localhost:8080/",
          "height": 667
        },
        "outputId": "2281f718-9c60-4b72-a52d-9f7213b97dab"
      },
      "execution_count": 28,
      "outputs": [
        {
          "output_type": "stream",
          "name": "stdout",
          "text": [
            "[1 0]\n",
            "[2 1 0 5 3 4]\n",
            "[0 1]\n",
            "[24 25 20 18 12 15 8 16 6 7 17 11 14 23 19 13 5 3 4 1 10 21 9]\n",
            "[2 1 3 4 0]\n",
            "[2 1 3 4 5 0 6]\n",
            "[0 1 2 3 8 4 7 5 6]\n",
            "[0 6 1 4 2 3 7 5]\n",
            "[19 3 4 5 2 6 7 8 9 10 11 12 13 14 15 16 17 18]\n",
            "[0 1 16 4 5 6 7 8 9 10 11 12 13 14 15 3 2]\n",
            "[0 1 2]\n",
            "[0 1 2]\n",
            "[0 1 3 2]\n"
          ]
        },
        {
          "output_type": "execute_result",
          "data": {
            "text/plain": [
              "      Idade Genero Cor/raca/etnia PCD  UF Regiao onde mora Nivel de Ensino  \\\n",
              "2        37      1              2   0  24                2               2   \n",
              "10       25      0              1   1  25                1               1   \n",
              "12       32      1              1   0  20                3               3   \n",
              "16       29      1              0   0  18                2               2   \n",
              "17       29      1              5   0  12                2               4   \n",
              "...     ...    ...            ...  ..  ..              ...             ...   \n",
              "5259     27      1              3   0  24                2               1   \n",
              "5269     34      0              3   0  24                2               3   \n",
              "5270     36      1              0   1  12                2               5   \n",
              "5274     31      0              1   0  16                1               3   \n",
              "5279     36      1              3   0  24                2               3   \n",
              "\n",
              "     Area de Formação Situação atual de Trabalho Setor Cargo Nivel  \\\n",
              "2                   0                          0    19     0     0   \n",
              "10                  0                          0    19     1     0   \n",
              "12                  1                          0     3    16     1   \n",
              "16                  2                          6    19     0     1   \n",
              "17                  3                          0     3     4     0   \n",
              "...               ...                        ...   ...   ...   ...   \n",
              "5259                7                          0    10     0     2   \n",
              "5269                1                          0    19     0     1   \n",
              "5270                4                          0    19     0     2   \n",
              "5274                0                          1     3     6     2   \n",
              "5279                1                          0    11     0     1   \n",
              "\n",
              "     Forma de Trabalho Atuação  progressao_prejudicada  \n",
              "2                    0       0                       0  \n",
              "10                   1       1                       0  \n",
              "12                   2       3                       0  \n",
              "16                   2       1                       1  \n",
              "17                   2       1                       1  \n",
              "...                ...     ...                     ...  \n",
              "5259                 2       1                       1  \n",
              "5269                 1       0                       0  \n",
              "5270                 0       0                       1  \n",
              "5274                 2       2                       1  \n",
              "5279                 0       1                       1  \n",
              "\n",
              "[887 rows x 15 columns]"
            ],
            "text/html": [
              "\n",
              "  <div id=\"df-a9eaeb77-17f3-47d4-8af0-af695e559a61\" class=\"colab-df-container\">\n",
              "    <div>\n",
              "<style scoped>\n",
              "    .dataframe tbody tr th:only-of-type {\n",
              "        vertical-align: middle;\n",
              "    }\n",
              "\n",
              "    .dataframe tbody tr th {\n",
              "        vertical-align: top;\n",
              "    }\n",
              "\n",
              "    .dataframe thead th {\n",
              "        text-align: right;\n",
              "    }\n",
              "</style>\n",
              "<table border=\"1\" class=\"dataframe\">\n",
              "  <thead>\n",
              "    <tr style=\"text-align: right;\">\n",
              "      <th></th>\n",
              "      <th>Idade</th>\n",
              "      <th>Genero</th>\n",
              "      <th>Cor/raca/etnia</th>\n",
              "      <th>PCD</th>\n",
              "      <th>UF</th>\n",
              "      <th>Regiao onde mora</th>\n",
              "      <th>Nivel de Ensino</th>\n",
              "      <th>Area de Formação</th>\n",
              "      <th>Situação atual de Trabalho</th>\n",
              "      <th>Setor</th>\n",
              "      <th>Cargo</th>\n",
              "      <th>Nivel</th>\n",
              "      <th>Forma de Trabalho</th>\n",
              "      <th>Atuação</th>\n",
              "      <th>progressao_prejudicada</th>\n",
              "    </tr>\n",
              "  </thead>\n",
              "  <tbody>\n",
              "    <tr>\n",
              "      <th>2</th>\n",
              "      <td>37</td>\n",
              "      <td>1</td>\n",
              "      <td>2</td>\n",
              "      <td>0</td>\n",
              "      <td>24</td>\n",
              "      <td>2</td>\n",
              "      <td>2</td>\n",
              "      <td>0</td>\n",
              "      <td>0</td>\n",
              "      <td>19</td>\n",
              "      <td>0</td>\n",
              "      <td>0</td>\n",
              "      <td>0</td>\n",
              "      <td>0</td>\n",
              "      <td>0</td>\n",
              "    </tr>\n",
              "    <tr>\n",
              "      <th>10</th>\n",
              "      <td>25</td>\n",
              "      <td>0</td>\n",
              "      <td>1</td>\n",
              "      <td>1</td>\n",
              "      <td>25</td>\n",
              "      <td>1</td>\n",
              "      <td>1</td>\n",
              "      <td>0</td>\n",
              "      <td>0</td>\n",
              "      <td>19</td>\n",
              "      <td>1</td>\n",
              "      <td>0</td>\n",
              "      <td>1</td>\n",
              "      <td>1</td>\n",
              "      <td>0</td>\n",
              "    </tr>\n",
              "    <tr>\n",
              "      <th>12</th>\n",
              "      <td>32</td>\n",
              "      <td>1</td>\n",
              "      <td>1</td>\n",
              "      <td>0</td>\n",
              "      <td>20</td>\n",
              "      <td>3</td>\n",
              "      <td>3</td>\n",
              "      <td>1</td>\n",
              "      <td>0</td>\n",
              "      <td>3</td>\n",
              "      <td>16</td>\n",
              "      <td>1</td>\n",
              "      <td>2</td>\n",
              "      <td>3</td>\n",
              "      <td>0</td>\n",
              "    </tr>\n",
              "    <tr>\n",
              "      <th>16</th>\n",
              "      <td>29</td>\n",
              "      <td>1</td>\n",
              "      <td>0</td>\n",
              "      <td>0</td>\n",
              "      <td>18</td>\n",
              "      <td>2</td>\n",
              "      <td>2</td>\n",
              "      <td>2</td>\n",
              "      <td>6</td>\n",
              "      <td>19</td>\n",
              "      <td>0</td>\n",
              "      <td>1</td>\n",
              "      <td>2</td>\n",
              "      <td>1</td>\n",
              "      <td>1</td>\n",
              "    </tr>\n",
              "    <tr>\n",
              "      <th>17</th>\n",
              "      <td>29</td>\n",
              "      <td>1</td>\n",
              "      <td>5</td>\n",
              "      <td>0</td>\n",
              "      <td>12</td>\n",
              "      <td>2</td>\n",
              "      <td>4</td>\n",
              "      <td>3</td>\n",
              "      <td>0</td>\n",
              "      <td>3</td>\n",
              "      <td>4</td>\n",
              "      <td>0</td>\n",
              "      <td>2</td>\n",
              "      <td>1</td>\n",
              "      <td>1</td>\n",
              "    </tr>\n",
              "    <tr>\n",
              "      <th>...</th>\n",
              "      <td>...</td>\n",
              "      <td>...</td>\n",
              "      <td>...</td>\n",
              "      <td>...</td>\n",
              "      <td>...</td>\n",
              "      <td>...</td>\n",
              "      <td>...</td>\n",
              "      <td>...</td>\n",
              "      <td>...</td>\n",
              "      <td>...</td>\n",
              "      <td>...</td>\n",
              "      <td>...</td>\n",
              "      <td>...</td>\n",
              "      <td>...</td>\n",
              "      <td>...</td>\n",
              "    </tr>\n",
              "    <tr>\n",
              "      <th>5259</th>\n",
              "      <td>27</td>\n",
              "      <td>1</td>\n",
              "      <td>3</td>\n",
              "      <td>0</td>\n",
              "      <td>24</td>\n",
              "      <td>2</td>\n",
              "      <td>1</td>\n",
              "      <td>7</td>\n",
              "      <td>0</td>\n",
              "      <td>10</td>\n",
              "      <td>0</td>\n",
              "      <td>2</td>\n",
              "      <td>2</td>\n",
              "      <td>1</td>\n",
              "      <td>1</td>\n",
              "    </tr>\n",
              "    <tr>\n",
              "      <th>5269</th>\n",
              "      <td>34</td>\n",
              "      <td>0</td>\n",
              "      <td>3</td>\n",
              "      <td>0</td>\n",
              "      <td>24</td>\n",
              "      <td>2</td>\n",
              "      <td>3</td>\n",
              "      <td>1</td>\n",
              "      <td>0</td>\n",
              "      <td>19</td>\n",
              "      <td>0</td>\n",
              "      <td>1</td>\n",
              "      <td>1</td>\n",
              "      <td>0</td>\n",
              "      <td>0</td>\n",
              "    </tr>\n",
              "    <tr>\n",
              "      <th>5270</th>\n",
              "      <td>36</td>\n",
              "      <td>1</td>\n",
              "      <td>0</td>\n",
              "      <td>1</td>\n",
              "      <td>12</td>\n",
              "      <td>2</td>\n",
              "      <td>5</td>\n",
              "      <td>4</td>\n",
              "      <td>0</td>\n",
              "      <td>19</td>\n",
              "      <td>0</td>\n",
              "      <td>2</td>\n",
              "      <td>0</td>\n",
              "      <td>0</td>\n",
              "      <td>1</td>\n",
              "    </tr>\n",
              "    <tr>\n",
              "      <th>5274</th>\n",
              "      <td>31</td>\n",
              "      <td>0</td>\n",
              "      <td>1</td>\n",
              "      <td>0</td>\n",
              "      <td>16</td>\n",
              "      <td>1</td>\n",
              "      <td>3</td>\n",
              "      <td>0</td>\n",
              "      <td>1</td>\n",
              "      <td>3</td>\n",
              "      <td>6</td>\n",
              "      <td>2</td>\n",
              "      <td>2</td>\n",
              "      <td>2</td>\n",
              "      <td>1</td>\n",
              "    </tr>\n",
              "    <tr>\n",
              "      <th>5279</th>\n",
              "      <td>36</td>\n",
              "      <td>1</td>\n",
              "      <td>3</td>\n",
              "      <td>0</td>\n",
              "      <td>24</td>\n",
              "      <td>2</td>\n",
              "      <td>3</td>\n",
              "      <td>1</td>\n",
              "      <td>0</td>\n",
              "      <td>11</td>\n",
              "      <td>0</td>\n",
              "      <td>1</td>\n",
              "      <td>0</td>\n",
              "      <td>1</td>\n",
              "      <td>1</td>\n",
              "    </tr>\n",
              "  </tbody>\n",
              "</table>\n",
              "<p>887 rows × 15 columns</p>\n",
              "</div>\n",
              "    <div class=\"colab-df-buttons\">\n",
              "\n",
              "  <div class=\"colab-df-container\">\n",
              "    <button class=\"colab-df-convert\" onclick=\"convertToInteractive('df-a9eaeb77-17f3-47d4-8af0-af695e559a61')\"\n",
              "            title=\"Convert this dataframe to an interactive table.\"\n",
              "            style=\"display:none;\">\n",
              "\n",
              "  <svg xmlns=\"http://www.w3.org/2000/svg\" height=\"24px\" viewBox=\"0 -960 960 960\">\n",
              "    <path d=\"M120-120v-720h720v720H120Zm60-500h600v-160H180v160Zm220 220h160v-160H400v160Zm0 220h160v-160H400v160ZM180-400h160v-160H180v160Zm440 0h160v-160H620v160ZM180-180h160v-160H180v160Zm440 0h160v-160H620v160Z\"/>\n",
              "  </svg>\n",
              "    </button>\n",
              "\n",
              "  <style>\n",
              "    .colab-df-container {\n",
              "      display:flex;\n",
              "      gap: 12px;\n",
              "    }\n",
              "\n",
              "    .colab-df-convert {\n",
              "      background-color: #E8F0FE;\n",
              "      border: none;\n",
              "      border-radius: 50%;\n",
              "      cursor: pointer;\n",
              "      display: none;\n",
              "      fill: #1967D2;\n",
              "      height: 32px;\n",
              "      padding: 0 0 0 0;\n",
              "      width: 32px;\n",
              "    }\n",
              "\n",
              "    .colab-df-convert:hover {\n",
              "      background-color: #E2EBFA;\n",
              "      box-shadow: 0px 1px 2px rgba(60, 64, 67, 0.3), 0px 1px 3px 1px rgba(60, 64, 67, 0.15);\n",
              "      fill: #174EA6;\n",
              "    }\n",
              "\n",
              "    .colab-df-buttons div {\n",
              "      margin-bottom: 4px;\n",
              "    }\n",
              "\n",
              "    [theme=dark] .colab-df-convert {\n",
              "      background-color: #3B4455;\n",
              "      fill: #D2E3FC;\n",
              "    }\n",
              "\n",
              "    [theme=dark] .colab-df-convert:hover {\n",
              "      background-color: #434B5C;\n",
              "      box-shadow: 0px 1px 3px 1px rgba(0, 0, 0, 0.15);\n",
              "      filter: drop-shadow(0px 1px 2px rgba(0, 0, 0, 0.3));\n",
              "      fill: #FFFFFF;\n",
              "    }\n",
              "  </style>\n",
              "\n",
              "    <script>\n",
              "      const buttonEl =\n",
              "        document.querySelector('#df-a9eaeb77-17f3-47d4-8af0-af695e559a61 button.colab-df-convert');\n",
              "      buttonEl.style.display =\n",
              "        google.colab.kernel.accessAllowed ? 'block' : 'none';\n",
              "\n",
              "      async function convertToInteractive(key) {\n",
              "        const element = document.querySelector('#df-a9eaeb77-17f3-47d4-8af0-af695e559a61');\n",
              "        const dataTable =\n",
              "          await google.colab.kernel.invokeFunction('convertToInteractive',\n",
              "                                                    [key], {});\n",
              "        if (!dataTable) return;\n",
              "\n",
              "        const docLinkHtml = 'Like what you see? Visit the ' +\n",
              "          '<a target=\"_blank\" href=https://colab.research.google.com/notebooks/data_table.ipynb>data table notebook</a>'\n",
              "          + ' to learn more about interactive tables.';\n",
              "        element.innerHTML = '';\n",
              "        dataTable['output_type'] = 'display_data';\n",
              "        await google.colab.output.renderOutput(dataTable, element);\n",
              "        const docLink = document.createElement('div');\n",
              "        docLink.innerHTML = docLinkHtml;\n",
              "        element.appendChild(docLink);\n",
              "      }\n",
              "    </script>\n",
              "  </div>\n",
              "\n",
              "\n",
              "    <div id=\"df-35f55a2a-dae3-4e6d-89e8-83cfab74c2f4\">\n",
              "      <button class=\"colab-df-quickchart\" onclick=\"quickchart('df-35f55a2a-dae3-4e6d-89e8-83cfab74c2f4')\"\n",
              "                title=\"Suggest charts\"\n",
              "                style=\"display:none;\">\n",
              "\n",
              "<svg xmlns=\"http://www.w3.org/2000/svg\" height=\"24px\"viewBox=\"0 0 24 24\"\n",
              "     width=\"24px\">\n",
              "    <g>\n",
              "        <path d=\"M19 3H5c-1.1 0-2 .9-2 2v14c0 1.1.9 2 2 2h14c1.1 0 2-.9 2-2V5c0-1.1-.9-2-2-2zM9 17H7v-7h2v7zm4 0h-2V7h2v10zm4 0h-2v-4h2v4z\"/>\n",
              "    </g>\n",
              "</svg>\n",
              "      </button>\n",
              "\n",
              "<style>\n",
              "  .colab-df-quickchart {\n",
              "      --bg-color: #E8F0FE;\n",
              "      --fill-color: #1967D2;\n",
              "      --hover-bg-color: #E2EBFA;\n",
              "      --hover-fill-color: #174EA6;\n",
              "      --disabled-fill-color: #AAA;\n",
              "      --disabled-bg-color: #DDD;\n",
              "  }\n",
              "\n",
              "  [theme=dark] .colab-df-quickchart {\n",
              "      --bg-color: #3B4455;\n",
              "      --fill-color: #D2E3FC;\n",
              "      --hover-bg-color: #434B5C;\n",
              "      --hover-fill-color: #FFFFFF;\n",
              "      --disabled-bg-color: #3B4455;\n",
              "      --disabled-fill-color: #666;\n",
              "  }\n",
              "\n",
              "  .colab-df-quickchart {\n",
              "    background-color: var(--bg-color);\n",
              "    border: none;\n",
              "    border-radius: 50%;\n",
              "    cursor: pointer;\n",
              "    display: none;\n",
              "    fill: var(--fill-color);\n",
              "    height: 32px;\n",
              "    padding: 0;\n",
              "    width: 32px;\n",
              "  }\n",
              "\n",
              "  .colab-df-quickchart:hover {\n",
              "    background-color: var(--hover-bg-color);\n",
              "    box-shadow: 0 1px 2px rgba(60, 64, 67, 0.3), 0 1px 3px 1px rgba(60, 64, 67, 0.15);\n",
              "    fill: var(--button-hover-fill-color);\n",
              "  }\n",
              "\n",
              "  .colab-df-quickchart-complete:disabled,\n",
              "  .colab-df-quickchart-complete:disabled:hover {\n",
              "    background-color: var(--disabled-bg-color);\n",
              "    fill: var(--disabled-fill-color);\n",
              "    box-shadow: none;\n",
              "  }\n",
              "\n",
              "  .colab-df-spinner {\n",
              "    border: 2px solid var(--fill-color);\n",
              "    border-color: transparent;\n",
              "    border-bottom-color: var(--fill-color);\n",
              "    animation:\n",
              "      spin 1s steps(1) infinite;\n",
              "  }\n",
              "\n",
              "  @keyframes spin {\n",
              "    0% {\n",
              "      border-color: transparent;\n",
              "      border-bottom-color: var(--fill-color);\n",
              "      border-left-color: var(--fill-color);\n",
              "    }\n",
              "    20% {\n",
              "      border-color: transparent;\n",
              "      border-left-color: var(--fill-color);\n",
              "      border-top-color: var(--fill-color);\n",
              "    }\n",
              "    30% {\n",
              "      border-color: transparent;\n",
              "      border-left-color: var(--fill-color);\n",
              "      border-top-color: var(--fill-color);\n",
              "      border-right-color: var(--fill-color);\n",
              "    }\n",
              "    40% {\n",
              "      border-color: transparent;\n",
              "      border-right-color: var(--fill-color);\n",
              "      border-top-color: var(--fill-color);\n",
              "    }\n",
              "    60% {\n",
              "      border-color: transparent;\n",
              "      border-right-color: var(--fill-color);\n",
              "    }\n",
              "    80% {\n",
              "      border-color: transparent;\n",
              "      border-right-color: var(--fill-color);\n",
              "      border-bottom-color: var(--fill-color);\n",
              "    }\n",
              "    90% {\n",
              "      border-color: transparent;\n",
              "      border-bottom-color: var(--fill-color);\n",
              "    }\n",
              "  }\n",
              "</style>\n",
              "\n",
              "      <script>\n",
              "        async function quickchart(key) {\n",
              "          const quickchartButtonEl =\n",
              "            document.querySelector('#' + key + ' button');\n",
              "          quickchartButtonEl.disabled = true;  // To prevent multiple clicks.\n",
              "          quickchartButtonEl.classList.add('colab-df-spinner');\n",
              "          try {\n",
              "            const charts = await google.colab.kernel.invokeFunction(\n",
              "                'suggestCharts', [key], {});\n",
              "          } catch (error) {\n",
              "            console.error('Error during call to suggestCharts:', error);\n",
              "          }\n",
              "          quickchartButtonEl.classList.remove('colab-df-spinner');\n",
              "          quickchartButtonEl.classList.add('colab-df-quickchart-complete');\n",
              "        }\n",
              "        (() => {\n",
              "          let quickchartButtonEl =\n",
              "            document.querySelector('#df-35f55a2a-dae3-4e6d-89e8-83cfab74c2f4 button');\n",
              "          quickchartButtonEl.style.display =\n",
              "            google.colab.kernel.accessAllowed ? 'block' : 'none';\n",
              "        })();\n",
              "      </script>\n",
              "    </div>\n",
              "\n",
              "  <div id=\"id_28fe0ba0-a6d6-4510-95a9-b9c242fe4111\">\n",
              "    <style>\n",
              "      .colab-df-generate {\n",
              "        background-color: #E8F0FE;\n",
              "        border: none;\n",
              "        border-radius: 50%;\n",
              "        cursor: pointer;\n",
              "        display: none;\n",
              "        fill: #1967D2;\n",
              "        height: 32px;\n",
              "        padding: 0 0 0 0;\n",
              "        width: 32px;\n",
              "      }\n",
              "\n",
              "      .colab-df-generate:hover {\n",
              "        background-color: #E2EBFA;\n",
              "        box-shadow: 0px 1px 2px rgba(60, 64, 67, 0.3), 0px 1px 3px 1px rgba(60, 64, 67, 0.15);\n",
              "        fill: #174EA6;\n",
              "      }\n",
              "\n",
              "      [theme=dark] .colab-df-generate {\n",
              "        background-color: #3B4455;\n",
              "        fill: #D2E3FC;\n",
              "      }\n",
              "\n",
              "      [theme=dark] .colab-df-generate:hover {\n",
              "        background-color: #434B5C;\n",
              "        box-shadow: 0px 1px 3px 1px rgba(0, 0, 0, 0.15);\n",
              "        filter: drop-shadow(0px 1px 2px rgba(0, 0, 0, 0.3));\n",
              "        fill: #FFFFFF;\n",
              "      }\n",
              "    </style>\n",
              "    <button class=\"colab-df-generate\" onclick=\"generateWithVariable('base')\"\n",
              "            title=\"Generate code using this dataframe.\"\n",
              "            style=\"display:none;\">\n",
              "\n",
              "  <svg xmlns=\"http://www.w3.org/2000/svg\" height=\"24px\"viewBox=\"0 0 24 24\"\n",
              "       width=\"24px\">\n",
              "    <path d=\"M7,19H8.4L18.45,9,17,7.55,7,17.6ZM5,21V16.75L18.45,3.32a2,2,0,0,1,2.83,0l1.4,1.43a1.91,1.91,0,0,1,.58,1.4,1.91,1.91,0,0,1-.58,1.4L9.25,21ZM18.45,9,17,7.55Zm-12,3A5.31,5.31,0,0,0,4.9,8.1,5.31,5.31,0,0,0,1,6.5,5.31,5.31,0,0,0,4.9,4.9,5.31,5.31,0,0,0,6.5,1,5.31,5.31,0,0,0,8.1,4.9,5.31,5.31,0,0,0,12,6.5,5.46,5.46,0,0,0,6.5,12Z\"/>\n",
              "  </svg>\n",
              "    </button>\n",
              "    <script>\n",
              "      (() => {\n",
              "      const buttonEl =\n",
              "        document.querySelector('#id_28fe0ba0-a6d6-4510-95a9-b9c242fe4111 button.colab-df-generate');\n",
              "      buttonEl.style.display =\n",
              "        google.colab.kernel.accessAllowed ? 'block' : 'none';\n",
              "\n",
              "      buttonEl.onclick = () => {\n",
              "        google.colab.notebook.generateWithVariable('base');\n",
              "      }\n",
              "      })();\n",
              "    </script>\n",
              "  </div>\n",
              "\n",
              "    </div>\n",
              "  </div>\n"
            ],
            "application/vnd.google.colaboratory.intrinsic+json": {
              "type": "dataframe",
              "variable_name": "base",
              "repr_error": "0"
            }
          },
          "metadata": {},
          "execution_count": 28
        }
      ]
    },
    {
      "cell_type": "markdown",
      "source": [
        "### Conversão de todos os atributos para inteiro"
      ],
      "metadata": {
        "id": "QGaIRUYGTkFR"
      }
    },
    {
      "cell_type": "code",
      "source": [
        "base['Genero'] = base['Genero'].astype(int)"
      ],
      "metadata": {
        "id": "b14vRf9o6xKi"
      },
      "execution_count": 29,
      "outputs": []
    },
    {
      "cell_type": "code",
      "source": [
        "base['Cor/raca/etnia'] = base['Cor/raca/etnia'].astype(int)"
      ],
      "metadata": {
        "id": "6D9V7zVL61sy"
      },
      "execution_count": 30,
      "outputs": []
    },
    {
      "cell_type": "code",
      "source": [
        "base['PCD'] = base['PCD'].astype(int)"
      ],
      "metadata": {
        "id": "Kt-o-yZL61eO"
      },
      "execution_count": 31,
      "outputs": []
    },
    {
      "cell_type": "code",
      "source": [
        "base['UF'] = base['UF'].astype(int)"
      ],
      "metadata": {
        "id": "191Swmsb61Q2"
      },
      "execution_count": 32,
      "outputs": []
    },
    {
      "cell_type": "code",
      "source": [
        "base['Regiao onde mora'] = base['Regiao onde mora'].astype(int)"
      ],
      "metadata": {
        "id": "FSfyNge761Ak"
      },
      "execution_count": 33,
      "outputs": []
    },
    {
      "cell_type": "code",
      "source": [
        "base['Nivel de Ensino'] = base['Nivel de Ensino'].astype(int)"
      ],
      "metadata": {
        "id": "sUS2BILc60we"
      },
      "execution_count": 34,
      "outputs": []
    },
    {
      "cell_type": "code",
      "source": [
        "base['Area de Formação'] = base['Area de Formação'].astype(int)"
      ],
      "metadata": {
        "id": "C6PPglJN60fQ"
      },
      "execution_count": 35,
      "outputs": []
    },
    {
      "cell_type": "code",
      "source": [
        "base['Situação atual de Trabalho'] = base['Situação atual de Trabalho'].astype(int)"
      ],
      "metadata": {
        "id": "l9V_uQ8k60Ly"
      },
      "execution_count": 36,
      "outputs": []
    },
    {
      "cell_type": "code",
      "source": [
        "base['Setor'] = base['Setor'].astype(int)"
      ],
      "metadata": {
        "id": "YoZhuDdV6z4s"
      },
      "execution_count": 37,
      "outputs": []
    },
    {
      "cell_type": "code",
      "source": [
        "base['Nivel'] = base['Nivel'].astype(int)"
      ],
      "metadata": {
        "id": "41nfuuVD6znP"
      },
      "execution_count": 38,
      "outputs": []
    },
    {
      "cell_type": "code",
      "source": [
        "base['Cargo'] = base['Cargo'].astype(int)"
      ],
      "metadata": {
        "id": "fnQhcCNo6zTO"
      },
      "execution_count": 39,
      "outputs": []
    },
    {
      "cell_type": "code",
      "source": [
        "base['Forma de Trabalho'] = base['Forma de Trabalho'].astype(int)"
      ],
      "metadata": {
        "id": "26FrkvqN6y8A"
      },
      "execution_count": 40,
      "outputs": []
    },
    {
      "cell_type": "code",
      "source": [
        "base['Atuação'] = base['progressao_prejudicada'].astype(int)"
      ],
      "metadata": {
        "id": "K_YDg66W6yhC"
      },
      "execution_count": 41,
      "outputs": []
    },
    {
      "cell_type": "code",
      "source": [
        "base.info()"
      ],
      "metadata": {
        "id": "HjRAHgK67d4I",
        "colab": {
          "base_uri": "https://localhost:8080/"
        },
        "outputId": "b0500518-8449-48b0-9c60-74048c929af8"
      },
      "execution_count": 42,
      "outputs": [
        {
          "output_type": "stream",
          "name": "stdout",
          "text": [
            "<class 'pandas.core.frame.DataFrame'>\n",
            "Index: 887 entries, 2 to 5279\n",
            "Data columns (total 15 columns):\n",
            " #   Column                      Non-Null Count  Dtype\n",
            "---  ------                      --------------  -----\n",
            " 0   Idade                       887 non-null    int64\n",
            " 1   Genero                      887 non-null    int64\n",
            " 2   Cor/raca/etnia              887 non-null    int64\n",
            " 3   PCD                         887 non-null    int64\n",
            " 4   UF                          887 non-null    int64\n",
            " 5   Regiao onde mora            887 non-null    int64\n",
            " 6   Nivel de Ensino             887 non-null    int64\n",
            " 7   Area de Formação            887 non-null    int64\n",
            " 8   Situação atual de Trabalho  887 non-null    int64\n",
            " 9   Setor                       887 non-null    int64\n",
            " 10  Cargo                       887 non-null    int64\n",
            " 11  Nivel                       887 non-null    int64\n",
            " 12  Forma de Trabalho           887 non-null    int64\n",
            " 13  Atuação                     887 non-null    int64\n",
            " 14  progressao_prejudicada      887 non-null    int64\n",
            "dtypes: int64(15)\n",
            "memory usage: 143.2 KB\n"
          ]
        }
      ]
    },
    {
      "cell_type": "code",
      "source": [
        "base.to_csv('/content/drive/MyDrive/PCD1/assets/data/bases_modificadas/State_of_Data_dados_tratados.csv', index=False)"
      ],
      "metadata": {
        "id": "Nvs7DXzg2ewW"
      },
      "execution_count": 43,
      "outputs": []
    }
  ]
}